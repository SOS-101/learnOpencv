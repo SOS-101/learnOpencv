{
 "cells": [
  {
   "cell_type": "markdown",
   "metadata": {},
   "source": [
    "# 导入所需模块"
   ]
  },
  {
   "cell_type": "code",
   "execution_count": 1,
   "metadata": {},
   "outputs": [],
   "source": [
    "import cv2\n",
    "import numpy as np"
   ]
  },
  {
   "cell_type": "markdown",
   "metadata": {},
   "source": [
    "在尽量保留图像原有信息的情况下，过滤掉图像内部的噪声，这一过程称为对图像的平滑处理，所得的图像称为平滑图像。  \n",
    "图像模糊处理  \n",
    "图像滤波  \n",
    "# 均值滤波\n",
    "均值滤波是指用当前像素点周围N·N个像素值的均值来代替当前像素值。  \n",
    "通过函数 `cv2.blur()`实现  "
   ]
  },
  {
   "cell_type": "code",
   "execution_count": 2,
   "metadata": {},
   "outputs": [],
   "source": [
    "o = cv2.imread(\"./images/lenaNoise.png\")\n",
    "r = cv2.blur(o,(5,5))\n",
    "cv2.imshow(\"original\",o)\n",
    "cv2.imshow(\"result\",r)\n",
    "cv2.waitKey()\n",
    "cv2.destroyAllWindows()"
   ]
  },
  {
   "cell_type": "code",
   "execution_count": 4,
   "metadata": {},
   "outputs": [],
   "source": [
    "o = cv2.imread(\"./images/lenaNoise.png\")\n",
    "r2 = cv2.blur(o,(2,2))\n",
    "r5 = cv2.blur(o,(5,5))\n",
    "r30 = cv2.blur(o,(30,30))\n",
    "cv2.imshow(\"original\",o)\n",
    "cv2.imshow(\"result2\",r2)\n",
    "cv2.imshow(\"result5\",r5)\n",
    "cv2.imshow(\"result30\",r30)\n",
    "cv2.waitKey()\n",
    "cv2.destroyAllWindows()"
   ]
  },
  {
   "cell_type": "markdown",
   "metadata": {},
   "source": [
    "# 方框滤波\n",
    "使用函数 `cv2.boxFilter()`实现  "
   ]
  },
  {
   "cell_type": "code",
   "execution_count": 5,
   "metadata": {},
   "outputs": [],
   "source": [
    "o = cv2.imread(\"./images/lenaNoise.png\")\n",
    "r = cv2.boxFilter(o,-1,(5,5))\n",
    "cv2.imshow(\"original\",o)\n",
    "cv2.imshow(\"result\",r)\n",
    "cv2.waitKey()\n",
    "cv2.destroyAllWindows()"
   ]
  },
  {
   "cell_type": "code",
   "execution_count": 6,
   "metadata": {},
   "outputs": [],
   "source": [
    "o = cv2.imread(\"./images/lenaNoise.png\")\n",
    "r = cv2.boxFilter(o,-1,(5,5),normalize=0)\n",
    "cv2.imshow(\"original\",o)\n",
    "cv2.imshow(\"result\",r)\n",
    "cv2.waitKey()\n",
    "cv2.destroyAllWindows()"
   ]
  },
  {
   "cell_type": "code",
   "execution_count": 7,
   "metadata": {},
   "outputs": [],
   "source": [
    "o = cv2.imread(\"./images/lenaNoise.png\")\n",
    "r = cv2.boxFilter(o,-1,(2,2),normalize=0)\n",
    "cv2.imshow(\"original\",o)\n",
    "cv2.imshow(\"result\",r)\n",
    "cv2.waitKey()\n",
    "cv2.destroyAllWindows()"
   ]
  },
  {
   "cell_type": "markdown",
   "metadata": {},
   "source": [
    "# 高斯滤波\n",
    "在高斯滤波中，会将中心点的权重值加大，远离中心点的权重值减小，在此基础上计算邻域内各个像素值不同权重的和。  \n",
    "使用函数 `cv2.GaussianBlur()`"
   ]
  },
  {
   "cell_type": "code",
   "execution_count": 8,
   "metadata": {},
   "outputs": [],
   "source": [
    "o = cv2.imread(\"./images/lenaNoise.png\")\n",
    "r = cv2.GaussianBlur(o,(5,5),0,0)\n",
    "cv2.imshow(\"original\",o)\n",
    "cv2.imshow(\"result\",r)\n",
    "cv2.waitKey()\n",
    "cv2.destroyAllWindows()"
   ]
  },
  {
   "cell_type": "markdown",
   "metadata": {},
   "source": [
    "# 中值滤波\n",
    "它用邻域内所有像素值的中间值来替代当前像素点的像素值。   \n",
    "使用函数 `cv2.medianBlur()`"
   ]
  },
  {
   "cell_type": "code",
   "execution_count": 9,
   "metadata": {},
   "outputs": [],
   "source": [
    "o = cv2.imread(\"./images/lenaNoise.png\")\n",
    "r = cv2.medianBlur(o,3)\n",
    "cv2.imshow(\"original\",o)\n",
    "cv2.imshow(\"result\",r)\n",
    "cv2.waitKey()\n",
    "cv2.destroyAllWindows()"
   ]
  },
  {
   "cell_type": "markdown",
   "metadata": {},
   "source": [
    "# 双边滤波\n",
    "双边滤波是综合考虑空间信息和色彩信息的滤波方式，在滤波过程中能够有效地保护图像内的边缘信息。  \n",
    "使用函数 `cv2.bilateralFilter()`"
   ]
  },
  {
   "cell_type": "code",
   "execution_count": 10,
   "metadata": {},
   "outputs": [],
   "source": [
    "o = cv2.imread(\"./images/lenaNoise.png\")\n",
    "r = cv2.bilateralFilter(o,25,100,100)\n",
    "cv2.imshow(\"original\",o)\n",
    "cv2.imshow(\"result\",r)\n",
    "cv2.waitKey()\n",
    "cv2.destroyAllWindows()"
   ]
  },
  {
   "cell_type": "code",
   "execution_count": 12,
   "metadata": {},
   "outputs": [],
   "source": [
    "o = cv2.imread(\"./images/bilTest.bmp\")\n",
    "g = cv2.GaussianBlur(o,(5,5),0,0)\n",
    "r = cv2.bilateralFilter(o,25,100,100)\n",
    "cv2.imshow(\"original\",o)\n",
    "cv2.imshow(\"resultr\",r)\n",
    "cv2.imshow(\"resultg\",g)\n",
    "cv2.waitKey()\n",
    "cv2.destroyAllWindows()"
   ]
  },
  {
   "cell_type": "markdown",
   "metadata": {},
   "source": [
    "# 2D卷积\n",
    "在OpenCV中，允许用户自定义卷积核实现卷积操作，使用自定义卷积核实现卷积操作的函数是 `cv2.filter2D() `  "
   ]
  },
  {
   "cell_type": "code",
   "execution_count": null,
   "metadata": {},
   "outputs": [],
   "source": [
    "img = cv2.imread(\"./images/lena.bmp\")\n",
    "kernel = np.ones((9,9),np.float32)/81\n",
    "r = cv2.filter2D(img,-1,kernel)\n",
    "cv2.imshow(\"original\",img)\n",
    "cv2.imshow(\"Gaussian\",r)\n",
    "cv2.waitKey()\n",
    "cv2.destroyAllWindows()"
   ]
  }
 ],
 "metadata": {
  "interpreter": {
   "hash": "b636742cd7447c915110da4af08d48b478a44c23413a0d42f0e6f825f6094b71"
  },
  "kernelspec": {
   "display_name": "Python 3.9.7 64-bit ('taocv': conda)",
   "name": "python3"
  },
  "language_info": {
   "codemirror_mode": {
    "name": "ipython",
    "version": 3
   },
   "file_extension": ".py",
   "mimetype": "text/x-python",
   "name": "python",
   "nbconvert_exporter": "python",
   "pygments_lexer": "ipython3",
   "version": "3.9.7"
  },
  "orig_nbformat": 4
 },
 "nbformat": 4,
 "nbformat_minor": 2
}
