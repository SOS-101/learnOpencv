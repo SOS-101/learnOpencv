{
 "cells": [
  {
   "cell_type": "markdown",
   "metadata": {},
   "source": [
    "# 导入所需模块"
   ]
  },
  {
   "cell_type": "code",
   "execution_count": 1,
   "metadata": {},
   "outputs": [],
   "source": [
    "import cv2\n",
    "import numpy as np\n"
   ]
  },
  {
   "cell_type": "markdown",
   "metadata": {},
   "source": [
    "阈值处理是指剔除图像内像素值高于一定值或者低于一定值的像素点。  \n",
    "opencv提供了函数 `cv2.threshold()`和函数 `cv2.adaptiveThreshold()`来进行阈值处理  \n",
    "# threshold函数\n",
    "## 二值化阈值处理（cv2.THRESH_BINARY）\n"
   ]
  },
  {
   "cell_type": "code",
   "execution_count": 2,
   "metadata": {},
   "outputs": [],
   "source": [
    "img = cv2.imread(\"./images/lena.bmp\")\n",
    "t,rst = cv2.threshold(img,127,255,cv2.THRESH_BINARY)\n",
    "cv2.imshow(\"img\",img)\n",
    "cv2.imshow(\"rst\",rst)\n",
    "cv2.waitKey()\n",
    "cv2.destroyAllWindows()"
   ]
  },
  {
   "cell_type": "markdown",
   "metadata": {},
   "source": [
    "## 反二值化阈值处理（cv2.THRESH_BINARY_INV）"
   ]
  },
  {
   "cell_type": "code",
   "execution_count": 3,
   "metadata": {},
   "outputs": [],
   "source": [
    "img = cv2.imread('./images/lena.bmp')\n",
    "t,rst = cv2.threshold(img,127,255,cv2.THRESH_BINARY_INV)\n",
    "cv2.imshow(\"img\",img)\n",
    "cv2.imshow(\"rst\",rst)\n",
    "cv2.waitKey()\n",
    "cv2.destroyAllWindows()"
   ]
  },
  {
   "cell_type": "markdown",
   "metadata": {},
   "source": [
    "## 截断阈值化处理（cv2.THRESH_TRUNC）"
   ]
  },
  {
   "cell_type": "code",
   "execution_count": 4,
   "metadata": {},
   "outputs": [],
   "source": [
    "img = cv2.imread(\"./images/lena.bmp\")\n",
    "t,rst = cv2.threshold(img,127,255,cv2.THRESH_TRUNC)\n",
    "cv2.imshow(\"img\",img)\n",
    "cv2.imshow(\"rst\",rst)\n",
    "cv2.waitKey()\n",
    "cv2.destroyAllWindows()"
   ]
  },
  {
   "cell_type": "markdown",
   "metadata": {},
   "source": [
    "## 超阈值零处理（cv2.THRESH_TOZERO_INV）"
   ]
  },
  {
   "cell_type": "code",
   "execution_count": 5,
   "metadata": {},
   "outputs": [],
   "source": [
    "img = cv2.imread(\"./images/lena.bmp\")\n",
    "t,rst = cv2.threshold(img,127,255,cv2.THRESH_TOZERO_INV)\n",
    "cv2.imshow(\"img\",img)\n",
    "cv2.imshow(\"rst\",rst)\n",
    "cv2.waitKey()\n",
    "cv2.destroyAllWindows()"
   ]
  },
  {
   "cell_type": "markdown",
   "metadata": {},
   "source": [
    "## 低阈值零处理（cv2.THRESH_TOZERO）"
   ]
  },
  {
   "cell_type": "code",
   "execution_count": 6,
   "metadata": {},
   "outputs": [],
   "source": [
    "img = cv2.imread(\"./images/lena.bmp\")\n",
    "t,rst = cv2.threshold(img,127,255,cv2.THRESH_TOZERO)\n",
    "cv2.imshow(\"img\",img)\n",
    "cv2.imshow(\"rst\",rst)\n",
    "cv2.waitKey()\n",
    "cv2.destroyAllWindows()"
   ]
  },
  {
   "cell_type": "markdown",
   "metadata": {},
   "source": [
    "# 自适应阈值处理\n",
    "有一种改进的阈值处理技术，其使用变化的阈值完成对图像的阈值处理，这种技术被称为自适应阈值处理。在进行阈值处理时，自适应阈值处理的方式通过计算每个像素点周围临近区域的加权平均值获得阈值，并使用该阈值对当前像素点进行处理。与普通的阈值处理方法相比，自适应阈值处理能够更好地处理明暗差异较大的图像。  \n",
    "通过函数 `cv2.adaptiveThreshold()`实现  "
   ]
  },
  {
   "cell_type": "code",
   "execution_count": 7,
   "metadata": {},
   "outputs": [],
   "source": [
    "img = cv2.imread(\"./images/computer.jpg\",0)\n",
    "t1,thd = cv2.threshold(img,127,255,cv2.THRESH_BINARY)\n",
    "athdMEAN = cv2.adaptiveThreshold(img,255,cv2.ADAPTIVE_THRESH_MEAN_C,cv2.THRESH_BINARY,5,3)\n",
    "athdGAUS = cv2.adaptiveThreshold(img,255,cv2.ADAPTIVE_THRESH_GAUSSIAN_C,cv2.THRESH_BINARY,5,3)\n",
    "cv2.imshow(\"img\",img)\n",
    "cv2.imshow(\"thd\",thd)\n",
    "cv2.imshow(\"athdMEAN\",athdMEAN)\n",
    "cv2.imshow(\"athdGAUS\",athdGAUS)\n",
    "cv2.waitKey()\n",
    "cv2.destroyAllWindows()"
   ]
  },
  {
   "cell_type": "markdown",
   "metadata": {},
   "source": [
    "# Otsu处理\n",
    "Otsu方法能够根据当前图像给出最佳的类间分割阈值。简而言之，Otsu方法会遍历所有可能阈值，从而找到最佳的阈值。  "
   ]
  },
  {
   "cell_type": "code",
   "execution_count": null,
   "metadata": {},
   "outputs": [],
   "source": [
    "img = cv2.imread(\"./images/tiffany.bmp\",0)\n",
    "t1, thd = cv2.threshold(img,127,255,cv2.THRESH_BINARY)\n",
    "t2, otsu = cv2.threshold(img,0,255,cv2.THRESH_BINARY+cv2.THRESH_OTSU)\n",
    "cv2.imshow(\"img\",img)\n",
    "cv2.imshow(\"thd\",thd)\n",
    "cv2.imshow(\"otsu\",otsu)\n",
    "cv2.waitKey()\n",
    "cv2.destroyAllWindows()"
   ]
  }
 ],
 "metadata": {
  "interpreter": {
   "hash": "b636742cd7447c915110da4af08d48b478a44c23413a0d42f0e6f825f6094b71"
  },
  "kernelspec": {
   "display_name": "Python 3.9.7 64-bit ('taocv': conda)",
   "name": "python3"
  },
  "language_info": {
   "codemirror_mode": {
    "name": "ipython",
    "version": 3
   },
   "file_extension": ".py",
   "mimetype": "text/x-python",
   "name": "python",
   "nbconvert_exporter": "python",
   "pygments_lexer": "ipython3",
   "version": "3.9.7"
  },
  "orig_nbformat": 4
 },
 "nbformat": 4,
 "nbformat_minor": 2
}
