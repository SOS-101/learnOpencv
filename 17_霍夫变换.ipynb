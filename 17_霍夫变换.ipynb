{
 "cells": [
  {
   "cell_type": "markdown",
   "metadata": {},
   "source": [
    "# 导入所需模块"
   ]
  },
  {
   "cell_type": "code",
   "execution_count": 1,
   "metadata": {},
   "outputs": [],
   "source": [
    "import numpy as np\n",
    "import cv2\n",
    "import matplotlib.pyplot as plt"
   ]
  },
  {
   "cell_type": "markdown",
   "metadata": {},
   "source": [
    "\n",
    "---\n",
    "\n",
    "霍夫变换是一种在图像中寻找直线、圆形以及其他简单形状的方法。霍夫变换采用类似于投票的方式来获取当前图像内的形状集合，该变换由Paul Hough（霍夫）于1962年首次提出。最初的霍夫变换只能用于检测直线，经过发展后，霍夫变换不仅能够识别直线，还能识别其他简单的图形结构，常见的有圆、椭圆等。\n",
    "\n",
    "霍夫直线变换用来在图像内寻找直线，霍夫圆变换用来在图像内寻找圆。在OpenCV中，前者可以用函数`cv2.HoughLines()`和函数`cv2.HoughLinesP()`实现，后者可以用函数`cv2.HoughCircles()`实现。\n",
    "\n",
    "# 霍夫直线变换\n",
    "## 霍夫变换原理\n",
    "## HoughLines函数\n",
    "OpenCV提供了函数`cv2.HoughLines()`用来实现霍夫直线变换，该函数要求所操作的源图像是一个二值图像，所以在进行霍夫变换之前要先将源图像进行二值化，或者进行Canny边缘检测。\n",
    "\n"
   ]
  },
  {
   "cell_type": "code",
   "execution_count": null,
   "metadata": {},
   "outputs": [],
   "source": [
    "img = cv2.imread('./images/computer.jpg')\n",
    "gray = cv2.cvtColor(img,cv2.COLOR_BGR2GRAY)\n",
    "edges = cv2.Canny(gray,50,150,apertureSize = 3)\n",
    "orgb=cv2.cvtColor(img,cv2.COLOR_BGR2RGB)\n",
    "oShow=orgb.copy()\n",
    "lines = cv2.HoughLines(edges,1,np.pi/180,140)\n",
    "for line in lines:\n",
    "    rho,theta = line[0]\n",
    "    a = np.cos(theta)\n",
    "    b = np.sin(theta)\n",
    "    x0 = a*rho\n",
    "    y0 = b*rho\n",
    "    x1 = int(x0 + 1000*(-b))\n",
    "    y1 = int(y0 + 1000*(a))\n",
    "    x2 = int(x0 - 1000*(-b))\n",
    "    y2 = int(y0 - 1000*(a))\n",
    "    cv2.line(orgb,(x1,y1),(x2,y2),(0,0,255),2)\n",
    "plt.subplot(121)\n",
    "plt.imshow(oShow)\n",
    "plt.axis('off')\n",
    "plt.subplot(122)\n",
    "plt.imshow(orgb)\n",
    "plt.axis('off')"
   ]
  },
  {
   "cell_type": "markdown",
   "metadata": {},
   "source": [
    "## HoughLinesP函数\n",
    "\n",
    "概率霍夫变换对基本霍夫变换算法进行了一些修正，是霍夫变换算法的优化。它没有考虑所有的点。相反，它只需要一个足以进行线检测的随机点子集即可。\n",
    "\n"
   ]
  },
  {
   "cell_type": "code",
   "execution_count": null,
   "metadata": {},
   "outputs": [],
   "source": [
    "img = cv2.imread('./images/computer.jpg',-1)\n",
    "gray = cv2.cvtColor(img,cv2.COLOR_BGR2GRAY)\n",
    "edges = cv2.Canny(gray,50,150,apertureSize =3)\n",
    "orgb=cv2.cvtColor(img,cv2.COLOR_BGR2RGB)\n",
    "oShow=orgb.copy()\n",
    "lines = cv2.HoughLinesP(edges,1,np.pi/180,160,minLineLength=100,maxLineGap=10)\n",
    "for line in lines:\n",
    "    x1,y1,x2,y2 = line[0]\n",
    "    cv2.line(orgb,(x1,y1),(x2,y2),(255,255,255),2)\n",
    "plt.subplot(121)\n",
    "plt.imshow(oShow)\n",
    "plt.axis('off')\n",
    "plt.subplot(122)\n",
    "plt.imshow(orgb)\n",
    "plt.axis('off')"
   ]
  },
  {
   "cell_type": "markdown",
   "metadata": {},
   "source": [
    "\n",
    "---\n",
    "# 霍夫圆环变换\n",
    "霍夫变换除了用来检测直线外，也能用来检测其他几何对象。实际上，只要是能够用一个参数方程表示的对象，都适合用霍夫变换来检测\n",
    "\n",
    "在OpenCV中，实现霍夫圆变换的是函数`cv2.HoughCircles()`，该函数将Canny边缘检测和霍夫变换结合。\n",
    "\n"
   ]
  },
  {
   "cell_type": "code",
   "execution_count": null,
   "metadata": {},
   "outputs": [],
   "source": [
    "img = cv2.imread('./images/chess.jpg',0)\n",
    "imgo=cv2.imread('./images/chess.jpg',-1)\n",
    "o=cv2.cvtColor(imgo,cv2.COLOR_BGR2RGB)\n",
    "oshow=o.copy()\n",
    "img = cv2.medianBlur(img,5)\n",
    "circles = cv2.HoughCircles(img,cv2.HOUGH_GRADIENT,1,300,param1=50,param2=30,minRadius=100,maxRadius=200)\n",
    "circles = np.uint16(np.around(circles))\n",
    "for i in circles[0,:]:\n",
    "  cv2.circle(o,(i[0],i[1]),i[2],(255,0,0),12)\n",
    "  cv2.circle(o,(i[0],i[1]),2,(255,0,0),12)\n",
    "plt.subplot(121)\n",
    "plt.imshow(oshow)\n",
    "plt.axis('off')\n",
    "plt.subplot(122)\n",
    "plt.imshow(o)\n",
    "plt.axis('off')\n"
   ]
  }
 ],
 "metadata": {
  "interpreter": {
   "hash": "b636742cd7447c915110da4af08d48b478a44c23413a0d42f0e6f825f6094b71"
  },
  "kernelspec": {
   "display_name": "Python 3.9.7 64-bit ('taocv': conda)",
   "language": "python",
   "name": "python3"
  },
  "language_info": {
   "codemirror_mode": {
    "name": "ipython",
    "version": 3
   },
   "file_extension": ".py",
   "mimetype": "text/x-python",
   "name": "python",
   "nbconvert_exporter": "python",
   "pygments_lexer": "ipython3",
   "version": "3.9.7"
  },
  "orig_nbformat": 4
 },
 "nbformat": 4,
 "nbformat_minor": 2
}
