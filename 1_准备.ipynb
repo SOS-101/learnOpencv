{
 "cells": [
  {
   "cell_type": "markdown",
   "source": [
    "## 安装Python\r\n",
    "- 官方python\r\n",
    "- Anaconda\r\n",
    "\r\n",
    "## 安装opencv\r\n",
    "`pip install opencv_python`"
   ],
   "metadata": {}
  }
 ],
 "metadata": {
  "orig_nbformat": 4,
  "language_info": {
   "name": "python"
  }
 },
 "nbformat": 4,
 "nbformat_minor": 2
}