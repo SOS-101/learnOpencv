{
 "cells": [
  {
   "cell_type": "markdown",
   "metadata": {},
   "source": [
    "# 导入所需模块"
   ]
  },
  {
   "cell_type": "code",
   "execution_count": 2,
   "metadata": {},
   "outputs": [],
   "source": [
    "import cv2\n",
    "import numpy as np"
   ]
  },
  {
   "cell_type": "markdown",
   "metadata": {},
   "source": [
    "Canny边缘检测是一种使用多级边缘检测算法检测边缘的方法。1986年，John F.Canny发表了著名的论文A Computational Approach to Edge Detection，在该论文中详述了如何进行边缘检测。  \n",
    "OpenCV提供了函数`cv2.Canny()`实现Canny边缘检测。  \n",
    "# Canny边缘检测基础\n",
    "Canny边缘检测分为如下几个步骤。  \n",
    "步骤1：去噪。噪声会影响边缘检测的准确性，因此首先要将噪声过滤掉。  \n",
    "步骤2：计算梯度的幅度与方向。  \n",
    "步骤3：非极大值抑制，即适当地让边缘“变瘦”。  \n",
    "步骤4：确定边缘。使用双阈值算法确定最终的边缘信息。   \n",
    "## 应用高斯滤波去除图像噪声\n",
    "## 计算梯度\n",
    "## 非极大值抑制\n",
    "## 应用双阈值确定边缘\n",
    "# Canny函数及使用"
   ]
  },
  {
   "cell_type": "code",
   "execution_count": 3,
   "metadata": {},
   "outputs": [],
   "source": [
    "o = cv2.imread(\"./images/lena.bmp\",cv2.IMREAD_GRAYSCALE)\n",
    "r1 = cv2.Canny(o,128,200)\n",
    "r2 = cv2.Canny(o,32,128)\n",
    "cv2.imshow('original',o)\n",
    "cv2.imshow(\"result1\",r1)\n",
    "cv2.imshow(\"result2\",r2)\n",
    "cv2.waitKey()\n",
    "cv2.destroyAllWindows()"
   ]
  }
 ],
 "metadata": {
  "interpreter": {
   "hash": "b636742cd7447c915110da4af08d48b478a44c23413a0d42f0e6f825f6094b71"
  },
  "kernelspec": {
   "display_name": "Python 3.9.7 64-bit ('taocv': conda)",
   "name": "python3"
  },
  "language_info": {
   "codemirror_mode": {
    "name": "ipython",
    "version": 3
   },
   "file_extension": ".py",
   "mimetype": "text/x-python",
   "name": "python",
   "nbconvert_exporter": "python",
   "pygments_lexer": "ipython3",
   "version": "3.9.7"
  },
  "orig_nbformat": 4
 },
 "nbformat": 4,
 "nbformat_minor": 2
}
