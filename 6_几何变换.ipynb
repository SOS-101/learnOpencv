{
 "cells": [
  {
   "cell_type": "markdown",
   "metadata": {},
   "source": [
    "# 导入所需模块"
   ]
  },
  {
   "cell_type": "code",
   "execution_count": 1,
   "metadata": {},
   "outputs": [],
   "source": [
    "import cv2\n",
    "import numpy as np"
   ]
  },
  {
   "cell_type": "markdown",
   "metadata": {},
   "source": [
    "几何变换是指将一幅图像映射到另外一幅图像内的操作。  \n",
    "本章将映射关系划分为缩放、翻转、仿射变换、透视、重映射等。  \n",
    "# 缩放\n",
    "使用 `cv2.resize()`函数来实现对图像的缩放\n",
    "- 通过参数dsize来确定输出图像大小  \n",
    "- 通过参数fx和fy来确定  \n",
    "还要注意插值方式  "
   ]
  },
  {
   "cell_type": "code",
   "execution_count": null,
   "metadata": {},
   "outputs": [],
   "source": [
    "img = np.ones([2,4,3],dtype=np.uint8)\n",
    "size = img.shape[:2]\n",
    "rst = cv2.resize(img,size)\n",
    "print(\"img.shape=\\n\",img.shape)\n",
    "print(\"img=\\n\",img)\n",
    "print(\"size=\",size)\n",
    "print(\"rst.shape=\\n\",rst.shape)\n",
    "print(\"rst=\\n\",rst)"
   ]
  },
  {
   "cell_type": "code",
   "execution_count": null,
   "metadata": {},
   "outputs": [],
   "source": [
    "img = cv2.imread(\"./images/test.bmp\")\n",
    "rows, cols = img.shape[:2]\n",
    "size = (int(cols*0.9),int(rows*0.5))\n",
    "rst = cv2.resize(img,size)\n",
    "print(\"img.shape=\",img.shape)\n",
    "print(\"rst.shape=\",rst.shape)"
   ]
  },
  {
   "cell_type": "code",
   "execution_count": null,
   "metadata": {},
   "outputs": [],
   "source": [
    "img = cv2.imread(\"./images/test.bmp\")\n",
    "rst = cv2.resize(img,None,fx=2,fy=0.5)\n",
    "print(\"img.shape=\",img.shape)\n",
    "print(\"rst.shape=\",rst.shape)"
   ]
  },
  {
   "cell_type": "markdown",
   "metadata": {},
   "source": [
    "# 反转\n",
    "通过 `cv2.flip()`函数来完成"
   ]
  },
  {
   "cell_type": "code",
   "execution_count": 9,
   "metadata": {},
   "outputs": [],
   "source": [
    "img = cv2.imread(\"./images/lena.bmp\")\n",
    "x = cv2.flip(img,0)\n",
    "y = cv2.flip(img,1)\n",
    "xy = cv2.flip(img,-1)\n",
    "cv2.imshow(\"img\",img)\n",
    "cv2.imshow(\"x\",x)\n",
    "cv2.imshow(\"y\",y)\n",
    "cv2.imshow('xy',xy)\n",
    "cv2.waitKey()\n",
    "cv2.destroyAllWindows()"
   ]
  },
  {
   "cell_type": "markdown",
   "metadata": {},
   "source": [
    "# 仿射\n",
    "仿射变换是指图像可以通过一系列的几何变换来实现平移、旋转等多种操作。该变换能够保持图像的平直性和平行性。平直性是指图像经过仿射变换后，直线仍然是直线；平行性是指图像在完成仿射变换后，平行线仍然是平行线。  \n",
    "使用函数 `cv2.warpAffine()`  \n",
    "主要控制转换矩阵  \n",
    "## 平移\n"
   ]
  },
  {
   "cell_type": "code",
   "execution_count": 11,
   "metadata": {},
   "outputs": [],
   "source": [
    "img = cv2.imread(\"./images/lena512.bmp\")\n",
    "height, width = img.shape[:2]\n",
    "x = 100\n",
    "y = 200\n",
    "M = np.float32([[1,0,x],[0,1,y]])\n",
    "move = cv2.warpAffine(img,M,(width,height))\n",
    "cv2.imshow(\"original\",img)\n",
    "cv2.imshow(\"move\",move)\n",
    "cv2.waitKey()\n",
    "cv2.destroyAllWindows()"
   ]
  },
  {
   "cell_type": "markdown",
   "metadata": {},
   "source": [
    "## 旋转\n",
    "可以通过 `cv2.getRotationMatrix2D()`获取转换矩阵  "
   ]
  },
  {
   "cell_type": "code",
   "execution_count": 12,
   "metadata": {},
   "outputs": [],
   "source": [
    "img = cv2.imread(\"./images/lena512.bmp\")\n",
    "height, width = img.shape[:2]\n",
    "M = cv2.getRotationMatrix2D((width/2,height/2),45,0.6)\n",
    "rotate = cv2.warpAffine(img,M,(width,height))\n",
    "cv2.imshow(\"original\",img)\n",
    "cv2.imshow(\"rotation\",rotate)\n",
    "cv2.waitKey()\n",
    "cv2.destroyAllWindows()"
   ]
  },
  {
   "cell_type": "markdown",
   "metadata": {},
   "source": [
    "## 更复杂的仿射变换\n",
    "通过函数 `cv2.getAffineTransform()`来获得转换矩阵  \n"
   ]
  },
  {
   "cell_type": "code",
   "execution_count": 13,
   "metadata": {},
   "outputs": [],
   "source": [
    "img = cv2.imread(\"./images/lena512.bmp\")\n",
    "rows,cols,ch = img.shape\n",
    "p1 = np.float32([[0,0],[cols-1,0],[0,rows-1]])\n",
    "p2 = np.float32([[0,rows*0.33],[cols*0.85,rows*0.25],[cols*0.15,rows*0.7]])\n",
    "M = cv2.getAffineTransform(p1,p2)\n",
    "dst = cv2.warpAffine(img,M,(cols,rows))\n",
    "cv2.imshow(\"original\",img)\n",
    "cv2.imshow(\"result\",dst)\n",
    "cv2.waitKey()\n",
    "cv2.destroyAllWindows()"
   ]
  },
  {
   "cell_type": "markdown",
   "metadata": {},
   "source": [
    "# 透视\n",
    "透视变换则可以将矩形映射为任意四边形。  \n",
    "透视变换通过 `cv2.warpPerspective()`函数实现,也可以通过 `cv2.getPerspectiveTransform()`函数获得转换矩阵  \n"
   ]
  },
  {
   "cell_type": "code",
   "execution_count": null,
   "metadata": {},
   "outputs": [],
   "source": [
    "img = cv2.imread(\"./images/demo.bmp\")\n",
    "rows, cols = img.shape[:2]\n",
    "print(rows,cols)\n",
    "pts1 = np.float32([[150,50],[400,50],[60,450],[310,450]])\n",
    "pts2 = np.float32([[50,50],[rows-50,50],[50,cols-50],[rows-50,cols-50]])\n",
    "M = cv2.getPerspectiveTransform(pts1,pts2)\n",
    "dst = cv2.warpPerspective(img,M,(cols,rows))\n",
    "cv2.imshow('img',img)\n",
    "cv2.imshow('dst',dst)\n",
    "cv2.waitKey()\n",
    "cv2.destroyAllWindows()"
   ]
  },
  {
   "cell_type": "markdown",
   "metadata": {},
   "source": [
    "# 重映射\n",
    "把一幅图像内的像素点放置到另外一幅图像内的指定位置，这个过程称为重映射。  \n",
    "通过 `cv2.remap()`函数实现  \n",
    "## 映射参数的理解"
   ]
  },
  {
   "cell_type": "code",
   "execution_count": null,
   "metadata": {},
   "outputs": [],
   "source": [
    "img = np.random.randint(0,256,size=[4,5],dtype=np.uint8)\n",
    "rows,cols = img.shape\n",
    "mapx = np.ones(img.shape,np.float32)*3\n",
    "mapy = np.ones(img.shape,np.float32)*0\n",
    "rst = cv2.remap(img,mapx,mapy,cv2.INTER_LINEAR)\n",
    "print(\"img=\\n\",img)\n",
    "print(\"mapx=\\n\",mapx)\n",
    "print(\"mapy=\\n\",mapy)\n",
    "print(\"rst=\\n\",rst)"
   ]
  },
  {
   "cell_type": "markdown",
   "metadata": {},
   "source": [
    "## 复制\n"
   ]
  },
  {
   "cell_type": "code",
   "execution_count": null,
   "metadata": {},
   "outputs": [],
   "source": [
    "img = np.random.randint(0,256,size=[4,5],dtype=np.uint8)\n",
    "rows,cols = img.shape\n",
    "mapx = np.zeros(img.shape,np.float32)\n",
    "mapy = np.zeros(img.shape,np.float32)\n",
    "for i in range(rows):\n",
    "    for j in range(cols):\n",
    "        mapx.itemset((i,j),j)\n",
    "        mapy.itemset((i,j),i)\n",
    "rst = cv2.remap(img,mapx,mapy,cv2.INTER_LINEAR)\n",
    "print(\"img=\\n\",img)\n",
    "print(\"mapx=\\n\",mapx)\n",
    "print(\"mapy=\\n\",mapy)\n",
    "print(\"rst=\\n\",rst)"
   ]
  },
  {
   "cell_type": "code",
   "execution_count": 5,
   "metadata": {},
   "outputs": [],
   "source": [
    "img = cv2.imread(\"./images/lena.bmp\")\n",
    "rows,cols = img.shape[:2]\n",
    "mapx = np.zeros(img.shape[:2],np.float32)\n",
    "mapy = np.zeros(img.shape[:2],np.float32)\n",
    "for i in range(rows):\n",
    "    for j in range(cols):\n",
    "        mapx.itemset((i,j),j)\n",
    "        mapy.itemset((i,j),i)\n",
    "rst = cv2.remap(img,mapx,mapy,cv2.INTER_LINEAR)\n",
    "cv2.imshow('original',img)\n",
    "cv2.imshow(\"result\",rst)\n",
    "cv2.waitKey()\n",
    "cv2.destroyAllWindows()"
   ]
  },
  {
   "cell_type": "markdown",
   "metadata": {},
   "source": [
    "## 绕x轴翻转"
   ]
  },
  {
   "cell_type": "code",
   "execution_count": 6,
   "metadata": {},
   "outputs": [],
   "source": [
    "img = cv2.imread(\"./images/lena.bmp\")\n",
    "rows,cols = img.shape[:2]\n",
    "mapx = np.zeros(img.shape[:2],np.float32)\n",
    "mapy = np.zeros(img.shape[:2],np.float32)\n",
    "for i in range(rows):\n",
    "    for j in range(cols):\n",
    "        mapx.itemset((i,j),j)\n",
    "        mapy.itemset((i,j),rows-1-i)\n",
    "rst = cv2.remap(img,mapx,mapy,cv2.INTER_LINEAR)\n",
    "cv2.imshow(\"original\",img)\n",
    "cv2.imshow('result',rst)\n",
    "cv2.waitKey()\n",
    "cv2.destroyAllWindows()"
   ]
  },
  {
   "cell_type": "markdown",
   "metadata": {},
   "source": [
    "## 绕y轴翻转"
   ]
  },
  {
   "cell_type": "code",
   "execution_count": 7,
   "metadata": {},
   "outputs": [],
   "source": [
    "img = cv2.imread(\"./images/lena.bmp\")\n",
    "rows,cols = img.shape[:2]\n",
    "mapx = np.zeros(img.shape[:2],np.float32)\n",
    "mapy = np.zeros(img.shape[:2],np.float32)\n",
    "for i in range(rows):\n",
    "    for j in range(cols):\n",
    "        mapx.itemset((i,j),cols-1-j)\n",
    "        mapy.itemset((i,j),i)\n",
    "rst = cv2.remap(img,mapx,mapy,cv2.INTER_LINEAR)\n",
    "cv2.imshow(\"original\",img)\n",
    "cv2.imshow('result',rst)\n",
    "cv2.waitKey()\n",
    "cv2.destroyAllWindows()"
   ]
  },
  {
   "cell_type": "markdown",
   "metadata": {},
   "source": [
    "## 绕x,y轴翻转"
   ]
  },
  {
   "cell_type": "code",
   "execution_count": 8,
   "metadata": {},
   "outputs": [],
   "source": [
    "img = cv2.imread(\"./images/lena.bmp\")\n",
    "rows,cols = img.shape[:2]\n",
    "mapx = np.zeros(img.shape[:2],np.float32)\n",
    "mapy = np.zeros(img.shape[:2],np.float32)\n",
    "for i in range(rows):\n",
    "    for j in range(cols):\n",
    "        mapx.itemset((i,j),cols-1-j)\n",
    "        mapy.itemset((i,j),rows-1-i)\n",
    "rst = cv2.remap(img,mapx,mapy,cv2.INTER_LINEAR)\n",
    "cv2.imshow(\"original\",img)\n",
    "cv2.imshow('result',rst)\n",
    "cv2.waitKey()\n",
    "cv2.destroyAllWindows()"
   ]
  },
  {
   "cell_type": "markdown",
   "metadata": {},
   "source": [
    "## x,y互换"
   ]
  },
  {
   "cell_type": "code",
   "execution_count": 9,
   "metadata": {},
   "outputs": [],
   "source": [
    "img = cv2.imread(\"./images/lena.bmp\")\n",
    "rows,cols = img.shape[:2]\n",
    "mapx = np.zeros(img.shape[:2],np.float32)\n",
    "mapy = np.zeros(img.shape[:2],np.float32)\n",
    "for i in range(rows):\n",
    "    for j in range(cols):\n",
    "        mapx.itemset((i,j),i)\n",
    "        mapy.itemset((i,j),j)\n",
    "rst = cv2.remap(img,mapx,mapy,cv2.INTER_LINEAR)\n",
    "cv2.imshow(\"original\",img)\n",
    "cv2.imshow('result',rst)\n",
    "cv2.waitKey()\n",
    "cv2.destroyAllWindows()"
   ]
  },
  {
   "cell_type": "markdown",
   "metadata": {},
   "source": [
    "## 图像缩放"
   ]
  },
  {
   "cell_type": "code",
   "execution_count": 12,
   "metadata": {},
   "outputs": [],
   "source": [
    "img = cv2.imread(\"./images/lena.bmp\")\n",
    "rows,cols = img.shape[:2]\n",
    "mapx = np.zeros(img.shape[:2],np.float32)\n",
    "mapy = np.zeros(img.shape[:2],np.float32)\n",
    "for i in range(rows):\n",
    "    for j in range(cols):\n",
    "        if 0.25*cols < i < 0.75*cols and 0.25*rows < j < 0.75*rows:\n",
    "            mapx.itemset((i,j),2*(j-cols*0.25)+0.5)\n",
    "            mapy.itemset((i,j),2*(i-rows*0.25)+0.5)\n",
    "        else:\n",
    "            mapx.itemset((i,j),0)\n",
    "            mapy.itemset((i,j),0)\n",
    "rst = cv2.remap(img,mapx,mapy,cv2.INTER_LINEAR)\n",
    "cv2.imshow(\"original\",img)\n",
    "cv2.imshow('result',rst)\n",
    "cv2.waitKey()\n",
    "cv2.destroyAllWindows()"
   ]
  }
 ],
 "metadata": {
  "interpreter": {
   "hash": "b636742cd7447c915110da4af08d48b478a44c23413a0d42f0e6f825f6094b71"
  },
  "kernelspec": {
   "display_name": "Python 3.9.7 64-bit ('taocv': conda)",
   "name": "python3"
  },
  "language_info": {
   "codemirror_mode": {
    "name": "ipython",
    "version": 3
   },
   "file_extension": ".py",
   "mimetype": "text/x-python",
   "name": "python",
   "nbconvert_exporter": "python",
   "pygments_lexer": "ipython3",
   "version": "3.9.7"
  },
  "orig_nbformat": 4
 },
 "nbformat": 4,
 "nbformat_minor": 2
}
