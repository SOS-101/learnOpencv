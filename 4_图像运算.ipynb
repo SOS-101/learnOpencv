{
 "cells": [
  {
   "cell_type": "markdown",
   "metadata": {},
   "source": [
    "# 导入所需模块"
   ]
  },
  {
   "cell_type": "code",
   "execution_count": null,
   "metadata": {},
   "outputs": [],
   "source": [
    "import cv2\n",
    "import numpy as np"
   ]
  },
  {
   "cell_type": "markdown",
   "metadata": {},
   "source": [
    "# 图像加法运算\n",
    "## 加号运算符\n",
    "注意加号运算符规则  大于255，取余  "
   ]
  },
  {
   "cell_type": "code",
   "execution_count": null,
   "metadata": {},
   "outputs": [],
   "source": [
    " img1 = np.random.randint(0,256,size=[3,3],dtype=np.uint8)\n",
    "img2 = np.random.randint(0,256,size=[3,3],dtype=np.uint8)\n",
    "print(\"img1=\\n\",img1)\n",
    "print(\"img2=\\n\",img2)\n",
    "print(\"img1+img2=\\n\",img1+img2)"
   ]
  },
  {
   "cell_type": "markdown",
   "metadata": {},
   "source": [
    "## cv2.add()函数\n",
    "计算规则，大于255时，取255。  "
   ]
  },
  {
   "cell_type": "code",
   "execution_count": null,
   "metadata": {},
   "outputs": [],
   "source": [
    "img1 = np.random.randint(0,256,size=[3,3],dtype=np.uint8)\n",
    "img2 = np.random.randint(0,256,size=[3,3],dtype=np.uint8)\n",
    "print(\"img1=\\n\",img1)\n",
    "print(\"img2=\\n\",img2)\n",
    "img3 = cv2.add(img1,img2)\n",
    "print(\"cv2.add(img1,img2)\\n\",img3)"
   ]
  },
  {
   "cell_type": "code",
   "execution_count": 3,
   "metadata": {},
   "outputs": [],
   "source": [
    "a = cv2.imread(\"./images/lena.bmp\",0)\n",
    "b = a\n",
    "result1 = a + b\n",
    "result2 = cv2.add(a,b)\n",
    "cv2.imshow(\"original\",a)\n",
    "cv2.imshow(\"result1\",result1)\n",
    "cv2.imshow(\"result2\",result2)\n",
    "cv2.waitKey()\n",
    "cv2.destroyAllWindows()"
   ]
  },
  {
   "cell_type": "markdown",
   "metadata": {},
   "source": [
    "# 图像加权和\n",
    "所谓图像加权和，就是在计算两幅图像的像素值之和时，将每幅图像的权重考虑进来，可以用公式表示为：dst=saturate（src1×α+src2×β+γ）式中，saturate()表示取饱和值（最大值）。图像进行加权和计算时，要求src1和src2必须大小、类型相同，但是对具体是什么类型和通道没有特殊限制。它们可以是任意数据类型，也可以有任意数量的通道（灰度图像或者彩色图像），只要二者相同即可。   \n",
    "OpenCV中提供了函数cv2.addWeighted()，用来实现图像的加权和（混合、融合），该函数的语法格式为：`dst = cv2.addWeighted(src1,alpha,src2,beta,gamma)` ，gamma可以为零，不可省略。可以将上式理解为“结果图像=图像1×系数1+图像2×系数2+亮度调节量”  "
   ]
  },
  {
   "cell_type": "code",
   "execution_count": null,
   "metadata": {},
   "outputs": [],
   "source": [
    "img1 = np.ones((3,4),dtype=np.uint8)*100\n",
    "img2 = np.ones((3,4),dtype=np.uint8)*10\n",
    "gamma = 3\n",
    "img3 = cv2.addWeighted(img1,0.6,img2,5,gamma)\n",
    "print(img3)\n"
   ]
  },
  {
   "cell_type": "code",
   "execution_count": 6,
   "metadata": {},
   "outputs": [],
   "source": [
    "a = cv2.imread(\"./images/boat.bmp\")\n",
    "b = cv2.imread(\"./images/lena512.bmp\")\n",
    "result = cv2.addWeighted(a,0.6,b,0.4,0)\n",
    "cv2.imshow(\"boat\",a)\n",
    "cv2.imshow(\"lena\",b)\n",
    "cv2.imshow(\"result\",result)\n",
    "cv2.waitKey()\n",
    "cv2.destroyAllWindows()"
   ]
  },
  {
   "cell_type": "code",
   "execution_count": 1,
   "metadata": {},
   "outputs": [],
   "source": [
    "lena = cv2.imread(\"./images/lena512.bmp\",cv2.IMREAD_UNCHANGED)\n",
    "dollar = cv2.imread(\"./images/dollar.bmp\",cv2.IMREAD_UNCHANGED)\n",
    "cv2.imshow(\"lena\",lena)\n",
    "cv2.imshow(\"dollar\",dollar)\n",
    "face1 = lena[220:400,250:350]\n",
    "face2 = dollar[160:340,200:300]\n",
    "add = cv2.addWeighted(face1,0.6,face2,0.4,0)\n",
    "dollar[160:340,200:300] = add\n",
    "cv2.imshow(\"result\",dollar)\n",
    "cv2.waitKey()\n",
    "cv2.destroyAllWindows()"
   ]
  },
  {
   "cell_type": "markdown",
   "metadata": {},
   "source": [
    "# 按位逻辑运算\n",
    "|函数名|基本含义|\n",
    "|--|--|\n",
    "|cv2.bitwise_and()|按位与|\n",
    "|cv2.bitwise_or()|按位或|\n",
    "|cv2.bitwise_xor()|按位异或|\n",
    "|cv2.bitwise_not()|按位取反|  \n",
    "\n",
    "## 按位与运算\n",
    "`dst = cv2.bitwise_and(src1,src2,[,mask])`  \n",
    "式中：1. dst表示与输入值具有同样大小的array输出值。2. src1表示第一个array或scalar类型的输入值。 3. src2表示第一个array或scalar类型的输入值。4. mask表示可选操作掩码，8位单通道array。  \n"
   ]
  },
  {
   "cell_type": "code",
   "execution_count": null,
   "metadata": {},
   "outputs": [],
   "source": [
    "a = np.random.randint(0,255,(5,5),dtype=np.uint8)\n",
    "b = np.zeros((5,5),dtype=np.uint8)\n",
    "b[0:3,0:3] = 255\n",
    "b[4,4] = 255\n",
    "c = cv2.bitwise_and(a,b)\n",
    "print(\"a=\\n\",a)\n",
    "print(\"b=\\n\",b)\n",
    "print(\"c=\\n\",c)"
   ]
  },
  {
   "cell_type": "code",
   "execution_count": 4,
   "metadata": {},
   "outputs": [],
   "source": [
    "a = cv2.imread(\"./images/lena.bmp\",0)\n",
    "b = np.zeros(a.shape,dtype=np.uint8)\n",
    "b[100:400,200:400] = 255\n",
    "b[100:500,100:200] = 255\n",
    "c = cv2.bitwise_and(a,b)\n",
    "cv2.imshow('a',a)\n",
    "cv2.imshow(\"b\",b)\n",
    "cv2.imshow(\"c\",c)\n",
    "cv2.waitKey()\n",
    "cv2.destroyAllWindows()"
   ]
  },
  {
   "cell_type": "code",
   "execution_count": null,
   "metadata": {},
   "outputs": [],
   "source": [
    "a = cv2.imread('./images/lena.bmp',1)\n",
    "b = np.zeros(a.shape,dtype=np.uint8)\n",
    "b[100:400,200:400] = 255\n",
    "b[100:500,100:200] = 255\n",
    "c = cv2.bitwise_and(a,b)\n",
    "print(\"a.shape=\",a.shape)\n",
    "print(\"b.shape=\",b.shape)\n",
    "cv2.imshow(\"a\",a)\n",
    "cv2.imshow(\"b\",b)\n",
    "cv2.imshow(\"c\",c)\n",
    "cv2.waitKey()\n",
    "cv2.destroyAllWindows()"
   ]
  },
  {
   "cell_type": "markdown",
   "metadata": {},
   "source": [
    "## 按位或运算\n",
    "## 按位非运算\n",
    "## 按位异或运算"
   ]
  },
  {
   "cell_type": "markdown",
   "metadata": {},
   "source": [
    "# 掩模"
   ]
  },
  {
   "cell_type": "code",
   "execution_count": null,
   "metadata": {},
   "outputs": [],
   "source": [
    "img1 = np.ones((4,4),dtype=np.uint8)*3\n",
    "img2 = np.ones((4,4),dtype=np.uint8)*5\n",
    "mask = np.zeros((4,4),dtype=np.uint8)\n",
    "mask[2:4,2:4] = 1\n",
    "img3 = np.ones((4,4),dtype=np.uint8)*66\n",
    "print('img1=\\n',img1)\n",
    "print('img2=\\n',img2)\n",
    "print('mask=\\n',mask)\n",
    "print(\"before img3=\\n\",img3)\n",
    "img3 = cv2.add(img1,img2,mask=mask)\n",
    "print(\"after img3=\\n\",img3)"
   ]
  },
  {
   "cell_type": "code",
   "execution_count": null,
   "metadata": {},
   "outputs": [],
   "source": [
    "a = cv2.imread(\"./images/lena.bmp\",1)\n",
    "w,h,c = a.shape\n",
    "mask = np.zeros((w,h),dtype=np.uint8)\n",
    "mask[100:400,200:400] = 255\n",
    "mask[100:500,100:200] = 255\n",
    "c = cv2.bitwise_and(a,a,mask=mask)\n",
    "print('a.shape=',a.shape)\n",
    "print(\"mask.shape=\",mask.shape)\n",
    "cv2.imshow(\"a\",a)\n",
    "cv2.imshow(\"mask\",mask)\n",
    "cv2.imshow(\"c\",c)\n",
    "cv2.waitKey()\n",
    "cv2.destroyAllWindows()"
   ]
  },
  {
   "cell_type": "markdown",
   "metadata": {},
   "source": [
    "# 图像与数值运算\n"
   ]
  },
  {
   "cell_type": "code",
   "execution_count": null,
   "metadata": {},
   "outputs": [],
   "source": [
    "img1=np.ones((4,4),dtype=np.uint8)*3\n",
    "img2=np.ones((4,4),dtype=np.uint8)*5\n",
    "print(\"img1=\\n\",img1)\n",
    "print(\"img2=\\n\",img2)\n",
    "img3=cv2.add(img1,img2)\n",
    "print(\"cv2.add(img1,img2)=\\n\",img3)\n",
    "img4=cv2.add(img1,6)\n",
    "print(\"cv2.add(img1,6)\\n\",img4)\n",
    "img5=cv2.add(6,img2)\n",
    "print(\"cv2.add(6,img2)=\\n\",img5)"
   ]
  },
  {
   "cell_type": "markdown",
   "metadata": {},
   "source": [
    "# 位平面分解\n",
    "## 图像预处理\n",
    "## 构造提取矩阵\n",
    "## 提取位平面\n",
    "## 阈值处理\n",
    "## 显示图像"
   ]
  },
  {
   "cell_type": "code",
   "execution_count": 10,
   "metadata": {},
   "outputs": [],
   "source": [
    "lena = cv2.imread(\"./images/lena.bmp\",0)\n",
    "cv2.imshow(\"lena\",lena)\n",
    "r,c = lena.shape\n",
    "x = np.zeros((r,c,8),dtype=np.uint8)\n",
    "for i in range(8):\n",
    "    x[:,:,i] = 2**i\n",
    "r = np.zeros((r,c,8),dtype=np.uint8)\n",
    "for i in range(8):\n",
    "    r[:,:,i] = cv2.bitwise_and(lena,x[:,:,i])\n",
    "    mask = r[:,:,i]>0\n",
    "    r[mask] = 255\n",
    "    cv2.imshow(str(i),r[:,:,i])\n",
    "cv2.waitKey()\n",
    "cv2.destroyAllWindows()"
   ]
  },
  {
   "cell_type": "markdown",
   "metadata": {},
   "source": [
    "# 图像加密解密\n",
    "通过按位异或运算实现图像的加密和解密"
   ]
  },
  {
   "cell_type": "code",
   "execution_count": null,
   "metadata": {},
   "outputs": [],
   "source": [
    "a = np.random.randint(0,256,size=[5,5],dtype=np.uint8)\n",
    "key = np.random.randint(0,256,size=[5,5],dtype=np.uint8)\n",
    "encryption = cv2.bitwise_xor(a,key)\n",
    "decryption = cv2.bitwise_xor(encryption,key)\n",
    "print('a=\\n',a)\n",
    "print('key=\\n',key)\n",
    "print('encryption=\\n',encryption)\n",
    "print('decryption=\\n',decryption)"
   ]
  },
  {
   "cell_type": "code",
   "execution_count": 11,
   "metadata": {},
   "outputs": [],
   "source": [
    "lena = cv2.imread(\"./images/lena.bmp\",0)\n",
    "r, c = lena.shape\n",
    "key = np.random.randint(0,256,size=[r,c],dtype=np.uint8)\n",
    "encryption = cv2.bitwise_xor(lena,key)\n",
    "decryption = cv2.bitwise_xor(encryption,key)\n",
    "cv2.imshow(\"lena\",lena)\n",
    "cv2.imshow(\"key\",key)\n",
    "cv2.imshow(\"encryption\",encryption)\n",
    "cv2.imshow(\"decryption\",decryption)\n",
    "cv2.waitKey()\n",
    "cv2.destroyAllWindows()"
   ]
  },
  {
   "cell_type": "markdown",
   "metadata": {},
   "source": [
    "# 数字水印\n",
    "最低有效位（Least Significant Bit, LSB）指的是一个二进制数中的第0位（即最低位）。最低有效位信息隐藏指的是，将一个需要隐藏的二值图像信息嵌入载体图像的最低有效位，即将载体图像的最低有效位层替换为当前需要隐藏的二值图像，从而实现将二值图像隐藏的目的。由于二值图像处于载体图像的最低有效位上，所以对于载体图像的影响非常不明显，其具有较高的隐蔽性。  \n",
    "在必要时直接将载体图像的最低有效位层提取出来，即可得到嵌入在该位上的二值图像，达到提取秘密信息的目的。  \n",
    "## 原理\n",
    "数字水印分为两步：\n",
    "- 嵌入过程\n",
    "- 提取过程"
   ]
  },
  {
   "cell_type": "code",
   "execution_count": null,
   "metadata": {},
   "outputs": [],
   "source": [
    "lena = cv2.imread(\"./images/lena512.bmp\",0)\n",
    "watermark = cv2.imread(\"./images/watermark.bmp\",0)\n",
    "w = watermark[:,:]>0\n",
    "watermark[w] = 1\n",
    "r, c = lena.shape\n",
    "\n",
    "t254 = np.ones((r,c),dtype=np.uint8)*254\n",
    "lenaH7 = cv2.bitwise_and(lena,t254)\n",
    "e = cv2.bitwise_or(lenaH7,watermark)\n",
    "\n",
    "t1 = np.ones((r,c),dtype=np.uint8)\n",
    "wm = cv2.bitwise_and(e,t1)\n",
    "print(wm)\n",
    "w = wm[:,:]>0\n",
    "wm[w] = 255\n",
    "cv2.imshow('lena',lena)\n",
    "cv2.imshow('watermark',watermark*255)\n",
    "cv2.imshow('e',e)\n",
    "cv2.imshow(\"wm\",wm)\n",
    "cv2.waitKey()\n",
    "cv2.destroyAllWindows()"
   ]
  },
  {
   "cell_type": "markdown",
   "metadata": {},
   "source": [
    "# 脸部打码与解码\n"
   ]
  },
  {
   "cell_type": "code",
   "execution_count": 5,
   "metadata": {},
   "outputs": [],
   "source": [
    "#读取原始载体图像\n",
    "lena=cv2.imread(\"./images/lena512.bmp\",0)\n",
    "#读取原始载体图像的shape值\n",
    "r,c=lena.shape\n",
    "mask=np.zeros((r,c),dtype=np.uint8)\n",
    "mask[220:400,250:350]=1\n",
    "#获取一个key,打码、解码所使用的密钥\n",
    "key=np.random.randint(0,256,size=[r,c],dtype=np.uint8)\n",
    "#============获取打码脸============\n",
    "#使用密钥key加密原始图像lena\n",
    "lenaXorKey=cv2.bitwise_xor(lena,key) \n",
    "#获取加密图像的脸部信息encryptFace\n",
    "encryptFace=cv2.bitwise_and(lenaXorKey,mask*255)\n",
    "#将图像lena内的脸部值设置为0，得到noFace1\n",
    "noFace1=cv2.bitwise_and(lena,(1-mask)*255)\n",
    "#得到打码的lena图像\n",
    "maskFace=encryptFace+noFace1\n",
    "#============将打码脸解码============\n",
    "#将脸部打码的lena与密钥key异或，得到脸部的原始信息\n",
    "extractOriginal=cv2.bitwise_xor(maskFace,key)\n",
    "#将解码的脸部信息extractOriginal提取出来得到extractFace\n",
    "extractFace=cv2.bitwise_and(extractOriginal,mask*255)\n",
    "#从脸部打码的lena内提取没有脸部信息的lena图像，得到noFace2\n",
    "noFace2=cv2.bitwise_and(maskFace,(1-mask)*255)\n",
    "#得到解码的lena图像\n",
    "extractLena=noFace2+extractFace\n",
    "#============显示图像============\n",
    "cv2.imshow(\"lena\",lena)\n",
    "cv2.imshow(\"mask\",mask*255)\n",
    "cv2.imshow(\"1-mask\",(1-mask)*255)\n",
    "cv2.imshow(\"key\",key)\n",
    "cv2.imshow(\"lenaXorKey\",lenaXorKey)\n",
    "cv2.imshow(\"encryptFace\",encryptFace)\n",
    "cv2.imshow(\"noFace1\",noFace1)\n",
    "cv2.imshow(\"maskFace\",maskFace)\n",
    "cv2.imshow(\"extractOriginal\",extractOriginal)\n",
    "cv2.imshow(\"extractFace\",extractFace)\n",
    "cv2.imshow(\"noFace2\",noFace2)\n",
    "cv2.imshow(\"extractLena\",extractLena)\n",
    "cv2.waitKey()\n",
    "cv2.destroyAllWindows()"
   ]
  }
 ],
 "metadata": {
  "interpreter": {
   "hash": "b636742cd7447c915110da4af08d48b478a44c23413a0d42f0e6f825f6094b71"
  },
  "kernelspec": {
   "display_name": "Python 3.9.7 64-bit ('taocv': conda)",
   "name": "python3"
  },
  "language_info": {
   "codemirror_mode": {
    "name": "ipython",
    "version": 3
   },
   "file_extension": ".py",
   "mimetype": "text/x-python",
   "name": "python",
   "nbconvert_exporter": "python",
   "pygments_lexer": "ipython3",
   "version": "3.9.7"
  },
  "orig_nbformat": 4
 },
 "nbformat": 4,
 "nbformat_minor": 2
}
