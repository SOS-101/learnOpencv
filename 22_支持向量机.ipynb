{
 "cells": [
  {
   "cell_type": "markdown",
   "metadata": {},
   "source": [
    "# 导入所需模块"
   ]
  },
  {
   "cell_type": "code",
   "execution_count": 2,
   "metadata": {},
   "outputs": [],
   "source": [
    "import cv2\n",
    "import numpy as np\n",
    "import matplotlib.pyplot as plt"
   ]
  },
  {
   "cell_type": "markdown",
   "metadata": {},
   "source": [
    "\n",
    "---\n",
    "支持向量机（Support Vector Machine, SVM）是一种二分类模型，目标是寻找一个标准（称为超平面）对样本数据进行分割，分割的原则是确保分类最优化（类别之间的间隔最大）。当数据集较小时，使用支持向量机进行分类非常有效。支持向量机是最好的现成分类器之一，这里所谓的“现成”是指分类器不加修改即可直接使用。\n",
    "# 理论基础\n",
    "## 分类\n",
    "## 分类器\n",
    "离分类器最近的那些点叫作支持向量（support vector）。正是这些支持向量，决定了分类器所在的位置。\n",
    "\n",
    "## 将不可分变为可分\n",
    "## 概念总结\n",
    "“支持向量机”是由“支持向量”和“机器”构成的。\n",
    "- ● “支持向量”是离分类器最近的那些点，这些点位于最大“间隔”上。通常情况下，分类仅依靠这些点完成，而与其他点无关。\n",
    "- ● “机器”指的是分类器。\n",
    "\n",
    "---\n",
    "# SVM案例介绍\n",
    "在使用支持向量机模块时，需要先使用函数`cv2.ml.SVM_create()`生成用于后续训练的空分类器模型。\n",
    "\n",
    "获取了空分类器svm后，针对该模型使用`svm.train()`函数对训练数据进行训练\n",
    "\n",
    "完成对分类器的训练后，使用svm.predict()函数即可使用训练好的分类器模型对测试数据进行分类\n",
    "\n",
    "OpenCV支持对多个参数的自定义，例如：可以通过`setType()`函数设置类别，通过`setKernel()`函数设置核类型，通过`setC()`函数设置支持向量机的参数C（惩罚系数，即对误差的宽容度，默认值为0）。\n",
    "\n"
   ]
  },
  {
   "cell_type": "code",
   "execution_count": null,
   "metadata": {},
   "outputs": [],
   "source": [
    "#第1步 准备数据\n",
    "# A等级的笔试、面试分数\n",
    "a = np.random.randint(95,100, (20, 2)).astype(np.float32)\n",
    "# B等级的笔试、面试分数\n",
    "b = np.random.randint(90,95, (20, 2)).astype(np.float32)\n",
    "#合并数据\n",
    "data = np.vstack((a,b))\n",
    "data = np.array(data,dtype='float32')\n",
    "#第2步 建立分组标签，0代表A等级，1代表B等级\n",
    "#aLabel对应着a的标签，为类型0-等级A\n",
    "aLabel=np.zeros((20,1))\n",
    "#bLabel对应着b的标签，为类型1-等级B\n",
    "bLabel=np.ones((20,1))\n",
    "#合并标签\n",
    "label = np.vstack((aLabel, bLabel))\n",
    "label = np.array(label,dtype='int32')\n",
    "#第3步 训练\n",
    "# ml 机器学习模块 SVM_create() 创建\n",
    "svm = cv2.ml.SVM_create() \n",
    "# 属性设置，直接采用默认值即可。\n",
    "#svm.setType(cv2.ml.SVM_C_SVC) # svm type\n",
    "#svm.setKernel(cv2.ml.SVM_LINEAR) # line\n",
    "#svm.setC(0.01)\n",
    "# 训练\n",
    "result = svm.train(data,cv2.ml.ROW_SAMPLE,label)\n",
    "#第4步 预测\n",
    "#生成两个随机的(笔试成绩、面试成绩)，可以用随机数生成\n",
    "test = np.vstack([[99,90],[90,99]]) #0-A级 1-B级\n",
    "test = np.array(test,dtype='float32')\n",
    "#预测\n",
    "(p1,p2) = svm.predict(test)\n",
    "#第5步 观察结果\n",
    "#可视化\n",
    "plt.scatter(a[:,0], a[:,1], 80, 'g', 'o')\n",
    "plt.scatter(b[:,0], b[:,1], 80, 'b', 's')\n",
    "plt.scatter(test[:,0], test[:,1], 80, 'r', '*')\n",
    "plt.show()\n",
    "#打印原始测试数据test，预测结果\n",
    "print(test)\n",
    "print(p2)"
   ]
  }
 ],
 "metadata": {
  "interpreter": {
   "hash": "b636742cd7447c915110da4af08d48b478a44c23413a0d42f0e6f825f6094b71"
  },
  "kernelspec": {
   "display_name": "Python 3.9.7 64-bit ('taocv': conda)",
   "language": "python",
   "name": "python3"
  },
  "language_info": {
   "codemirror_mode": {
    "name": "ipython",
    "version": 3
   },
   "file_extension": ".py",
   "mimetype": "text/x-python",
   "name": "python",
   "nbconvert_exporter": "python",
   "pygments_lexer": "ipython3",
   "version": "3.9.7"
  },
  "orig_nbformat": 4
 },
 "nbformat": 4,
 "nbformat_minor": 2
}
