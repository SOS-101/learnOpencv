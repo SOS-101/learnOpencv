{
 "cells": [
  {
   "cell_type": "markdown",
   "metadata": {},
   "source": [
    "# 导入所需模块"
   ]
  },
  {
   "cell_type": "code",
   "execution_count": 2,
   "metadata": {},
   "outputs": [],
   "source": [
    "import cv2\n",
    "import numpy as np\n",
    "import matplotlib.pyplot as plt"
   ]
  },
  {
   "cell_type": "markdown",
   "metadata": {},
   "source": [
    "---"
   ]
  },
  {
   "cell_type": "markdown",
   "metadata": {},
   "source": [
    "# 理论基础\n",
    "图像处理一般分为空间域处理和频率域处理。\n",
    "\n",
    "空间域处理是直接对图像内的像素进行处理。空间域处理主要划分为灰度变换和空间滤波两种形式。灰度变换是对图像内的单个像素进行处理，比如调节对比度和处理阈值等。空间滤波涉及图像质量的改变，例如图像平滑处理。空间域处理的计算简单方便，运算速度更快。\n",
    "\n",
    "频率域处理是先将图像变换到频率域，然后在频率域对图像进行处理，最后再通过反变换将图像从频率域变换到空间域。傅里叶变换是应用最广泛的一种频域变换，它能够将图像从空间域变换到频率域，而逆傅里叶变换能够将频率域信息变换到空间域内。傅里叶变换在图像处理领域内有着非常重要的作用。\n",
    "\n",
    "## 理论基础\n",
    "\n",
    "---"
   ]
  },
  {
   "cell_type": "markdown",
   "metadata": {},
   "source": [
    "# Numpy实现傅里叶变换\n",
    "Numpy模块提供了傅里叶变换功能，Numpy模块中的`fft2()`函数可以实现图像的傅里叶变换。\n",
    "\n",
    "## 实现傅里叶变换\n",
    "Numpy提供的实现傅里叶变换的函数是`numpy.fft.fft2()`\n",
    "\n",
    "通常会使用`numpy.fft.fftshift()`函数将零频率成分移动到频域图像的中心位置"
   ]
  },
  {
   "cell_type": "code",
   "execution_count": null,
   "metadata": {},
   "outputs": [],
   "source": [
    "img = cv2.imread('images/lena.bmp',0)\n",
    "f = np.fft.fft2(img)\n",
    "fshift = np.fft.fftshift(f)\n",
    "magnitude_spectrum = 20*np.log(np.abs(fshift))\n",
    "plt.subplot(121)\n",
    "plt.imshow(img, cmap = 'gray')\n",
    "plt.title('original')\n",
    "plt.axis('off')\n",
    "plt.subplot(122)\n",
    "plt.imshow(magnitude_spectrum, cmap = 'gray')\n",
    "plt.title('result')\n",
    "plt.axis('off')\n",
    "plt.show()"
   ]
  },
  {
   "cell_type": "markdown",
   "metadata": {},
   "source": [
    "## 实现逆傅里叶变换\n",
    "需要注意的是，如果在傅里叶变换过程中使用了`numpy.fft.fftshift()`函数移动零频率分量，那么在逆傅里叶变换过程中，需要先使用`numpy.fft.ifftshift()`函数将零频率分量移到原来的位置，再进行逆傅里叶变换\n",
    "\n",
    "`numpy.fft.ifft2()`函数可以实现逆傅里叶变换，返回空域复数数组。它是`numpy.fft.fft2()`的逆函数\n",
    "\n"
   ]
  },
  {
   "cell_type": "code",
   "execution_count": null,
   "metadata": {},
   "outputs": [],
   "source": [
    "img = cv2.imread('images/boat.bmp',0)\n",
    "f = np.fft.fft2(img)\n",
    "fshift = np.fft.fftshift(f)\n",
    "ishift = np.fft.ifftshift(fshift)\n",
    "iimg = np.fft.ifft2(ishift)\n",
    "#print(iimg)\n",
    "iimg = np.abs(iimg)\n",
    "#print(iimg)\n",
    "plt.subplot(121),plt.imshow(img, cmap = 'gray')\n",
    "plt.title('original'),plt.axis('off')\n",
    "plt.subplot(122),plt.imshow(iimg, cmap = 'gray')\n",
    "plt.title('iimg'),plt.axis('off')\n",
    "plt.show()"
   ]
  },
  {
   "cell_type": "markdown",
   "metadata": {},
   "source": [
    "## 高通滤波示例\n"
   ]
  },
  {
   "cell_type": "code",
   "execution_count": null,
   "metadata": {},
   "outputs": [],
   "source": [
    "img = cv2.imread('images/lena.bmp',0)\n",
    "f = np.fft.fft2(img)\n",
    "fshift = np.fft.fftshift(f)\n",
    "rows, cols = img.shape\n",
    "crow,ccol = int(rows/2) , int(cols/2)\n",
    "fshift[crow-30:crow+30, ccol-30:ccol+30] = 0\n",
    "ishift = np.fft.ifftshift(fshift)\n",
    "iimg = np.fft.ifft2(ishift)\n",
    "iimg = np.abs(iimg)\n",
    "plt.subplot(121),plt.imshow(img, cmap = 'gray')\n",
    "plt.title('original'),plt.axis('off')\n",
    "plt.subplot(122),plt.imshow(iimg, cmap = 'gray')\n",
    "plt.title('iimg'),plt.axis('off')\n",
    "plt.show()"
   ]
  },
  {
   "cell_type": "markdown",
   "metadata": {},
   "source": [
    "---\n",
    "\n"
   ]
  },
  {
   "cell_type": "markdown",
   "metadata": {},
   "source": [
    "# OpenCV实现傅里叶变换\n",
    "OpenCV提供了函数`cv2.dft()`和`cv2.idft()`来实现傅里叶变换和逆傅里叶变换\n",
    "\n",
    "## 实现傅里叶变换\n",
    "函数`cv2.magnitude()`可以计算频谱信息的幅度"
   ]
  },
  {
   "cell_type": "code",
   "execution_count": null,
   "metadata": {},
   "outputs": [],
   "source": [
    "img = cv2.imread('images/lena.bmp',0)\n",
    "dft = cv2.dft(np.float32(img),flags = cv2.DFT_COMPLEX_OUTPUT)\n",
    "dftShift = np.fft.fftshift(dft)\n",
    "result = 20*np.log(cv2.magnitude(dftShift[:,:,0],dftShift[:,:,1]))\n",
    "plt.subplot(121),plt.imshow(img, cmap = 'gray')\n",
    "plt.title('original'),plt.axis('off')\n",
    "plt.subplot(122),plt.imshow(result, cmap = 'gray')\n",
    "plt.title('result'), plt.axis('off')\n",
    "plt.show()\n",
    "#print(dft)"
   ]
  },
  {
   "cell_type": "markdown",
   "metadata": {},
   "source": [
    "## 实现逆傅里叶变换"
   ]
  },
  {
   "cell_type": "code",
   "execution_count": null,
   "metadata": {},
   "outputs": [],
   "source": [
    "img = cv2.imread('images/lena.bmp',0)\n",
    "dft = cv2.dft(np.float32(img),flags = cv2.DFT_COMPLEX_OUTPUT)\n",
    "dftShift = np.fft.fftshift(dft)\n",
    "ishift = np.fft.ifftshift(dftShift)\n",
    "iImg = cv2.idft(ishift)\n",
    "iImg= cv2.magnitude(iImg[:,:,0],iImg[:,:,1])\n",
    "plt.subplot(121),plt.imshow(img, cmap = 'gray')\n",
    "plt.title('original'), plt.axis('off')\n",
    "plt.subplot(122),plt.imshow(iImg, cmap = 'gray')\n",
    "plt.title('inverse'), plt.axis('off')\n",
    "plt.show()"
   ]
  },
  {
   "cell_type": "markdown",
   "metadata": {},
   "source": [
    "## 低通滤波示例"
   ]
  },
  {
   "cell_type": "code",
   "execution_count": null,
   "metadata": {},
   "outputs": [],
   "source": [
    "img = cv2.imread('images/lena.bmp',0)\n",
    "dft = cv2.dft(np.float32(img),flags = cv2.DFT_COMPLEX_OUTPUT)\n",
    "dftShift = np.fft.fftshift(dft)\n",
    "rows, cols = img.shape\n",
    "crow,ccol = int(rows/2) , int(cols/2)\n",
    "mask = np.zeros((rows,cols,2),np.uint8)\n",
    "#两个通道，与频谱图像匹配\n",
    "mask[crow-30:crow+30, ccol-30:ccol+30] = 1\n",
    "fShift = dftShift*mask\n",
    "ishift = np.fft.ifftshift(fShift)\n",
    "iImg = cv2.idft(ishift)\n",
    "iImg= cv2.magnitude(iImg[:,:,0],iImg[:,:,1])\n",
    "plt.subplot(121),plt.imshow(img, cmap = 'gray')\n",
    "plt.title('original'), plt.axis('off')\n",
    "plt.subplot(122),plt.imshow(iImg, cmap = 'gray')\n",
    "plt.title('result'), plt.axis('off')\n",
    "plt.show()"
   ]
  },
  {
   "cell_type": "markdown",
   "metadata": {},
   "source": [
    "---"
   ]
  }
 ],
 "metadata": {
  "interpreter": {
   "hash": "b636742cd7447c915110da4af08d48b478a44c23413a0d42f0e6f825f6094b71"
  },
  "kernelspec": {
   "display_name": "Python 3.9.7 64-bit ('taocv': conda)",
   "name": "python3"
  },
  "language_info": {
   "codemirror_mode": {
    "name": "ipython",
    "version": 3
   },
   "file_extension": ".py",
   "mimetype": "text/x-python",
   "name": "python",
   "nbconvert_exporter": "python",
   "pygments_lexer": "ipython3",
   "version": "3.9.7"
  },
  "orig_nbformat": 4
 },
 "nbformat": 4,
 "nbformat_minor": 2
}
