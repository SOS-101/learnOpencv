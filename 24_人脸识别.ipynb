{
 "cells": [
  {
   "cell_type": "markdown",
   "metadata": {},
   "source": [
    "# 导入所需模块"
   ]
  },
  {
   "cell_type": "code",
   "execution_count": 2,
   "metadata": {},
   "outputs": [],
   "source": [
    "import cv2\n",
    "import numpy as np\n",
    "import matplotlib.pyplot as plt"
   ]
  },
  {
   "cell_type": "markdown",
   "metadata": {},
   "source": [
    "\n",
    "---\n",
    "# 人脸检测\n",
    "## 基本原理\n",
    "### 级联分类器\n",
    "级联分类器就是基于这种思路，将多个简单的分类器按照一定的顺序级联而成的。\n",
    "\n",
    "### Haar级联分类器\n",
    "除此以外，OpenCV还提供了使用Hog特征和LBP算法的级联分类器。Hog级联分类器主要用于行人检测\n",
    "\n",
    "## 级联分类器的使用\n",
    "这些分类器可以用来检测人脸、脸部特征（眼睛、鼻子）、人类和其他物体。这些级联分类器以XML文件的形式存放在OpenCV源文件的data目录下，加载不同级联分类器的XML文件就可以实现对不同对象的检测。\n",
    "\n",
    "加载级联分类器`cv2.CascadeClassifier()`函数\n",
    "\n",
    "## 函数介绍\n",
    "在OpenCV中，人脸检测使用的是`cv2.CascadeClassifier.detectMultiScale()`函数，它可以检测出图片中所有的人脸。\n",
    "\n",
    "## 案例介绍"
   ]
  },
  {
   "cell_type": "code",
   "execution_count": null,
   "metadata": {},
   "outputs": [],
   "source": [
    "#读取待检测的图像\n",
    "image = cv2.imread('./images/dface3.jpg')\n",
    "# 获取xml文件,加载人脸检测器\n",
    "faceCascade = cv2.CascadeClassifier('haarcascade_frontalface_default.xml')\n",
    "# 色彩转换，转换为灰度图像\n",
    "gray = cv2.cvtColor(image,cv2.COLOR_BGR2GRAY)\n",
    "# 调用函数detectMultiScale\n",
    "faces = faceCascade.detectMultiScale(\n",
    "    gray,\n",
    "    scaleFactor = 1.15,\n",
    "    minNeighbors = 5,\n",
    "    minSize = (5,5)\n",
    ")\n",
    "print(faces)\n",
    "#打印输出测试结果\n",
    "print(\"发现{0}个人脸!\".format(len(faces)))\n",
    "#逐个标记人脸\n",
    "for(x,y,w,h) in faces:\n",
    "    # cv2.rectangle(image,(x,y),(x+w,y+w),(0,255,0),2) #矩形标注\n",
    "    cv2.circle(image,(int((x+x+w)/2),int((y+y+h)/2)),int(w/2),(0,255,0),2)\n",
    "#显示结果\n",
    "cv2.imshow(\"dect\",image)\n",
    "#保存检测结果\n",
    "cv2.imwrite(\"re.jpg\",image)\n",
    "cv2.waitKey(0)\n",
    "cv2.destroyAllWindows()"
   ]
  },
  {
   "cell_type": "markdown",
   "metadata": {},
   "source": [
    "\n",
    "---\n",
    " # LBPH人脸识别\n",
    " LBPH（Local Binary Patterns Histogram，局部二值模式直方图）所使用的模型基于LBP （Local Binary Pattern，局部二值模式）算法。LBP最早是被作为一种有效的纹理描述算子提出的，由于在表述图像局部纹理特征上效果出众而得到广泛应用。\n",
    "\n",
    " ## 基本原理\n",
    " ## 函数介绍\n",
    " 在OpenCV中，可以用函数`cv2.face.LBPHFaceRecognizer_create()`生成LBPH识别器实例模型，然后应用`cv2.\n",
    " face_FaceRecognizer.train()`函数完成训练，最后用`cv2.face_FaceRecognizer.predict()`函数完成人脸识别。\n",
    "\n",
    "\n",
    "## 案例介绍\n",
    " \n"
   ]
  },
  {
   "cell_type": "code",
   "execution_count": null,
   "metadata": {},
   "outputs": [],
   "source": [
    "\n",
    "images=[]\n",
    "images.append(cv2.imread(\"./images/a1.png\",cv2.IMREAD_GRAYSCALE))\n",
    "images.append(cv2.imread(\"./images/a2.png\",cv2.IMREAD_GRAYSCALE))\n",
    "images.append(cv2.imread(\"./images/b1.png\",cv2.IMREAD_GRAYSCALE))\n",
    "images.append(cv2.imread(\"./images/b2.png\",cv2.IMREAD_GRAYSCALE))\n",
    "labels=[0,0,1,1]\n",
    "#print(labels)\n",
    "\n",
    "recognizer = cv2.face.LBPHFaceRecognizer_create()\n",
    "recognizer.train(images, np.array(labels))  \n",
    "predict_image=cv2.imread(\"./images/a3.png\",cv2.IMREAD_GRAYSCALE)\n",
    "label,confidence= recognizer.predict(predict_image) \n",
    "print(\"label=\",label)\n",
    "print(\"confidence=\",confidence)"
   ]
  },
  {
   "cell_type": "markdown",
   "metadata": {},
   "source": [
    "\n",
    "---\n",
    "# EigenFaces人脸识别\n",
    "EigenFaces通常也被称为特征脸，它使用主成分分析（Principal ComponentAnalysis, PCA）方法将高维的人脸数据处理为低维数据后（降维），再进行数据分析和处理，获取识别结果。\n",
    "\n",
    "## 基本原理\n",
    "## 函数介绍\n",
    "OpenCV通过函数`cv2.face.EigenFaceRecognizer_create()`生成特征脸识别器实例模型，然后应用`cv2.face_FaceRecognizer.train()`函数完成训练，最后用`cv2.face_FaceRecognizer.predict()`函数完成人脸识别。\n",
    "\n",
    "## 案例介绍"
   ]
  },
  {
   "cell_type": "code",
   "execution_count": null,
   "metadata": {},
   "outputs": [],
   "source": [
    "images=[]\n",
    "images.append(cv2.imread(\"./images/e01.png\",cv2.IMREAD_GRAYSCALE))\n",
    "images.append(cv2.imread(\"./images/e02.png\",cv2.IMREAD_GRAYSCALE))\n",
    "images.append(cv2.imread(\"./images/e11.png\",cv2.IMREAD_GRAYSCALE))\n",
    "images.append(cv2.imread(\"./images/e12.png\",cv2.IMREAD_GRAYSCALE))\n",
    "labels=[0,0,1,1]\n",
    "#print(labels)\n",
    "recognizer = cv2.face.EigenFaceRecognizer_create()\n",
    "recognizer.train(images, np.array(labels))  \n",
    "predict_image=cv2.imread(\"./images/eTest.png\",cv2.IMREAD_GRAYSCALE)\n",
    "label,confidence= recognizer.predict(predict_image) \n",
    "print(\"label=\",label)\n",
    "print(\"confidence=\",confidence)"
   ]
  },
  {
   "cell_type": "markdown",
   "metadata": {},
   "source": [
    "\n",
    "---\n",
    "# Fisherfaces人脸识别\n",
    "PCA方法是EigenFaces方法的核心，它找到了最大化数据总方差特征的线性组合。不可否认，EigenFaces是一种非常有效的方法，但是它的缺点在于在操作过程中会损失许多特征信息。因此，在一些情况下，如果损失的信息正好是用于分类的关键信息，必然会导致无法完成分类。\n",
    "\n",
    "Fisherfaces采用LDA（Linear Discriminant Analysis，线性判别分析）实现人脸识别。线性判别识别最早由Fisher在1936年提出，是一种经典的线性学习方法，也被称为“Fisher判别分析法”。\n",
    "\n",
    "## 基本原理\n",
    "## 函数介绍\n",
    "在OpenCV中，通过函数`cv2.face.FisherFaceRecognizer_create()`生成Fisherfaces识别器实例模型，然后应用`cv2.face_FaceRecognizer.train()`函数完成训练，用`cv2.face_FaceRecognizer. predict()`函数完成人脸识别。\n",
    "\n",
    "## 案例介绍\n"
   ]
  },
  {
   "cell_type": "code",
   "execution_count": null,
   "metadata": {},
   "outputs": [],
   "source": [
    "images=[]\n",
    "images.append(cv2.imread(\"./images/f01.png\",cv2.IMREAD_GRAYSCALE))\n",
    "images.append(cv2.imread(\"./images/f02.png\",cv2.IMREAD_GRAYSCALE))\n",
    "images.append(cv2.imread(\"./images/f11.png\",cv2.IMREAD_GRAYSCALE))\n",
    "images.append(cv2.imread(\"./images/f12.png\",cv2.IMREAD_GRAYSCALE))\n",
    "labels=[0,0,1,1]\n",
    "#print(labels)\n",
    "recognizer = cv2.face.FisherFaceRecognizer_create()\n",
    "recognizer.train(images, np.array(labels))  \n",
    "predict_image=cv2.imread(\"./images/fTest.png\",cv2.IMREAD_GRAYSCALE)\n",
    "label,confidence= recognizer.predict(predict_image) \n",
    "print(\"label=\",label)\n",
    "print(\"confidence=\",confidence)"
   ]
  },
  {
   "cell_type": "markdown",
   "metadata": {},
   "source": [
    "\n",
    "---\n",
    "# 人脸数据库\n",
    "1. CAS-PEAL\n",
    "2. AT&T Facedatabase\n",
    "3. Yale Facedatabase A\n",
    "4. Extended Yale Facedatabase B\n",
    "5. color FERET Database\n",
    "6. 人脸数据库整理网站  \n",
    "   OpenCV的官方文档（官网）推荐了在线数据集合http://face-rec.org/databases/，其中列举了非常多的人脸数据库。"
   ]
  }
 ],
 "metadata": {
  "interpreter": {
   "hash": "b636742cd7447c915110da4af08d48b478a44c23413a0d42f0e6f825f6094b71"
  },
  "kernelspec": {
   "display_name": "Python 3.9.7 64-bit ('taocv': conda)",
   "language": "python",
   "name": "python3"
  },
  "language_info": {
   "codemirror_mode": {
    "name": "ipython",
    "version": 3
   },
   "file_extension": ".py",
   "mimetype": "text/x-python",
   "name": "python",
   "nbconvert_exporter": "python",
   "pygments_lexer": "ipython3",
   "version": "3.9.7"
  },
  "orig_nbformat": 4
 },
 "nbformat": 4,
 "nbformat_minor": 2
}
