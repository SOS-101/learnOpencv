{
 "cells": [
  {
   "cell_type": "markdown",
   "metadata": {},
   "source": [
    "# 导入所需模块"
   ]
  },
  {
   "cell_type": "code",
   "execution_count": 2,
   "metadata": {},
   "outputs": [],
   "source": [
    "import cv2\n",
    "import numpy as np"
   ]
  },
  {
   "cell_type": "markdown",
   "metadata": {},
   "source": [
    "图像梯度计算的是图像变化的速度。对于图像的边缘部分，其灰度值变化较大，梯度值也较大；相反，对于图像中比较平滑的部分，其灰度值变化较小，相应的梯度值也较小。一般情况下，图像梯度计算的是图像的边缘信息。    \n",
    "严格来讲，图像梯度计算需要求导数，但是图像梯度一般通过计算像素值的差来得到梯度的近似值（近似导数值）。   \n",
    "本章将关注Sobel算子、Scharr算子和Laplacian算子的使用。   \n",
    "#  Sobel理论基础\n",
    "Sobel算子是一种离散的微分算子，该算子结合了高斯平滑和微分求导运算。该算子利用局部差分寻找边缘，计算所得的是一个梯度的近似值。   \n",
    "滤波器也被称为“掩模”、“核”、“模板”、“窗口”、“算子”等。  \n",
    "## 1. 计算水平方向偏导数的近似值\n",
    "## 2. 计算垂直方向偏导数的近似值\n",
    "# Sobel算子及函数使用\n",
    "通过 `cv2.Sobel()`函数实现  \n",
    "## 参数ddepth\n",
    "为了避免信息丢失，我们在计算时使用更高的数据类型cv2.CV_64F，再通过取绝对值将其映射为cv2.CV_8U（8位图）类型。  \n",
    "在OpenCV中，使用函数`cv2.convertScaleAbs()`对参数取绝对值  \n",
    "`saturate()`表示计算结果的最大值是饱和值  "
   ]
  },
  {
   "cell_type": "code",
   "execution_count": null,
   "metadata": {},
   "outputs": [],
   "source": [
    "img = np.random.randint(-256,256,size=[4,5],dtype=np.int16)\n",
    "rst = cv2.convertScaleAbs(img)\n",
    "print(\"img=\\n\",img)\n",
    "print(\"rst=\\n\",rst)"
   ]
  },
  {
   "cell_type": "markdown",
   "metadata": {},
   "source": [
    "## 方向\n",
    "在函数`cv2.Sobel()`中，参数dx表示x轴方向的求导阶数，参数dy表示y轴方向的求导阶数。参数dx和dy通常的值为0或者1，最大值为2。如果是0，表示在该方向上没有求导。当然，参数dx和参数dy的值不能同时为0。   \n",
    "参数dx和参数dy可以有多种形式的组合，主要包含：  \n",
    "● 计算x方向边缘（梯度）:dx=1, dy=0。  \n",
    "● 计算y方向边缘（梯度）:dx=0, dy=1。  \n",
    "● 参数dx与参数dy的值均为1:dx=1, dy=1。  \n",
    "● 计算x方向和y方向的边缘叠加：通过组合方式实现。  \n"
   ]
  },
  {
   "cell_type": "code",
   "execution_count": 3,
   "metadata": {},
   "outputs": [],
   "source": [
    "o = cv2.imread('./images/sobel4.bmp',cv2.IMREAD_GRAYSCALE)\n",
    "Sobelx = cv2.Sobel(o,-1,1,0)\n",
    "cv2.imshow(\"original\",o)\n",
    "cv2.imshow(\"x\",Sobelx)\n",
    "cv2.waitKey()\n",
    "cv2.destroyAllWindows()"
   ]
  },
  {
   "cell_type": "code",
   "execution_count": 4,
   "metadata": {},
   "outputs": [],
   "source": [
    "o = cv2.imread(\"./images/sobel4.bmp\",cv2.IMREAD_GRAYSCALE)\n",
    "Sobelx = cv2.Sobel(o,cv2.CV_64F,1,0)\n",
    "Sobelx = cv2.convertScaleAbs(Sobelx)\n",
    "cv2.imshow(\"original\",o)\n",
    "cv2.imshow(\"x\",Sobelx)\n",
    "cv2.waitKey()\n",
    "cv2.destroyAllWindows()"
   ]
  },
  {
   "cell_type": "code",
   "execution_count": 5,
   "metadata": {},
   "outputs": [],
   "source": [
    "o = cv2.imread(\"./images/sobel4.bmp\",cv2.IMREAD_GRAYSCALE)\n",
    "Sobely = cv2.Sobel(o,cv2.CV_64F,0,1)\n",
    "Sobely = cv2.convertScaleAbs(Sobelx)\n",
    "cv2.imshow(\"original\",o)\n",
    "cv2.imshow(\"y\",Sobely)\n",
    "cv2.waitKey()\n",
    "cv2.destroyAllWindows()"
   ]
  },
  {
   "cell_type": "code",
   "execution_count": 6,
   "metadata": {},
   "outputs": [],
   "source": [
    "o = cv2.imread(\"./images/sobel4.bmp\",cv2.IMREAD_GRAYSCALE)\n",
    "Sobelxy = cv2.Sobel(o,cv2.CV_64F,1,1)\n",
    "Sobelxy = cv2.convertScaleAbs(Sobelx)\n",
    "cv2.imshow(\"original\",o)\n",
    "cv2.imshow(\"xy\",Sobelxy)\n",
    "cv2.waitKey()\n",
    "cv2.destroyAllWindows()"
   ]
  },
  {
   "cell_type": "code",
   "execution_count": 9,
   "metadata": {},
   "outputs": [],
   "source": [
    "o = cv2.imread(\"./images/sobel4.bmp\",cv2.IMREAD_GRAYSCALE)\n",
    "Sobelx = cv2.Sobel(o,cv2.CV_64F,1,0)\n",
    "Sobely = cv2.Sobel(o,cv2.CV_64F,0,1)\n",
    "Sobelx = cv2.convertScaleAbs(Sobelx)\n",
    "Sobely = cv2.convertScaleAbs(Sobely)\n",
    "Sobel = cv2.addWeighted(Sobelx,0.5,Sobely,0.5,0)\n",
    "cv2.imshow(\"original\",o)\n",
    "cv2.imshow(\"xy\",Sobel)\n",
    "cv2.waitKey()\n",
    "cv2.destroyAllWindows()"
   ]
  },
  {
   "cell_type": "code",
   "execution_count": null,
   "metadata": {},
   "outputs": [],
   "source": [
    "o = cv2.imread(\"./images/lena.bmp\",cv2.IMREAD_GRAYSCALE)\n",
    "Sobelx = cv2.Sobel(o,cv2.CV_64F,1,0)\n",
    "Sobely = cv2.Sobel(o,cv2.CV_64F,0,1)\n",
    "Sobelx = cv2.convertScaleAbs(Sobelx)\n",
    "Sobely = cv2.convertScaleAbs(Sobely)\n",
    "Sobelxy = cv2.addWeighted(Sobelx,0.5,Sobely,0.5,0)\n",
    "Sobelxy11 = cv2.Sobel(o,cv2.CV_64F,1,1)\n",
    "Sobelxy11 = cv2.convertScaleAbs(Sobelxy11)\n",
    "cv2.imshow(\"original\",o)\n",
    "cv2.imshow(\"xy\",Sobelxy)\n",
    "cv2.imshow(\"xy11\",Sobelxy11)\n",
    "cv2.waitKey()\n",
    "cv2.destroyAllWindows()"
   ]
  },
  {
   "cell_type": "markdown",
   "metadata": {},
   "source": [
    "# Scharr算子及函数使用\n",
    "OpenCV提供了Scharr算子，该算子具有和Sobel算子同样的速度，且精度更高。  \n",
    "参数dx和参数dy的组合形式有：  \n",
    "● 计算x方向边缘（梯度）:dx=1, dy=0。  \n",
    "● 计算y方向边缘（梯度）: dx=0, dy=1。  \n",
    "● 计算x方向与y方向的边缘叠加：通过组合方式实现。  \n",
    "## 计算x方向边缘（梯度）:dx=1, dy=0\n",
    "## 计算y方向边缘（梯度）:dx=0, dy=1\n",
    "## 计算x方向与y方向的边缘叠加"
   ]
  },
  {
   "cell_type": "code",
   "execution_count": 3,
   "metadata": {},
   "outputs": [],
   "source": [
    "o = cv2.imread(\"./images/scharr.bmp\",cv2.IMREAD_GRAYSCALE)\n",
    "Scharrx = cv2.Scharr(o,cv2.CV_64F,1,0)\n",
    "Scharrx = cv2.convertScaleAbs(Scharrx)\n",
    "cv2.imshow(\"original\",o)\n",
    "cv2.imshow(\"x\",Scharrx)\n",
    "cv2.waitKey()\n",
    "cv2.destroyAllWindows()"
   ]
  },
  {
   "cell_type": "code",
   "execution_count": 5,
   "metadata": {},
   "outputs": [],
   "source": [
    "o = cv2.imread(\"./images/scharr.bmp\",cv2.IMREAD_GRAYSCALE)\n",
    "Scharry = cv2.Scharr(o,cv2.CV_64F,0,1)\n",
    "Scharry = cv2.convertScaleAbs(Scharry)\n",
    "cv2.imshow(\"original\",o)\n",
    "cv2.imshow(\"y\",Scharry)\n",
    "cv2.waitKey()\n",
    "cv2.destroyAllWindows()"
   ]
  },
  {
   "cell_type": "code",
   "execution_count": 6,
   "metadata": {},
   "outputs": [],
   "source": [
    "o = cv2.imread(\"./images/scharr.bmp\",cv2.IMREAD_GRAYSCALE)\n",
    "Scharry = cv2.Scharr(o,cv2.CV_64F,0,1)\n",
    "Scharrx = cv2.Scharr(o,cv2.CV_64F,1,0)\n",
    "Scharrx = cv2.convertScaleAbs(Scharrx)\n",
    "Scharry = cv2.convertScaleAbs(Scharry)\n",
    "Scharrxy = cv2.addWeighted(Scharrx,0.5,Scharry,0.5,0)\n",
    "cv2.imshow(\"original\",o)\n",
    "cv2.imshow(\"xy\",Scharrxy)\n",
    "cv2.waitKey()\n",
    "cv2.destroyAllWindows()"
   ]
  },
  {
   "cell_type": "code",
   "execution_count": 7,
   "metadata": {},
   "outputs": [],
   "source": [
    "o = cv2.imread(\"./images/sobel4.bmp\",cv2.IMREAD_GRAYSCALE)\n",
    "Scharry = cv2.Sobel(o,cv2.CV_64F,0,1,-1)\n",
    "Scharrx = cv2.Sobel(o,cv2.CV_64F,1,0,-1)\n",
    "Scharrx = cv2.convertScaleAbs(Scharrx)\n",
    "Scharry = cv2.convertScaleAbs(Scharry)\n",
    "cv2.imshow(\"original\",o)\n",
    "cv2.imshow(\"x\",Scharrx)\n",
    "cv2.imshow(\"y\",Scharry)\n",
    "cv2.waitKey()\n",
    "cv2.destroyAllWindows()"
   ]
  },
  {
   "cell_type": "markdown",
   "metadata": {},
   "source": [
    "# Sobel和Scharr算子的比较\n"
   ]
  },
  {
   "cell_type": "code",
   "execution_count": 9,
   "metadata": {},
   "outputs": [],
   "source": [
    "o = cv2.imread(\"./images/lena.bmp\",cv2.IMREAD_GRAYSCALE)\n",
    "Sobelx = cv2.Sobel(o,cv2.CV_64F,1,0)\n",
    "Sobely = cv2.Sobel(o,cv2.CV_64F,0,1)\n",
    "Sobelx = cv2.convertScaleAbs(Sobelx)\n",
    "Sobely = cv2.convertScaleAbs(Sobely)\n",
    "Sobel = cv2.addWeighted(Sobelx,0.5,Sobely,0.5,0)\n",
    "Scharry = cv2.Scharr(o,cv2.CV_64F,0,1)\n",
    "Scharrx = cv2.Scharr(o,cv2.CV_64F,1,0)\n",
    "Scharrx = cv2.convertScaleAbs(Scharrx)\n",
    "Scharry = cv2.convertScaleAbs(Scharry)\n",
    "Scharrxy = cv2.addWeighted(Scharrx,0.5,Scharry,0.5,0)\n",
    "cv2.imshow(\"original\",o)\n",
    "cv2.imshow(\"Sobelxy\",Sobel)\n",
    "cv2.imshow(\"Scharrxy\",Scharrxy)\n",
    "cv2.waitKey()\n",
    "cv2.destroyAllWindows()"
   ]
  },
  {
   "cell_type": "markdown",
   "metadata": {},
   "source": [
    "# Laplacian算子及函数使用\n",
    "Laplacian（拉普拉斯）算子是一种二阶导数算子，其具有旋转不变性，可以满足不同方向的图像边缘锐化（边缘检测）的要求。通常情况下，其算子的系数之和需要为零。  \n",
    "使用函数`cv2.Laplacian()`实现Laplacian算子的计算   \n"
   ]
  },
  {
   "cell_type": "code",
   "execution_count": null,
   "metadata": {},
   "outputs": [],
   "source": [
    "o = cv2.imread(\"./images/laplacian.bmp\",cv2.IMREAD_GRAYSCALE)\n",
    "Laplacian = cv2.Laplacian(o,cv2.CV_64F)\n",
    "Laplacian = cv2.convertScaleAbs(Laplacian)\n",
    "cv2.imshow(\"original\",o)\n",
    "cv2.imshow(\"laplacian\",Laplacian)\n",
    "cv2.waitKey()\n",
    "cv2.destroyAllWindows()"
   ]
  }
 ],
 "metadata": {
  "interpreter": {
   "hash": "b636742cd7447c915110da4af08d48b478a44c23413a0d42f0e6f825f6094b71"
  },
  "kernelspec": {
   "display_name": "Python 3.9.7 64-bit ('taocv': conda)",
   "name": "python3"
  },
  "language_info": {
   "codemirror_mode": {
    "name": "ipython",
    "version": 3
   },
   "file_extension": ".py",
   "mimetype": "text/x-python",
   "name": "python",
   "nbconvert_exporter": "python",
   "pygments_lexer": "ipython3",
   "version": "3.9.7"
  },
  "orig_nbformat": 4
 },
 "nbformat": 4,
 "nbformat_minor": 2
}
