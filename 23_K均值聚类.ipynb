{
 "cells": [
  {
   "cell_type": "markdown",
   "metadata": {},
   "source": [
    "# 导入所需模块"
   ]
  },
  {
   "cell_type": "code",
   "execution_count": 1,
   "metadata": {},
   "outputs": [],
   "source": [
    "import cv2\n",
    "import numpy as np\n",
    "import matplotlib.pyplot as plt"
   ]
  },
  {
   "cell_type": "markdown",
   "metadata": {},
   "source": [
    "\n",
    "---\n",
    "当我们要预测的是一个离散值时，做的工作就是“分类”。\n",
    "\n",
    "当我们要预测的是一个连续值时，做的工作就是“回归”。\n",
    "\n",
    "机器学习模型还可以将训练集中的数据划分为若干个组，每个组被称为一个“簇（cluster）”。这些自动形成的簇，可能对应着不同的潜在概念，例如“篮球苗子”、“长跑苗子”。这种学习方式被称为“聚类（clusting）”，它的重要特点是在学习过程中不需要用标签对训练样本进行标注。也就是说，学习过程能够根据现有训练集自动完成分类（聚类）。\n",
    "\n",
    "根据训练数据是否有标签，我们可以将学习划分为监督学习和无监督学习。\n",
    "\n",
    "聚类是一种无监督学习，它能够将具有相似属性的对象划分到同一个集合（簇）中。聚类方法能够应用于所有对象，簇内的对象越相似，聚类算法的效果越好。\n",
    "\n",
    "# 理论基础\n",
    "## 分豆子\n",
    "## K均值聚类的基本步骤\n",
    "\n",
    "K均值聚类是一种将输入数据划分为k个簇的简单的聚类算法，该算法不断提取当前分类的中心点（也称为质心或重心），并最终在分类稳定时完成聚类。从本质上说，K均值聚类是一种迭代算法。\n",
    "\n",
    "K均值聚类算法的基本步骤如下：\n",
    "1. 随机选取k个点作为分类的中心点。\n",
    "2. 将每个数据点放到距离它最近的中心点所在的类中。\n",
    "3. 重新计算各个分类的数据点的平均值，将该平均值作为新的分类中心点。\n",
    "4. 重复步骤2和步骤3，直到分类稳定。\n",
    "\n",
    "---\n",
    "# K均值聚类模块\n",
    "OpenCV提供了函数`cv2.kmeans()`来实现K均值聚类。\n",
    "\n",
    "---\n",
    "# 简单示例\n",
    "1. 数据预处理\n",
    "2. 设置参数\n",
    "3. 调用函数`cv2.kmeans()`\n",
    "4. 确定分类\n",
    "5. 显示结果\n",
    "\n",
    "\n"
   ]
  },
  {
   "cell_type": "code",
   "execution_count": null,
   "metadata": {},
   "outputs": [],
   "source": [
    "#随机生成两组数组\n",
    "#生成60粒直径大小在[0,50]之间的xiaoMI\n",
    "xiaoMI = np.random.randint(0,50,60)\n",
    "#生成60粒直径大小在[200,250]之间的daMI\n",
    "daMI = np.random.randint(200,250,60)\n",
    "#将xiaoMI和daMI组合为MI\n",
    "MI = np.hstack((xiaoMI,daMI))\n",
    "#使用reshape函数将其转换为(120,1)\n",
    "MI = MI.reshape((120,1))\n",
    "#将MI的数据类型转换为float32\n",
    "MI = np.float32(MI)\n",
    "#调用kmeans模块\n",
    "#设置参数criteria的值\n",
    "criteria = (cv2.TERM_CRITERIA_EPS + cv2.TERM_CRITERIA_MAX_ITER, 10, 1.0)\n",
    "#设置参数flags的值\n",
    "flags = cv2.KMEANS_RANDOM_CENTERS\n",
    "#调用函数kmeans\n",
    "retval,bestLabels,centers = cv2.kmeans(MI,2,None,criteria,10,flags)\n",
    "'''\n",
    "#打印返回值\n",
    "print(retval)\n",
    "print(bestLabels)\n",
    "print(centers)\n",
    "'''\n",
    "#获取分类结果\n",
    "XM = MI[bestLabels==0]\n",
    "DM = MI[bestLabels==1]\n",
    "#绘制分类结果\n",
    "#绘制原始数据\n",
    "plt.plot(XM,'ro')\n",
    "plt.plot(DM,'bs')\n",
    "#绘制中心点\n",
    "plt.plot(centers[0],'rx')\n",
    "plt.plot(centers[1],'bx')\n",
    "plt.show()"
   ]
  },
  {
   "cell_type": "code",
   "execution_count": null,
   "metadata": {},
   "outputs": [],
   "source": [
    "#随机生成两组数值\n",
    "#xiaomi组,长和宽的大小都在[0,20]\n",
    "xiaomi = np.random.randint(0,20,(30,2))\n",
    "#dami组,长和宽的大小都在[40,60]\n",
    "dami = np.random.randint(40,60,(30,2))\n",
    "#组合数据\n",
    "MI = np.vstack((xiaomi,dami))\n",
    "# 转换为float32类型\n",
    "MI = np.float32(MI)\n",
    "# 调用kmeans模块\n",
    "#设置参数criteria值\n",
    "criteria = (cv2.TERM_CRITERIA_EPS + cv2.TERM_CRITERIA_MAX_ITER, 10, 1.0)\n",
    "#调用kmeans函数\n",
    "ret,label,center=cv2.kmeans(MI,2,None,criteria,10,cv2.KMEANS_RANDOM_CENTERS)\n",
    "'''\n",
    "#打印返回值\n",
    "print(ret)\n",
    "print(label)\n",
    "print(center)\n",
    "'''\n",
    "# 根据kmeans处理结果，将数据分类，分为XM和DM两大类\n",
    "XM = MI[label.ravel()==0]\n",
    "DM = MI[label.ravel()==1]\n",
    "# 绘制分类结果数据及中心点\n",
    "plt.scatter(XM[:,0],XM[:,1],c = 'g', marker = 's')\n",
    "plt.scatter(DM[:,0],DM[:,1],c = 'r', marker = 'o')\n",
    "plt.scatter(center[0,0],center[0,1],s = 200,c = 'b', marker = 'o')\n",
    "plt.scatter(center[1,0],center[1,1],s = 200,c = 'b', marker = 's')\n",
    "plt.xlabel('Height'),plt.ylabel('Width')\n",
    "plt.show()"
   ]
  },
  {
   "cell_type": "markdown",
   "metadata": {},
   "source": [
    "1. 图像预处理\n",
    "2. 设置函数`cv2.kmeans()`的参数形式\n",
    "3. 调用函数`cv2.kmeans()`\n",
    "4. 值替换\n",
    "5. 显示变换前后的图像"
   ]
  },
  {
   "cell_type": "code",
   "execution_count": null,
   "metadata": {},
   "outputs": [],
   "source": [
    "#读取待处理图像\n",
    "img = cv2.imread('./images/lena.bmp')\n",
    "#使用reshape将一个RGB像素点值的三个值作为一个单元\n",
    "data = img.reshape((-1,3))\n",
    "#转换为kmeans可以处理的类型\n",
    "data = np.float32(data)\n",
    "#调用kmeans模块\n",
    "criteria = (cv2.TERM_CRITERIA_EPS + cv2.TERM_CRITERIA_MAX_ITER, 10, 1.0)\n",
    "K =2\n",
    "ret,label,center=cv2.kmeans(data,K,None,criteria,10,cv2.KMEANS_RANDOM_CENTERS)\n",
    "# 转换为uint8数据类型，将每个像素点值都赋值为当前组的中心点值\n",
    "#将center的值转换为uint8\n",
    "center = np.uint8(center)\n",
    "#使用center内的值替换原有像素点值\n",
    "res1 = center[label.flatten()]\n",
    "#使用reshape调整替换后图像\n",
    "res2 = res1.reshape((img.shape))\n",
    "#显示处理结果\n",
    "plt.subplot(121)\n",
    "plt.imshow(img)\n",
    "plt.axis('off')\n",
    "plt.subplot(122)\n",
    "plt.imshow(res2)\n",
    "plt.axis('off')"
   ]
  }
 ],
 "metadata": {
  "interpreter": {
   "hash": "b636742cd7447c915110da4af08d48b478a44c23413a0d42f0e6f825f6094b71"
  },
  "kernelspec": {
   "display_name": "Python 3.9.7 64-bit ('taocv': conda)",
   "language": "python",
   "name": "python3"
  },
  "language_info": {
   "codemirror_mode": {
    "name": "ipython",
    "version": 3
   },
   "file_extension": ".py",
   "mimetype": "text/x-python",
   "name": "python",
   "nbconvert_exporter": "python",
   "pygments_lexer": "ipython3",
   "version": "3.9.7"
  },
  "orig_nbformat": 4
 },
 "nbformat": 4,
 "nbformat_minor": 2
}
