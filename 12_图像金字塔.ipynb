{
 "cells": [
  {
   "cell_type": "markdown",
   "metadata": {},
   "source": [
    "# 导入所需模块"
   ]
  },
  {
   "cell_type": "code",
   "execution_count": 1,
   "metadata": {},
   "outputs": [],
   "source": [
    "import cv2\n",
    "import numpy as np"
   ]
  },
  {
   "cell_type": "markdown",
   "metadata": {},
   "source": [
    "图像金字塔是由一幅图像的多个不同分辨率的子图所构成的图像集合。该组图像是由单个图像通过不断地降采样所产生的，最小的图像可能仅仅有一个像素点。  \n",
    "通常情况下，图像金字塔的底部是待处理的高分辨率图像（原始图像），而顶部则为其低分辨率的近似图像。向金字塔的顶部移动时，图像的尺寸和分辨率都不断地降低。通常情况下，每向上移动一级，图像的宽和高都降低为原来的二分之一。  \n",
    "# 理论基础\n",
    "图像金字塔是同一图像不同分辨率的子图集合，是通过对原图像不断地向下采样而产生的，即由高分辨率的图像（大尺寸）产生低分辨率的近似图像（小尺寸）  \n",
    "滤波  \n",
    "- 领域滤波器\n",
    "- 高斯滤波器\n",
    "\n",
    "向上采样  \n",
    "向下采样  \n",
    "不可恢复的  \n",
    "# pyrDown函数及使用"
   ]
  },
  {
   "cell_type": "code",
   "execution_count": null,
   "metadata": {},
   "outputs": [],
   "source": [
    "o = cv2.imread(\"./images/lena512.bmp\",cv2.IMREAD_GRAYSCALE)\n",
    "r1 = cv2.pyrDown(o)\n",
    "r2 = cv2.pyrDown(r1)\n",
    "r3 = cv2.pyrDown(r2)\n",
    "print(\"o.shape=\",o.shape)\n",
    "print(\"r1.shape=\",r1.shape)\n",
    "print(\"r2.shape=\",r2.shape)\n",
    "print(\"r3.shape=\",r3.shape)\n",
    "cv2.imshow(\"original\",o)\n",
    "cv2.imshow(\"r1\",r1)\n",
    "cv2.imshow(\"r2\",r2)\n",
    "cv2.imshow(\"r3\",r3)\n",
    "cv2.waitKey()\n",
    "cv2.destroyAllWindows()"
   ]
  },
  {
   "cell_type": "markdown",
   "metadata": {},
   "source": [
    "# pyrUp函数及使用"
   ]
  },
  {
   "cell_type": "code",
   "execution_count": null,
   "metadata": {},
   "outputs": [],
   "source": [
    "o = cv2.imread(\"./images/lenas.bmp\",cv2.IMREAD_GRAYSCALE)\n",
    "r1 = cv2.pyrUp(o)\n",
    "r2 = cv2.pyrUp(r1)\n",
    "r3 = cv2.pyrUp(r2)\n",
    "print(\"o.shape=\",o.shape)\n",
    "print(\"r1.shape=\",r1.shape)\n",
    "print(\"r2.shape=\",r2.shape)\n",
    "print(\"r3.shape=\",r3.shape)\n",
    "cv2.imshow(\"original\",o)\n",
    "cv2.imshow(\"r1\",r1)\n",
    "cv2.imshow(\"r2\",r2)\n",
    "cv2.imshow(\"r3\",r3)\n",
    "cv2.waitKey()\n",
    "cv2.destroyAllWindows()"
   ]
  },
  {
   "cell_type": "markdown",
   "metadata": {},
   "source": [
    "# 采样可逆性的研究"
   ]
  },
  {
   "cell_type": "code",
   "execution_count": null,
   "metadata": {},
   "outputs": [],
   "source": [
    "o = cv2.imread(\"./images/lena512.bmp\")\n",
    "down = cv2.pyrDown(o)\n",
    "up = cv2.pyrUp(down)\n",
    "diff = up - o\n",
    "print(\"o.shape=\",o.shape)\n",
    "print(\"up.shape=\",up.shape)\n",
    "cv2.imshow('original',o)\n",
    "cv2.imshow('up',up)\n",
    "cv2.imshow(\"difference\",diff)\n",
    "cv2.waitKey()\n",
    "cv2.destroyAllWindows()"
   ]
  },
  {
   "cell_type": "code",
   "execution_count": null,
   "metadata": {},
   "outputs": [],
   "source": [
    "o = cv2.imread(\"./images/lena512.bmp\")\n",
    "up = cv2.pyrUp(o)\n",
    "down = cv2.pyrDown(up)\n",
    "diff = down - o\n",
    "print(\"o.shape=\",o.shape)\n",
    "print(\"down.shape=\",down.shape)\n",
    "cv2.imshow('original',o)\n",
    "cv2.imshow('down',down)\n",
    "cv2.imshow(\"difference\",diff)\n",
    "cv2.waitKey()\n",
    "cv2.destroyAllWindows()"
   ]
  },
  {
   "cell_type": "markdown",
   "metadata": {},
   "source": [
    "# 拉普拉斯金字塔\n",
    "高斯金字塔是通过对一幅图像一系列的向下采样所产生的。有时，我们希望通过对金字塔中的小图像进行向上采样以获取完整的大尺寸高分辨率图像，这时就需要用到拉普拉斯金字塔。  \n",
    "## 定义\n",
    "为了在向上采样时能够恢复具有较高分辨率的原始图像，就要获取在采样过程中所丢失的信息，这些丢失的信息就构成了拉普拉斯金字塔。  \n",
    "\n",
    "拉普拉斯金字塔中的第i层，等于“高斯金字塔中的第i层”与“高斯金字塔中的第i+1层的向上采样结果”之差。\n",
    "\n"
   ]
  },
  {
   "cell_type": "code",
   "execution_count": null,
   "metadata": {},
   "outputs": [],
   "source": [
    "o = cv2.imread(\"./images/lena512.bmp\")\n",
    "G0 = o\n",
    "G1 = cv2.pyrDown(G0)\n",
    "G2 = cv2.pyrDown(G1)\n",
    "G3 = cv2.pyrDown(G2)\n",
    "\n",
    "L0 = G0 - cv2.pyrUp(G1)\n",
    "L1 = G1 - cv2.pyrUp(G2)\n",
    "L2 = G2 - cv2.pyrUp(G3)\n",
    "\n",
    "print(\"L0.shape=\",L0.shape)\n",
    "print(\"L1.shape=\",L1.shape)\n",
    "print(\"L2.shape=\",L2.shape)\n",
    "\n",
    "cv2.imshow(\"L0\",L0)\n",
    "cv2.imshow(\"L1\",L1)\n",
    "cv2.imshow(\"L2\",L2)\n",
    "\n",
    "cv2.waitKey()\n",
    "cv2.destroyAllWindows()"
   ]
  },
  {
   "cell_type": "markdown",
   "metadata": {},
   "source": [
    "## 应用"
   ]
  },
  {
   "cell_type": "code",
   "execution_count": null,
   "metadata": {},
   "outputs": [],
   "source": [
    "o = cv2.imread(\"./images/lena512.bmp\")\n",
    "G0 = o\n",
    "G1 = cv2.pyrDown(G0)\n",
    "L0 = o - cv2.pyrUp(G1)\n",
    "R0 = L0 + cv2.pyrUp(G1)\n",
    "print(\"o.shape=\",o.shape)\n",
    "print(\"R0.shape=\",R0.shape)\n",
    "result = R0 - o\n",
    "result = abs(result)\n",
    "print(\"|original_o - R0| = \",np.sum(result))"
   ]
  }
 ],
 "metadata": {
  "interpreter": {
   "hash": "b636742cd7447c915110da4af08d48b478a44c23413a0d42f0e6f825f6094b71"
  },
  "kernelspec": {
   "display_name": "Python 3.9.7 64-bit ('taocv': conda)",
   "name": "python3"
  },
  "language_info": {
   "codemirror_mode": {
    "name": "ipython",
    "version": 3
   },
   "file_extension": ".py",
   "mimetype": "text/x-python",
   "name": "python",
   "nbconvert_exporter": "python",
   "pygments_lexer": "ipython3",
   "version": "3.9.7"
  },
  "orig_nbformat": 4
 },
 "nbformat": 4,
 "nbformat_minor": 2
}
