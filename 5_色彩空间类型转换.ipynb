{
 "cells": [
  {
   "cell_type": "markdown",
   "metadata": {},
   "source": [
    "# 导入所需模块"
   ]
  },
  {
   "cell_type": "code",
   "execution_count": 1,
   "metadata": {},
   "outputs": [],
   "source": [
    "import cv2\n",
    "import numpy as np"
   ]
  },
  {
   "cell_type": "markdown",
   "metadata": {},
   "source": [
    "每个色彩空间都有自己擅长处理的领域，所以在处理特定问题时，会在不同色彩空间间进行转换。  \n",
    "色彩空间也称为颜色空间、彩色空间、颜色模型、彩色系统、彩色模型、色彩模型等。  \n",
    "# 色彩空间基础\n",
    "## 1. GRAY色彩空间\n",
    "GRAY（灰度图像）通常指8位灰度图，其具有256个灰度级，像素值的范围是[0,255]。  \n",
    "当由RGB色彩空间转换为GRAY时，公式为：Gray=0.299·R+0.587·G+0.114·B  \n",
    "在opencv中，也可以简化为 $GRAY = \\frac{R+G+B}{3}$  \n",
    "由GRAY转换为RGB时，R=GRAY,G=GRAY,B=GRAY。  \n",
    "## 2. XYZ色彩空间\n",
    "XYZ色彩空间是由CIE（International Commission on Illumination）定义的，是一种更便于计算的色彩空间，它可以与RGB色彩空间相互转换。  \n",
    "RGB转换为XYZ：   \n",
    "![RGB2XYZ](./images/RGB2XYZ.png)  \n",
    "XYZ转换为RGB：  \n",
    "![XYZ2RGB](./images/XYZ2RGB.png)  \n",
    "## 3. YCrCb色彩空间\n",
    "在YCrCb色彩空间中，Y代表光源的亮度，色度信息保存在Cr和Cb中，其中，Cr表示红色分量信息，Cb表示蓝色分量信息。  \n",
    "## 4. HSV色彩空间\n",
    "HSV色彩空间从心理学和视觉的角度出发，指出人眼的色彩知觉主要包含三要素：色调（Hue，也称为色相）、饱和度（Saturation）、亮度（Value），色调指光的颜色，饱和度是指色彩的深浅程度，亮度指人眼感受到的光的明暗程度。  \n",
    "## 5. HSL色彩空间\n",
    "HLS色彩空间包含的三要素是色调H（Hue）、光亮度/明度L（Lightness）、饱和度S（Saturation）。与HSV色彩空间类似，只是HLS色彩空间用“光亮度/明度L（lightness）”替换了“亮度（Value）”。  \n",
    "## 6. CIEL\\*a\\*b*色彩空间\n",
    "\n",
    "## 7. CIEL\\*u\\*v*色彩空间\n",
    "\n",
    "## 8. Bayer色彩空间\n",
    "[色彩空间基本参考文章1](https://weread.qq.com/web/reader/30232de0719146363020e69k4e73277021a4e732ced3b55)"
   ]
  },
  {
   "cell_type": "markdown",
   "metadata": {},
   "source": [
    "# 类型转换函数\n",
    "`dst = cv2.cvtColor(src,code[,dstCn])`  \n",
    "式中：  \n",
    "● dst表示输出图像，与原始输入图像具有同样的数据类型和深度。  \n",
    "● src表示原始输入图像。可以是8位无符号图像、16位无符号图像，或者单精度浮点数等。  \n",
    "● code是色彩空间转换码，展示了其枚举值。  \n",
    "● dstCn是目标图像的通道数。如果参数为默认的0，则通道数自动通过原始输入图像和code得到。  \n",
    "[转换码参考](https://weread.qq.com/web/reader/30232de0719146363020e69k02e32f0021b02e74f10ece8)"
   ]
  },
  {
   "cell_type": "markdown",
   "metadata": {},
   "source": [
    "# 类型转换示例\n",
    "## 通过数组观看转换结果\n"
   ]
  },
  {
   "cell_type": "code",
   "execution_count": null,
   "metadata": {},
   "outputs": [],
   "source": [
    "img = np.random.randint(0,256,size=[2,4,3],dtype=np.uint8)\n",
    "rst = cv2.cvtColor(img,cv2.COLOR_BGR2GRAY)\n",
    "print(\"img=\\n\",img)\n",
    "print(\"rst=\\n\",rst)\n",
    "print(\"像素点(1,0)直接计算得到的值=\",img[1,0,0]*0.114+img[1,0,1]*0.587+img[1,0,2]*0.299)\n",
    "print(\"像素点(1,0)使用公式cv2.cvtColor()转换值=\",rst[1,0])"
   ]
  },
  {
   "cell_type": "code",
   "execution_count": null,
   "metadata": {},
   "outputs": [],
   "source": [
    "img = np.random.randint(0,256,size=[2,4],dtype=np.uint8)\n",
    "rst = cv2.cvtColor(img,cv2.COLOR_GRAY2BGR)\n",
    "print(\"img=\\n\",img)\n",
    "print(\"rst=\\n\",rst)"
   ]
  },
  {
   "cell_type": "code",
   "execution_count": null,
   "metadata": {},
   "outputs": [],
   "source": [
    "img = np.random.randint(0,256,size=[2,4,3],dtype=np.uint8)\n",
    "rgb = cv2.cvtColor(img,cv2.COLOR_BGR2RGB)\n",
    "bgr = cv2.cvtColor(rgb,cv2.COLOR_RGB2BGR)\n",
    "print(\"img=\\n\",img)\n",
    "print(\"rgb=\\n\",rgb)\n",
    "print(\"bgr=\\n\",bgr)"
   ]
  },
  {
   "cell_type": "markdown",
   "metadata": {},
   "source": [
    "## 图像处理实例"
   ]
  },
  {
   "cell_type": "code",
   "execution_count": null,
   "metadata": {},
   "outputs": [],
   "source": [
    "lena = cv2.imread(\"./images/lenacolor.png\")\n",
    "gray = cv2.cvtColor(lena,cv2.COLOR_BGR2GRAY)\n",
    "rgb = cv2.cvtColor(gray,cv2.COLOR_GRAY2BGR)\n",
    "print(\"lena.shape=\",lena.shape)\n",
    "print(\"gray.shape=\",gray.shape)\n",
    "print(\"rgb.shape=\",rgb.shape)\n",
    "cv2.imshow(\"lena\",lena)\n",
    "cv2.imshow(\"gray\",gray)\n",
    "cv2.imshow(\"rgb\",rgb)\n",
    "cv2.waitKey()\n",
    "cv2.destroyAllWindows()"
   ]
  },
  {
   "cell_type": "code",
   "execution_count": 4,
   "metadata": {},
   "outputs": [],
   "source": [
    "lena = cv2.imread(\"./images/lenacolor.png\")\n",
    "rgb = cv2.cvtColor(lena,cv2.COLOR_BGR2RGB)\n",
    "cv2.imshow(\"lena\",lena)\n",
    "cv2.imshow(\"rgb\",rgb)\n",
    "cv2.waitKey()\n",
    "cv2.destroyAllWindows()"
   ]
  },
  {
   "cell_type": "markdown",
   "metadata": {},
   "source": [
    "# HSV色彩空间讨论\n",
    "## 基础知识\n",
    "HSV色彩空间从心理学和视觉的角度出发，提出人眼的色彩知觉主要包含三要素：  \n",
    "● H：色调（Hue，也称为色相）。  \n",
    "● S：饱和度（Saturation）。  \n",
    "● V：亮度（Value）。  \n",
    "### 1. 色调H\n",
    "在HSV色彩空间中，H的取值范围为0~360°，而在opencv中8位图像仅能表示0~256，所以要映射到opencv能表示的范围，通过除2来达成这个目的。  \n",
    "### 2. 饱和度S\n",
    "饱和度值的范围是[0,1]，所以针对饱和度，需要说明以下问题：  \n",
    "● 灰度颜色所包含的R、G、B的成分是相等的，相当于一种极不饱和的颜色。所以，灰度颜色的饱和度值是0。  \n",
    "● 作为灰度图像显示时，较亮区域对应的颜色具有较高的饱和度。  \n",
    "● 如果颜色的饱和度很低，那么它计算所得色调就不可靠。  \n",
    "我们在4.3节介绍cv2.cvtColor()函数时曾指出，进行色彩空间转换后，为了适应8位图的256个像素级，需要将新色彩空间内的数值映射到[0,255]范围内。所以，同样要将饱和度S的值从[0,1]范围映射到[0,255]范围内。  \n",
    "### 3. 亮度V\n",
    "亮度的范围与饱和度的范围一致，都是[0,1]。同样，亮度值在OpenCV内也将值映射到[0,255]范围内。亮度值越大，图像越亮；亮度值越低，图像越暗。当亮度值为0时，图像是纯黑色。    \n",
    "## 获取指定颜色"
   ]
  },
  {
   "cell_type": "code",
   "execution_count": null,
   "metadata": {},
   "outputs": [],
   "source": [
    "imgBlue = np.zeros([1,1,3],dtype=np.uint8)\n",
    "imgBlue[0,0,0] = 255\n",
    "Blue = imgBlue\n",
    "BlueHSV = cv2.cvtColor(Blue,cv2.COLOR_BGR2HSV)\n",
    "print('Blue=\\n',Blue)\n",
    "print(\"BlueHSV=\\n\",BlueHSV)\n",
    "\n",
    "imgGreen = np.zeros([1,1,3],dtype=np.uint8)\n",
    "imgGreen[0,0,1] = 255\n",
    "Green = imgGreen\n",
    "GreenHSV = cv2.cvtColor(Green,cv2.COLOR_BGR2HSV)\n",
    "print('Green=\\n',Green)\n",
    "print(\"GreenHSV=\\n\",GreenHSV)\n",
    "\n",
    "imgRed = np.zeros([1,1,3],dtype=np.uint8)\n",
    "imgRed[0,0,2] = 255\n",
    "Red = imgRed\n",
    "RedHSV = cv2.cvtColor(Red,cv2.COLOR_BGR2HSV)\n",
    "print('Red=\\n',Red)\n",
    "print(\"RedHSV=\\n\",RedHSV)"
   ]
  },
  {
   "cell_type": "markdown",
   "metadata": {},
   "source": [
    "## 标记指定颜色\n",
    "### 1. 通过inRange函数锁定特定值\n"
   ]
  },
  {
   "cell_type": "code",
   "execution_count": null,
   "metadata": {},
   "outputs": [],
   "source": [
    "img = np.random.randint(0,256,size=[5,5],dtype=np.uint8)\n",
    "min = 100\n",
    "max = 200\n",
    "mask = cv2.inRange(img,min,max)\n",
    "print('img=\\n',img)\n",
    "print(\"mask=\\n\",mask)"
   ]
  },
  {
   "cell_type": "markdown",
   "metadata": {},
   "source": [
    "### 2. 通过基于掩码的按位与显示ROI\n"
   ]
  },
  {
   "cell_type": "code",
   "execution_count": null,
   "metadata": {},
   "outputs": [],
   "source": [
    "img = np.ones([5,5],dtype=np.uint8)*9\n",
    "mask = np.zeros([5,5],dtype=np.uint8)\n",
    "mask[0:3,0] = 1\n",
    "mask[2:5,2:4] = 1\n",
    "roi = cv2.bitwise_and(img,img,mask=mask)\n",
    "print(\"img=\\n\",img)\n",
    "print('mask=\\n',mask)\n",
    "print(\"roi=\\n\",roi)"
   ]
  },
  {
   "cell_type": "markdown",
   "metadata": {},
   "source": [
    "## 显示特定颜色值"
   ]
  },
  {
   "cell_type": "code",
   "execution_count": 6,
   "metadata": {},
   "outputs": [],
   "source": [
    "opencv = cv2.imread(\"./images/opencv.jpg\")\n",
    "hsv = cv2.cvtColor(opencv,cv2.COLOR_BGR2HSV)\n",
    "cv2.imshow(\"opencv\",opencv)\n",
    "minBlue = np.array([110,50,50])\n",
    "maxBlue = np.array([130,255,255])\n",
    "mask = cv2.inRange(hsv,minBlue,maxBlue)\n",
    "blue = cv2.bitwise_and(opencv,opencv,mask=mask)\n",
    "cv2.imshow('blue',blue)\n",
    "\n",
    "minGreen = np.array([50,50,50])\n",
    "maxGreen = np.array([70,255,255])\n",
    "mask = cv2.inRange(hsv,minGreen,maxGreen)\n",
    "green = cv2.bitwise_and(opencv,opencv,mask=mask)\n",
    "cv2.imshow('green',green)\n",
    "\n",
    "minReg = np.array([0,50,50])\n",
    "maxReg = np.array([30,255,255])\n",
    "mask = cv2.inRange(hsv,minReg,maxReg)\n",
    "reg = cv2.bitwise_and(opencv,opencv,mask=mask)\n",
    "cv2.imshow('reg',reg)\n",
    "cv2.waitKey()\n",
    "cv2.destroyAllWindows()"
   ]
  },
  {
   "cell_type": "markdown",
   "metadata": {},
   "source": [
    "## 标记肤色"
   ]
  },
  {
   "cell_type": "code",
   "execution_count": 7,
   "metadata": {},
   "outputs": [],
   "source": [
    "img = cv2.imread(\"./images/lesson2.jpg\")\n",
    "hsv = cv2.cvtColor(img,cv2.COLOR_BGR2HSV)\n",
    "h,s,v = cv2.split(hsv)\n",
    "minHue = 5\n",
    "maxHue = 170\n",
    "hueMask = cv2.inRange(h,minHue,maxHue)\n",
    "minSat = 25\n",
    "maxSat = 166\n",
    "satMask = cv2.inRange(s,minSat,maxSat)\n",
    "mask = hueMask&satMask\n",
    "roi = cv2.bitwise_and(img,img,mask=mask)\n",
    "cv2.imshow(\"img\",img)\n",
    "cv2.imshow(\"ROI\",roi)\n",
    "cv2.waitKey()\n",
    "cv2.destroyAllWindows()"
   ]
  },
  {
   "cell_type": "markdown",
   "metadata": {},
   "source": [
    "## 实现艺术效果\n"
   ]
  },
  {
   "cell_type": "code",
   "execution_count": 9,
   "metadata": {},
   "outputs": [],
   "source": [
    "img = cv2.imread(\"./images/barbara.bmp\")\n",
    "hsv = cv2.cvtColor(img,cv2.COLOR_BGR2HSV)\n",
    "h,s,v = cv2.split(hsv)\n",
    "v[:,:] = 255\n",
    "newHSV = cv2.merge([h,s,v])\n",
    "art = cv2.cvtColor(newHSV,cv2.COLOR_HSV2BGR)\n",
    "cv2.imshow(\"img\",img)\n",
    "cv2.imshow(\"art\",art)\n",
    "cv2.waitKey()\n",
    "cv2.destroyAllWindows()\n"
   ]
  },
  {
   "cell_type": "markdown",
   "metadata": {},
   "source": [
    "# alpha通道\n",
    "在RGB色彩空间三个通道的基础上，还可以加上一个A通道，也叫alpha通道，表示透明度。这种4个通道的色彩空间被称为RGBA色彩空间，PNG图像是一种典型的4通道图像。alpha通道的赋值范围是[0, 1]，或者[0, 255]，表示从透明到不透明。  "
   ]
  },
  {
   "cell_type": "code",
   "execution_count": null,
   "metadata": {},
   "outputs": [],
   "source": [
    "img = np.random.randint(0,256,size=[2,3,3],dtype=np.uint8)\n",
    "bgra = cv2.cvtColor(img,cv2.COLOR_BGR2BGRA)\n",
    "print(\"img=\\n\",img)\n",
    "print(\"bgra=\\n\",bgra)\n",
    "b,g,r,a = cv2.split(bgra)\n",
    "print(\"a=\\n\",a)\n",
    "a[:,:] = 125\n",
    "bgra = cv2.merge([b,g,r,a])\n",
    "print(\"bgra=\\n\",bgra)"
   ]
  },
  {
   "cell_type": "code",
   "execution_count": null,
   "metadata": {},
   "outputs": [],
   "source": [
    "img = cv2.imread(\"./images/lenacolor.png\")\n",
    "bgra = cv2.cvtColor(img,cv2.COLOR_BGR2BGRA)\n",
    "b,g,r,a = cv2.split(bgra)\n",
    "a[:,:] = 125\n",
    "bgra125 = cv2.merge([b,g,r,a])\n",
    "a[:,:] = 0\n",
    "bgra0 = cv2.merge([b,g,r,a])\n",
    "cv2.imshow('img',img)\n",
    "cv2.imshow('bgra',bgra)\n",
    "cv2.imshow('bgra125',bgra125)\n",
    "cv2.imshow('bgra0',bgra0)\n",
    "cv2.waitKey()\n",
    "cv2.destroyAllWindows()\n",
    "cv2.imwrite('./images/bgra.png',bgra)\n",
    "cv2.imwrite(\"./images/bgra125.png\",bgra125)\n",
    "cv2.imwrite(\"./images/bgra0.png\",bgra0)"
   ]
  }
 ],
 "metadata": {
  "interpreter": {
   "hash": "b636742cd7447c915110da4af08d48b478a44c23413a0d42f0e6f825f6094b71"
  },
  "kernelspec": {
   "display_name": "Python 3.9.7 64-bit ('taocv': conda)",
   "name": "python3"
  },
  "language_info": {
   "codemirror_mode": {
    "name": "ipython",
    "version": 3
   },
   "file_extension": ".py",
   "mimetype": "text/x-python",
   "name": "python",
   "nbconvert_exporter": "python",
   "pygments_lexer": "ipython3",
   "version": "3.9.7"
  },
  "orig_nbformat": 4
 },
 "nbformat": 4,
 "nbformat_minor": 2
}
