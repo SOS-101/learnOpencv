{
 "cells": [
  {
   "cell_type": "markdown",
   "metadata": {},
   "source": [
    "# 导入所需模块"
   ]
  },
  {
   "cell_type": "code",
   "execution_count": 1,
   "metadata": {},
   "outputs": [],
   "source": [
    "import cv2\n",
    "import numpy as np"
   ]
  },
  {
   "cell_type": "markdown",
   "metadata": {},
   "source": [
    "\n",
    "---\n",
    "# 绘画基础\n",
    "OpenCV提供了绘制直线的函数`cv2.line()`、绘制矩形的函数`cv2.rectangle()`、绘制圆的函数`cv2.circle()`、绘制椭圆的函数`cv2.ellipse()`、绘制多边形的函数`cv2.polylines()`、在图像内添加文字的函数`cv2.putText()`等多种绘图函数。\n",
    "\n",
    "## 绘制直线"
   ]
  },
  {
   "cell_type": "code",
   "execution_count": 2,
   "metadata": {},
   "outputs": [],
   "source": [
    "n = 300\n",
    "img = np.zeros((n+1,n+1,3), np.uint8)\n",
    "img = cv2.line(img,(0,0),(n,n),(255,0,0),3)\n",
    "img = cv2.line(img,(0,100),(n,100),(0,255,0),1)\n",
    "img = cv2.line(img,(100,0),(100,n),(0,0,255),6)\n",
    "winname = 'Demo19.1'\n",
    "cv2.namedWindow(winname)\n",
    "cv2.imshow(winname, img)\n",
    "cv2.waitKey(0)\n",
    "cv2.destroyAllWindows()"
   ]
  },
  {
   "cell_type": "markdown",
   "metadata": {},
   "source": [
    "## 绘制矩形"
   ]
  },
  {
   "cell_type": "code",
   "execution_count": 3,
   "metadata": {},
   "outputs": [],
   "source": [
    "n = 300\n",
    "img = np.ones((n,n,3), np.uint8)*255\n",
    "img = cv2.rectangle(img,(50,50),(n-100,n-50),(0,0,255),-1)\n",
    "winname = 'Demo19.1'\n",
    "cv2.namedWindow(winname)\n",
    "cv2.imshow(winname, img)\n",
    "cv2.waitKey(0)\n",
    "cv2.destroyAllWindows()"
   ]
  },
  {
   "cell_type": "markdown",
   "metadata": {},
   "source": [
    "## 绘制圆形"
   ]
  },
  {
   "cell_type": "code",
   "execution_count": 4,
   "metadata": {},
   "outputs": [],
   "source": [
    "\n",
    "d = 400\n",
    "img = np.ones((d,d,3),dtype=\"uint8\")*255\n",
    "(centerX,centerY) = (round(img.shape[1] / 2),round(img.shape[0] / 2))\n",
    "#将图像的中心作为圆心,实际值为=d/2\n",
    "red = (0,0,255)#设置白色变量\n",
    "for r in range(5,round(d/2),12):\n",
    "    cv2.circle(img,(centerX,centerY),r,red,3)\n",
    "    #circle(载体图像，圆心，半径，颜色)\n",
    "cv2.imshow(\"Demo19.3\",img)\n",
    "cv2.waitKey(0)\n",
    "cv2.destroyAllWindows()"
   ]
  },
  {
   "cell_type": "code",
   "execution_count": 5,
   "metadata": {},
   "outputs": [],
   "source": [
    "\n",
    "d = 400\n",
    "img = np.ones((d,d,3),dtype=\"uint8\")*255\n",
    "#生成白色背景\n",
    "for i in range(0,100):\n",
    "    centerX = np.random.randint(0,high = d)\n",
    "    #生成随机圆心X,确保在画布img内\n",
    "    centerY = np.random.randint(0,high = d)\n",
    "    #生成随机圆心Y,确保在画布img内\n",
    "    radius = np.random.randint(5,high = d/5)\n",
    "    #生成随机半径，值范围：[5,d/5)，最大半径是d/5\n",
    "    color = np.random.randint(0,high = 256,size = (3,)).tolist()\n",
    "    #生成随机颜色，3个[0,256)的随机数    \n",
    "    cv2.circle(img,(centerX,centerY),radius,color,-1)\n",
    "    #使用上述随机数，在画布img内画圆\n",
    "cv2.imshow(\"demo19.4\",img)\n",
    "cv2.waitKey(0)\n",
    "cv2.destroyAllWindows()"
   ]
  },
  {
   "cell_type": "markdown",
   "metadata": {},
   "source": [
    "## 绘制椭圆"
   ]
  },
  {
   "cell_type": "code",
   "execution_count": 6,
   "metadata": {},
   "outputs": [],
   "source": [
    "d = 400\n",
    "img = np.ones((d,d,3),dtype=\"uint8\")*255\n",
    "#生成白色背景\n",
    "center=(round(d/2),round(d/2))\n",
    "#注意数值类型，center=(d/2,d/2)不可以\n",
    "size=(100,200)\n",
    "#轴的长度\n",
    "for i in range(0,10):\n",
    "    angle = np.random.randint(0,361)\n",
    "    #偏移角度    \n",
    "    color = np.random.randint(0,high = 256,size = (3,)).tolist()\n",
    "    #生成随机颜色，3个[0,256)的随机数    \n",
    "    thickness = np.random.randint(1,9)\n",
    "    cv2.ellipse(img, center, size, angle, 0, 360, color,thickness)\n",
    "cv2.imshow(\"demo19.5\",img)\n",
    "cv2.waitKey(0)\n",
    "cv2.destroyAllWindows()"
   ]
  },
  {
   "cell_type": "markdown",
   "metadata": {},
   "source": [
    "## 绘制多边形"
   ]
  },
  {
   "cell_type": "code",
   "execution_count": 7,
   "metadata": {},
   "outputs": [],
   "source": [
    "d = 400\n",
    "img = np.ones((d,d,3),dtype=\"uint8\")*255\n",
    "#生成白色背景\n",
    "pts=np.array([[200,50],[300,200],[200,350],[100,200]], np.int32)\n",
    "#生成各个顶点,注意数据类型为int32\n",
    "pts=pts.reshape((-1,1,2))\n",
    "#第1个参数为-1, 表明这一维的长度是根据后面的维度的计算出来的。\n",
    "cv2.polylines(img,[pts],True,(0,255,0),8)\n",
    "#调用函数polylines完成多边形绘图，注意第3个参数控制多边形封闭\n",
    "# cv2.polylines(img,[pts],False,(0,255,0),8)  #不闭合的的多边形\n",
    "cv2.imshow(\"demo19.6\",img)\n",
    "cv2.waitKey(0)\n",
    "cv2.destroyAllWindows()\n"
   ]
  },
  {
   "cell_type": "markdown",
   "metadata": {},
   "source": [
    "## 绘制文字"
   ]
  },
  {
   "cell_type": "code",
   "execution_count": 8,
   "metadata": {},
   "outputs": [],
   "source": [
    "\n",
    "d = 400\n",
    "img = np.ones((d,d,3),dtype=\"uint8\")*255\n",
    "#生成白色背景\n",
    "font=cv2.FONT_HERSHEY_SIMPLEX\n",
    "cv2.putText(img,'OpenCV',(0,200),font, 3,(0,0,255),15)\n",
    "cv2.putText(img,'OpenCV',(0,200),font, 3,(0,255,0),5)\n",
    "cv2.imshow(\"demo19.7\",img)\n",
    "cv2.waitKey(0)\n",
    "cv2.destroyAllWindows()"
   ]
  },
  {
   "cell_type": "code",
   "execution_count": 9,
   "metadata": {},
   "outputs": [],
   "source": [
    "d = 400\n",
    "img = np.ones((d,d,3),dtype=\"uint8\")*255\n",
    "#生成白色背景\n",
    "font=cv2.FONT_HERSHEY_SIMPLEX\n",
    "cv2.putText(img,'OpenCV',(0,150),font, 3,(0,0,255),15)\n",
    "cv2.putText(img,'OpenCV',(0,250),font, 3,(0,255,0),15,\n",
    "            cv2.FONT_HERSHEY_SCRIPT_SIMPLEX,True)\n",
    "cv2.imshow(\"demo19.7\",img)\n",
    "cv2.waitKey(0)\n",
    "cv2.destroyAllWindows()"
   ]
  },
  {
   "cell_type": "markdown",
   "metadata": {},
   "source": [
    "\n",
    "---\n",
    "# 鼠标交互\n",
    "当用户触发鼠标事件时，我们希望对该事件做出响应。例如，用户单击鼠标，我们就画一个圆。通常的做法是，创建一个`OnMouseAction()`响应函数，将要实现的操作写在该响应函数内。响应函数是按照固定的格式创建的\n",
    "\n",
    "定义响应函数以后，要将该函数与一个特定的窗口建立联系（绑定），让该窗口内的鼠标触发事件时，能够找到该响应函数并执行。要将函数与窗口绑定，可以通过函数`cv2.setMouseCallback()`实现\n",
    "\n"
   ]
  },
  {
   "cell_type": "code",
   "execution_count": null,
   "metadata": {},
   "outputs": [],
   "source": [
    "def Demo(event,x,y,flags,param):\n",
    "    if event == cv2.EVENT_LBUTTONDOWN:\n",
    "        print(\"单击了鼠标左键\")\n",
    "    elif event==cv2.EVENT_RBUTTONDOWN :\n",
    "        print(\"单击了鼠标右键\")\n",
    "    elif flags==cv2.EVENT_FLAG_LBUTTON:\n",
    "        print(\"按住左键拖动了鼠标\")\n",
    "    elif event==cv2.EVENT_MBUTTONDOWN :\n",
    "        print(\"单击了中间键\")\n",
    "#创建名称为Demo的响应（回调）函数OnMouseAction\n",
    "#将回调函数Demo与窗口“Demo19.9”建立连接\n",
    "img = np.ones((300,300,3),np.uint8)*255\n",
    "cv2.namedWindow('Demo19.9')\n",
    "cv2.setMouseCallback('Demo19.9',Demo)     \n",
    "cv2.imshow('Demo19.9',img)\n",
    "cv2.waitKey()\n",
    "cv2.destroyAllWindows()"
   ]
  },
  {
   "cell_type": "markdown",
   "metadata": {},
   "source": [
    "## 简单示例"
   ]
  },
  {
   "cell_type": "code",
   "execution_count": 11,
   "metadata": {},
   "outputs": [],
   "source": [
    "d = 400\n",
    "def draw(event,x,y,flags,param):\n",
    "    if event==cv2.EVENT_LBUTTONDBLCLK:\n",
    "        p1x=x\n",
    "        p1y=y\n",
    "        p2x=np.random.randint(1,d-50)\n",
    "        p2y=np.random.randint(1,d-50)\n",
    "        color = np.random.randint(0,high = 256,size = (3,)).tolist()\n",
    "        cv2.rectangle(img,(p1x,p1y),(p2x,p2y),color,2)\n",
    "img = np.ones((d,d,3),dtype=\"uint8\")*255\n",
    "cv2.namedWindow('Demo19.10')\n",
    "cv2.setMouseCallback('Demo19.10',draw)\n",
    "while(1):\n",
    "    cv2.imshow('Demo19.10',img)\n",
    "    if cv2.waitKey(20)==27:\n",
    "        break\n",
    "cv2.destroyAllWindows()\n"
   ]
  },
  {
   "cell_type": "markdown",
   "metadata": {},
   "source": [
    "## 进阶示例"
   ]
  },
  {
   "cell_type": "code",
   "execution_count": 14,
   "metadata": {},
   "outputs": [],
   "source": [
    "thickness=-1\n",
    "mode=1\n",
    "d=400\n",
    "def draw_circle(event,x,y,flags,param):\n",
    "    if event==cv2.EVENT_LBUTTONDOWN:\n",
    "        a=np.random.randint(1,d-50)\n",
    "        r=np.random.randint(1,d/5)\n",
    "        angle = np.random.randint(0,361)\n",
    "        color = np.random.randint(0,high = 256,size = (3,)).tolist()\n",
    "        if mode==1:\n",
    "            cv2.rectangle(img,(x,y),(a,a),color,thickness)\n",
    "        elif mode==2:\n",
    "            cv2.circle(img,(x,y),r,color,thickness)\n",
    "        elif mode==3:\n",
    "            cv2.line(img,(a,a),(x,y),color,3)  \n",
    "        elif mode==4:\n",
    "            cv2.ellipse(img, (x,y), (100,150), angle, 0, 360,color,thickness)                  \n",
    "        elif mode==5:\n",
    "            cv2.putText(img,'OpenCV',(0,round(d/2)), \n",
    "                        cv2.FONT_HERSHEY_SIMPLEX, 2,color,5)    \n",
    "img=np.ones((d,d,3),np.uint8)*255\n",
    "cv2.namedWindow('image')\n",
    "cv2.setMouseCallback('image',draw_circle)\n",
    "while(1):\n",
    "    cv2.imshow('image',img)\n",
    "    k=cv2.waitKey(1)&0xFF\n",
    "    if k==ord('r'):\n",
    "        mode=1\n",
    "    elif k==ord('c'):\n",
    "        mode=2\n",
    "    elif k==ord('l'):\n",
    "        mode=3\n",
    "    elif k==ord('e'):\n",
    "        mode=4\n",
    "    elif k==ord('t'):\n",
    "        mode=5\n",
    "    elif k==ord('f'):\n",
    "        thickness=-1\n",
    "    elif k==ord('u'):\n",
    "        thickness=3\n",
    "    elif k==27:\n",
    "        break   \n",
    "cv2.destroyAllWindows()"
   ]
  },
  {
   "cell_type": "markdown",
   "metadata": {},
   "source": [
    "\n",
    "---\n",
    "# 滚动条\n",
    "滚动条（Trackbar）在OpenCV中是非常方便的交互工具，它依附于特定的窗口而存在。通过调节滚动条能够设置、获取指定范围内的特定值。\n",
    "\n",
    "在OpenCV中，函数`cv2.createTrackbar()`用来定义滚动条\n",
    "\n",
    "## 用滚动条实现调色板\n"
   ]
  },
  {
   "cell_type": "code",
   "execution_count": null,
   "metadata": {},
   "outputs": [],
   "source": [
    "def changeColor(x):\n",
    "    r=cv2.getTrackbarPos('R','image')\n",
    "    g=cv2.getTrackbarPos('G','image')\n",
    "    b=cv2.getTrackbarPos('B','image')\n",
    "    img[:]=[b,g,r]\n",
    "img=np.zeros((100,700,3),np.uint8)\n",
    "cv2.namedWindow('image')\n",
    "cv2.createTrackbar('R','image',100,255,changeColor)\n",
    "cv2.createTrackbar('G','image',0,255,changeColor)\n",
    "cv2.createTrackbar('B','image',0,255,changeColor)\n",
    "while(1):\n",
    "    cv2.imshow('image',img)\n",
    "    k=cv2.waitKey(1)&0xFF\n",
    "    if k==27:\n",
    "        break   \n",
    "cv2.destroyAllWindows()"
   ]
  },
  {
   "cell_type": "markdown",
   "metadata": {},
   "source": [
    "## 用滚动条控制阈值处理参数"
   ]
  },
  {
   "cell_type": "code",
   "execution_count": 3,
   "metadata": {},
   "outputs": [],
   "source": [
    "Type=0  #阈值处理类型值\n",
    "Value=0 #使用的阈值\n",
    "def onType(a):\n",
    "    Type= cv2.getTrackbarPos(tType, windowName)\n",
    "    Value= cv2.getTrackbarPos(tValue, windowName)\n",
    "    ret, dst = cv2.threshold(o, Value,255, Type) \n",
    "    cv2.imshow(windowName,dst)\n",
    " \n",
    "def onValue(a):\n",
    "    Type= cv2.getTrackbarPos(tType, windowName)\n",
    "    Value= cv2.getTrackbarPos(tValue, windowName)\n",
    "    ret, dst = cv2.threshold(o, Value, 255, Type) \n",
    "    cv2.imshow(windowName,dst)\n",
    "\n",
    "o = cv2.imread(\"./images/lena512.bmp\",0)\n",
    "windowName = \"Demo19.13\"  #窗体名\n",
    "cv2.namedWindow(windowName)\n",
    "cv2.imshow(windowName,o)\n",
    "#创建两个滑动条\n",
    "tType = \"Type\"  #用来选取阈值处理类型的滚动条\n",
    "tValue = \"Value\"    #用来选取阈值的滚动条\n",
    "cv2.createTrackbar(tType, windowName, 0, 4, onType)\n",
    "cv2.createTrackbar(tValue, windowName,0, 255, onValue) \n",
    "if cv2.waitKey(0) == 27:  \n",
    "    cv2.destroyAllWindows()"
   ]
  },
  {
   "cell_type": "markdown",
   "metadata": {},
   "source": [
    "## 用滚动条作为开关"
   ]
  },
  {
   "cell_type": "code",
   "execution_count": 2,
   "metadata": {},
   "outputs": [],
   "source": [
    "d=400\n",
    "global thickness\n",
    "thickness=-1\n",
    "def fill(x):\n",
    "    pass\n",
    "def draw(event,x,y,flags,param):\n",
    "    if event==cv2.EVENT_LBUTTONDBLCLK:\n",
    "        p1x=x\n",
    "        p1y=y\n",
    "        p2x=np.random.randint(1,d-50)\n",
    "        p2y=np.random.randint(1,d-50)\n",
    "        color = np.random.randint(0,high = 256,size = (3,)).tolist()\n",
    "        cv2.rectangle(img,(p1x,p1y),(p2x,p2y),color,thickness)\n",
    "\n",
    "img=np.ones((d,d,3),np.uint8)*255\n",
    "cv2.namedWindow('image')\n",
    "cv2.setMouseCallback('image',draw)\n",
    "cv2.createTrackbar('R','image',0,1,fill)\n",
    "while(1):\n",
    "    cv2.imshow('image',img)\n",
    "    k=cv2.waitKey(1)&0xFF\n",
    "    g=cv2.getTrackbarPos('R','image')\n",
    "    if g==0:\n",
    "        thickness=-1\n",
    "    else:\n",
    "        thickness=2        \n",
    "    if k==27:\n",
    "        break   \n",
    "cv2.destroyAllWindows()"
   ]
  },
  {
   "cell_type": "code",
   "execution_count": null,
   "metadata": {},
   "outputs": [],
   "source": [
    "def changeColor(x):\n",
    "    g=cv2.getTrackbarPos('R','image')\n",
    "    if g==0:\n",
    "        img[:]=0\n",
    "    else:\n",
    "        img[:]=255\n",
    "img=np.zeros((100,1000,3),np.uint8)\n",
    "cv2.namedWindow('image')\n",
    "cv2.createTrackbar('R','image',0,1,changeColor)\n",
    "while(1):\n",
    "    cv2.imshow('image',img)\n",
    "    k=cv2.waitKey(1)&0xFF\n",
    "    if k==27:\n",
    "        break   \n",
    "cv2.destroyAllWindows()"
   ]
  }
 ],
 "metadata": {
  "interpreter": {
   "hash": "b636742cd7447c915110da4af08d48b478a44c23413a0d42f0e6f825f6094b71"
  },
  "kernelspec": {
   "display_name": "Python 3.9.7 64-bit ('taocv': conda)",
   "language": "python",
   "name": "python3"
  },
  "language_info": {
   "codemirror_mode": {
    "name": "ipython",
    "version": 3
   },
   "file_extension": ".py",
   "mimetype": "text/x-python",
   "name": "python",
   "nbconvert_exporter": "python",
   "pygments_lexer": "ipython3",
   "version": "3.9.7"
  },
  "orig_nbformat": 4
 },
 "nbformat": 4,
 "nbformat_minor": 2
}
