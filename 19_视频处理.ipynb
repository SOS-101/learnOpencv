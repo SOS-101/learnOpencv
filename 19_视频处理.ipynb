{
 "cells": [
  {
   "cell_type": "markdown",
   "metadata": {},
   "source": [
    "# 导入所需模块"
   ]
  },
  {
   "cell_type": "code",
   "execution_count": 2,
   "metadata": {},
   "outputs": [],
   "source": [
    "import cv2"
   ]
  },
  {
   "cell_type": "markdown",
   "metadata": {},
   "source": [
    "\n",
    "---\n",
    "\n",
    "视频是由一系列图像构成的，这一系列图像被称为帧，帧是以固定的时间间隔从视频中获取的。获取（播放）帧的速度称为帧速率，其单位通常使用“帧/秒”表示，代表在1秒内所出现的帧数，对应的英文是FPS（Frames Per Second）。如果从视频中提取出独立的帧，就可以使用图像处理的方法对其进行处理，达到处理视频的目的。\n",
    "\n",
    "OpenCV提供了`cv2.VideoCapture`类和`cv2.VideoWriter`类来支持各种类型的视频文件。在不同的操作系统中，它们支持的文件类型可能有所不同，但是在各种操作系统中均支持AVI格式的视频文件。\n",
    "\n",
    "# VideoCapture类\n",
    "`cv2.VideoCapture`类处理视频的方式非常简单、快捷，而且它既能处理视频文件又能处理摄像头信息。\n",
    "\n",
    "## 类函数介绍\n",
    "`cv2.VideoCapture`类的常用函数包括初始化、打开、帧捕获、释放、属性设置等\n",
    "\n",
    "### 初始化\n",
    "OpenCV为`cv2.VideoCapture`类提供了构造函数`cv2.VideoCapture()`，用于打开摄像头并完成摄像头的初始化工作。\n",
    "\n",
    "### `cv2.VideoCapture.open()`函数和`cv2.VideoCapture.isOpened()`函数\n",
    "\n",
    "### 捕获帧\n",
    "摄像头初始化成功后，就可以从摄像头中捕获帧信息了。捕获帧所使用的是函数`cv2.VideoCapture.read()`。\n",
    "\n",
    "### 释放\n",
    "在不需要摄像头时，要关闭摄像头。关闭摄像头使用的是函数`cv2.VideoCapture.release()`\n",
    "\n",
    "### 属性设置\n",
    "函数`cv2.VideoCapture.get()`用于获取`cv2.VideoCapture`类对象的属性\n",
    "\n",
    "### `cv2.VideoCapture.grab()`函数和`cv2.VideoCapture.retrieve()`函数\n",
    "\n",
    "可以把函数`cv2.VideoCapture.read()`理解为是由函数`cv2.VideoCapture.grab()`和函数`cv2.VideoCapture.retrieve()`组成的。函数`cv2.VideoCapture.grab()`用来指向下一帧，函数`cv2.VideoCapture.retrieve()`用来解码并返回一帧。因此，可以使用函数`cv2.VideoCapture.grab()`和函数`cv2.VideoCapture.retrieve()`获取多个摄像头的数据。\n",
    "\n"
   ]
  },
  {
   "cell_type": "markdown",
   "metadata": {},
   "source": [
    "## 捕获摄像头视频\n"
   ]
  },
  {
   "cell_type": "code",
   "execution_count": 2,
   "metadata": {},
   "outputs": [],
   "source": [
    "cap = cv2.VideoCapture(0)\n",
    "while(cap.isOpened()):\n",
    "    ret, frame = cap.read()\n",
    "    cv2.imshow('frame',frame)\n",
    "    c = cv2.waitKey(1)\n",
    "    if c==27:   #ESC键\n",
    "        break\n",
    "cap.release()\n",
    "cv2.destroyAllWindows()"
   ]
  },
  {
   "cell_type": "markdown",
   "metadata": {},
   "source": [
    "## 播放视频文件\n",
    "在播放视频时，可以通过设置函数`cv2.waitKey()`中的参数值，来设置播放视频时每一帧的持续（停留）时间。\n",
    "\n"
   ]
  },
  {
   "cell_type": "code",
   "execution_count": null,
   "metadata": {},
   "outputs": [],
   "source": [
    "cap = cv2.VideoCapture('./videos/viptrain.avi')\n",
    "while(cap.isOpened()):\n",
    "    ret, frame = cap.read()\n",
    "    cv2.imshow('frame',frame)\n",
    "    c = cv2.waitKey(1)\n",
    "    if c==27:   #ESC键\n",
    "        break\n",
    "cap.release()\n",
    "cv2.destroyAllWindows()"
   ]
  },
  {
   "cell_type": "markdown",
   "metadata": {},
   "source": [
    "\n",
    "---\n",
    "# VideoWriter类\n",
    "OpenCV中的`cv2.VideoWriter`类可以将图片序列保存成视频文件，也可以修改视频的各种属性，还可以完成对视频类型的转换。\n",
    "\n",
    "## 类函数介绍\n",
    "### 构造函数\n",
    "OpenCV为`cv2.VideoWriter`类提供了构造函数，用它来实现初始化工作。\n",
    "\n",
    "### write函数\n",
    "`cv2.VideoWriter`类中的函数`cv2.VideoWriter.write()`用于写入下一帧视频\n",
    "\n",
    "### 释放\n",
    "在不需要`cv2.VideoWriter`类对象时，需要将其释放。释放该类对象时所使用的是函数`cv2.VideoWriter.release()`。\n",
    "\n",
    "## 保存视频\n"
   ]
  },
  {
   "cell_type": "code",
   "execution_count": 3,
   "metadata": {},
   "outputs": [],
   "source": [
    "cap = cv2.VideoCapture(0)\n",
    "fourcc = -1\n",
    "out = cv2.VideoWriter('output.avi',fourcc, 20, (640,480))\n",
    "while(cap.isOpened()):\n",
    "    ret, frame = cap.read()\n",
    "    if ret==True:\n",
    "        out.write(frame)\n",
    "        cv2.imshow('frame',frame)\n",
    "        if cv2.waitKey(1) == 27:\n",
    "            break\n",
    "    else:\n",
    "        break\n",
    "cap.release()\n",
    "out.release()\n",
    "cv2.destroyAllWindows()\n",
    "# 有问题"
   ]
  },
  {
   "cell_type": "markdown",
   "metadata": {},
   "source": [
    "\n",
    "---\n",
    "# 视频操作基础\n"
   ]
  },
  {
   "cell_type": "code",
   "execution_count": null,
   "metadata": {},
   "outputs": [],
   "source": [
    "cap = cv2.VideoCapture('./videos/viptrain.avi')\n",
    "while(cap.isOpened()):\n",
    "    ret, frame = cap.read()\n",
    "    frame=cv2.Canny(frame,100,200)\n",
    "    cv2.imshow('frame',frame)\n",
    "    c = cv2.waitKey(1)\n",
    "    if c==27:   #ESC键\n",
    "        break\n",
    "cap.release()\n",
    "cv2.destroyAllWindows()"
   ]
  }
 ],
 "metadata": {
  "interpreter": {
   "hash": "b6a4bdb119d8fc2d9b083971ba8e7748f0778f3f1998a506666b393eb06c588c"
  },
  "kernelspec": {
   "display_name": "Python 3.9.6 64-bit ('taodjango': conda)",
   "language": "python",
   "name": "python3"
  },
  "language_info": {
   "codemirror_mode": {
    "name": "ipython",
    "version": 3
   },
   "file_extension": ".py",
   "mimetype": "text/x-python",
   "name": "python",
   "nbconvert_exporter": "python",
   "pygments_lexer": "ipython3",
   "version": "3.9.7"
  },
  "orig_nbformat": 4
 },
 "nbformat": 4,
 "nbformat_minor": 2
}
