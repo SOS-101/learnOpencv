{
 "cells": [
  {
   "cell_type": "markdown",
   "metadata": {},
   "source": [
    "# 导入所需模块"
   ]
  },
  {
   "cell_type": "code",
   "execution_count": 1,
   "metadata": {},
   "outputs": [],
   "source": [
    "import cv2\n",
    "import numpy as np"
   ]
  },
  {
   "cell_type": "markdown",
   "metadata": {},
   "source": [
    "形态学，即数学形态学（Mathematical Morphology），是图像处理过程中一个非常重要的研究方向。形态学主要从图像内提取分量信息，该分量信息通常对于表达和描绘图像的形状具有重要意义，通常是图像理解时所使用的最本质的形状特征。例如，在识别手写数字时，能够通过形态学运算得到其骨架信息，在具体识别时，仅针对其骨架进行运算即可。  \n",
    "形态学操作主要包含：腐蚀、膨胀、开运算、闭运算、形态学梯度（Morphological Gradient）运算、顶帽运算（礼帽运算）、黑帽运算等操作。腐蚀操作和膨胀操作是形态学运算的基础，将腐蚀和膨胀操作进行结合，就可以实现开运算、闭运算、形态学梯度运算、顶帽运算、黑帽运算、击中击不中等不同形式的运算。  \n",
    "# 腐蚀\n",
    "腐蚀是最基本的形态学操作之一，它能够将图像的边界点消除，使图像沿着边界向内收缩，也可以将小于指定结构体元素的部分去除。  \n",
    "腐蚀用来“收缩”或者“细化”二值图像中的前景，借此实现去除噪声、元素分割等功能。  \n",
    "通过函数 `cv2.erode()`实现"
   ]
  },
  {
   "cell_type": "code",
   "execution_count": 2,
   "metadata": {},
   "outputs": [],
   "source": [
    "o = cv2.imread(\"./images/erode.bmp\",cv2.IMREAD_UNCHANGED)\n",
    "kernel = np.ones((5,5),np.uint8)\n",
    "erosion = cv2.erode(o,kernel)\n",
    "cv2.imshow(\"orriginal\",o)\n",
    "cv2.imshow(\"erosion\",erosion)\n",
    "cv2.waitKey()\n",
    "cv2.destroyAllWindows()"
   ]
  },
  {
   "cell_type": "code",
   "execution_count": 3,
   "metadata": {},
   "outputs": [],
   "source": [
    "o = cv2.imread(\"./images/erode.bmp\",cv2.IMREAD_UNCHANGED)\n",
    "kernel = np.ones((9,9),np.uint8)\n",
    "erosion = cv2.erode(o,kernel)\n",
    "cv2.imshow(\"orriginal\",o)\n",
    "cv2.imshow(\"erosion\",erosion)\n",
    "cv2.waitKey()\n",
    "cv2.destroyAllWindows()"
   ]
  },
  {
   "cell_type": "markdown",
   "metadata": {},
   "source": [
    "# 膨胀\n",
    "膨胀操作和腐蚀操作的作用是相反的，膨胀操作能对图像的边界进行扩张。  \n",
    "通过函数 `cv2.dilate()`实现"
   ]
  },
  {
   "cell_type": "code",
   "execution_count": 4,
   "metadata": {},
   "outputs": [],
   "source": [
    "o = cv2.imread('./images/dilation.bmp',cv2.IMREAD_UNCHANGED)\n",
    "kernel = np.ones((9,9),np.uint8)\n",
    "dilation = cv2.dilate(o,kernel)\n",
    "cv2.imshow(\"original\",o)\n",
    "cv2.imshow(\"dilation\",dilation)\n",
    "cv2.waitKey()\n",
    "cv2.destroyAllWindows()"
   ]
  },
  {
   "cell_type": "code",
   "execution_count": 7,
   "metadata": {},
   "outputs": [],
   "source": [
    "o = cv2.imread('./images/dilation.bmp',cv2.IMREAD_UNCHANGED)\n",
    "kernel = np.ones((5,5),np.uint8)\n",
    "dilation = cv2.dilate(o,kernel,iterations=9)\n",
    "cv2.imshow(\"original\",o)\n",
    "cv2.imshow(\"dilation\",dilation)\n",
    "cv2.waitKey()\n",
    "cv2.destroyAllWindows()"
   ]
  },
  {
   "cell_type": "markdown",
   "metadata": {},
   "source": [
    "# 通用形态学函数\n",
    "腐蚀操作和膨胀操作是形态学运算的基础，将腐蚀和膨胀操作进行组合，就可以实现开运算、闭运算（关运算）、形态学梯度（Morphological Gradient）运算、礼帽运算（顶帽运算）、黑帽运算、击中击不中等多种不同形式的运算。  \n",
    "通过函数 `cv2.morphologyEx()`函数实现 "
   ]
  },
  {
   "cell_type": "markdown",
   "metadata": {},
   "source": [
    "# 开运算\n",
    "开运算进行的操作是先将图像腐蚀，再对腐蚀的结果进行膨胀。开运算可以用于去噪、计数等。  \n"
   ]
  },
  {
   "cell_type": "code",
   "execution_count": 8,
   "metadata": {},
   "outputs": [],
   "source": [
    "img1 = cv2.imread('./images/opening.bmp')\n",
    "img2 = cv2.imread('./images/opening2.bmp')\n",
    "k = np.ones((10,10),np.uint8)\n",
    "r1 = cv2.morphologyEx(img1,cv2.MORPH_OPEN,k)\n",
    "r2 = cv2.morphologyEx(img2,cv2.MORPH_OPEN,k)\n",
    "cv2.imshow(\"img1\",img1)\n",
    "cv2.imshow(\"result1\",r1)\n",
    "cv2.imshow(\"img2\",img2)\n",
    "cv2.imshow(\"result2\",r2)\n",
    "cv2.waitKey()\n",
    "cv2.destroyAllWindows()"
   ]
  },
  {
   "cell_type": "markdown",
   "metadata": {},
   "source": [
    "# 闭运算\n",
    "闭运算是先膨胀、后腐蚀的运算，它有助于关闭前景物体内部的小孔，或去除物体上的小黑点，还可以将不同的前景图像进行连接。  "
   ]
  },
  {
   "cell_type": "code",
   "execution_count": 9,
   "metadata": {},
   "outputs": [],
   "source": [
    "img1 = cv2.imread('./images/closing.bmp')\n",
    "img2 = cv2.imread('./images/closing2.bmp')\n",
    "k = np.ones((10,10),np.uint8)\n",
    "r1 = cv2.morphologyEx(img1,cv2.MORPH_CLOSE,k,iterations=3)\n",
    "r2 = cv2.morphologyEx(img2,cv2.MORPH_CLOSE,k,iterations=3)\n",
    "cv2.imshow(\"img1\",img1)\n",
    "cv2.imshow(\"result1\",r1)\n",
    "cv2.imshow(\"img2\",img2)\n",
    "cv2.imshow(\"result2\",r2)\n",
    "cv2.waitKey()\n",
    "cv2.destroyAllWindows()"
   ]
  },
  {
   "cell_type": "markdown",
   "metadata": {},
   "source": [
    "# 形态学梯度运算\n",
    "形态学梯度运算是用图像的膨胀图像减腐蚀图像的操作，该操作可以获取原始图像中前景图像的边缘。  "
   ]
  },
  {
   "cell_type": "code",
   "execution_count": 10,
   "metadata": {},
   "outputs": [],
   "source": [
    "o = cv2.imread(\"./images/gradient.bmp\",cv2.IMREAD_UNCHANGED)\n",
    "k = np.ones((5,5),np.uint8)\n",
    "r = cv2.morphologyEx(o,cv2.MORPH_GRADIENT,k)\n",
    "cv2.imshow('original',o)\n",
    "cv2.imshow(\"result\",r)\n",
    "cv2.waitKey()\n",
    "cv2.destroyAllWindows()"
   ]
  },
  {
   "cell_type": "markdown",
   "metadata": {},
   "source": [
    "# 礼帽运算\n",
    "礼帽运算是用原始图像减去其开运算图像的操作。礼帽运算能够获取图像的噪声信息，或者得到比原始图像的边缘更亮的边缘信息  "
   ]
  },
  {
   "cell_type": "code",
   "execution_count": 11,
   "metadata": {},
   "outputs": [],
   "source": [
    "o1 = cv2.imread(\"./images/tophat.bmp\",cv2.IMREAD_UNCHANGED)\n",
    "o2 = cv2.imread(\"./images/lena.bmp\",cv2.IMREAD_UNCHANGED)\n",
    "k = np.ones((5,5),np.uint8)\n",
    "r1 = cv2.morphologyEx(o1,cv2.MORPH_TOPHAT,k)\n",
    "r2 = cv2.morphologyEx(o2,cv2.MORPH_TOPHAT,k)\n",
    "cv2.imshow('original1',o1)\n",
    "cv2.imshow('original2',o2)\n",
    "cv2.imshow(\"result1\",r1)\n",
    "cv2.imshow(\"result2\",r2)\n",
    "cv2.waitKey()\n",
    "cv2.destroyAllWindows()"
   ]
  },
  {
   "cell_type": "markdown",
   "metadata": {},
   "source": [
    "# 黑帽运算\n",
    "黑帽运算是用闭运算图像减去原始图像的操作。黑帽运算能够获取图像内部的小孔，或前景色中的小黑点，或者得到比原始图像的边缘更暗的边缘部分。\n",
    "\n"
   ]
  },
  {
   "cell_type": "code",
   "execution_count": 12,
   "metadata": {},
   "outputs": [],
   "source": [
    "o1 = cv2.imread(\"./images/blackhat.bmp\",cv2.IMREAD_UNCHANGED)\n",
    "o2 = cv2.imread(\"./images/lena.bmp\",cv2.IMREAD_UNCHANGED)\n",
    "k = np.ones((5,5),np.uint8)\n",
    "r1 = cv2.morphologyEx(o1,cv2.MORPH_BLACKHAT,k)\n",
    "r2 = cv2.morphologyEx(o2,cv2.MORPH_BLACKHAT,k)\n",
    "cv2.imshow('original1',o1)\n",
    "cv2.imshow('original2',o2)\n",
    "cv2.imshow(\"result1\",r1)\n",
    "cv2.imshow(\"result2\",r2)\n",
    "cv2.waitKey()\n",
    "cv2.destroyAllWindows()"
   ]
  },
  {
   "cell_type": "markdown",
   "metadata": {},
   "source": [
    "# 核函数\n",
    "在进行形态学操作时，必须使用一个特定的核（结构元）。该核可以自定义生成，也可以通过函数cv2.getStructuringElement()构造。  \n",
    "通过函数 `cv2.getStructuringElement()`实现  "
   ]
  },
  {
   "cell_type": "code",
   "execution_count": 13,
   "metadata": {},
   "outputs": [],
   "source": [
    "o = cv2.imread(\"./images/kernel.bmp\",cv2.IMREAD_UNCHANGED)\n",
    "kernel1 = cv2.getStructuringElement(cv2.MORPH_RECT,(59,59))\n",
    "kernel2 = cv2.getStructuringElement(cv2.MORPH_CROSS,(59,59))\n",
    "kernel3 = cv2.getStructuringElement(cv2.MORPH_ELLIPSE,(59,59))\n",
    "dst1 = cv2.dilate(o,kernel1)\n",
    "dst2 = cv2.dilate(o,kernel2)\n",
    "dst3 = cv2.dilate(o,kernel3)\n",
    "cv2.imshow(\"orriginal\",o)\n",
    "cv2.imshow(\"dst1\",dst1)\n",
    "cv2.imshow(\"dst2\",dst2)\n",
    "cv2.imshow(\"dst3\",dst3)\n",
    "cv2.waitKey()\n",
    "cv2.destroyAllWindows()"
   ]
  }
 ],
 "metadata": {
  "interpreter": {
   "hash": "b636742cd7447c915110da4af08d48b478a44c23413a0d42f0e6f825f6094b71"
  },
  "kernelspec": {
   "display_name": "Python 3.9.7 64-bit ('taocv': conda)",
   "name": "python3"
  },
  "language_info": {
   "codemirror_mode": {
    "name": "ipython",
    "version": 3
   },
   "file_extension": ".py",
   "mimetype": "text/x-python",
   "name": "python",
   "nbconvert_exporter": "python",
   "pygments_lexer": "ipython3",
   "version": "3.9.7"
  },
  "orig_nbformat": 4
 },
 "nbformat": 4,
 "nbformat_minor": 2
}
