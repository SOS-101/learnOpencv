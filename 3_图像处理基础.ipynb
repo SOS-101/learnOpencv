{
 "cells": [
  {
   "cell_type": "markdown",
   "metadata": {},
   "source": [
    "# 导入所需模块"
   ]
  },
  {
   "cell_type": "code",
   "execution_count": null,
   "metadata": {},
   "outputs": [],
   "source": [
    "import cv2\n",
    "import numpy as np"
   ]
  },
  {
   "cell_type": "markdown",
   "metadata": {},
   "source": [
    "使用opencv for python 应该要熟悉Numpy库，特别是Numpy.array，这是python图像处理的基础。"
   ]
  },
  {
   "cell_type": "markdown",
   "metadata": {},
   "source": [
    "# 图像的基本表示方法\n",
    "## 二值图像\n",
    "二值图像是指图像仅包含黑色和白色两种颜色的图像。  \n",
    "像素点  \n",
    "0，1  \n",
    "## 灰度图像\n",
    "灰度级  0~255  \n",
    "## 彩色图像\n",
    "神经生理学实验  三原色  红色、绿色、蓝色  \n",
    "光学  颜色解析为主波长、纯度、明度  \n",
    "心理学和视觉角度 可以将颜色解析为色调、饱和度、亮度等  \n",
    "上述采用不同的方式表述颜色的模式称为色彩空间，或者颜色空间、颜色模式等。  \n",
    "RGB色彩空间 ； R、G、B通道、0-255 ； 每一个通道都可以理解为一个灰度图像 ； 一般，RGB色彩空间，图像通道顺序为R->G->B，但在opencv中，顺序为B->G->R。  "
   ]
  },
  {
   "cell_type": "markdown",
   "metadata": {},
   "source": [
    "# 像素处理\n",
    "通过位置索引的形式对图像内的元素进行访问、处理。  \n",
    "在opencv中，最小的数据类型是无符号的8位数据类型，所以opencv实际上是没有二值图像的，一般有的是特殊的灰度图像。  \n",
    "\n",
    "## 二值图像和灰度图像"
   ]
  },
  {
   "cell_type": "code",
   "execution_count": null,
   "metadata": {},
   "outputs": [],
   "source": [
    "img = np.zeros((8,8),dtype=np.uint8)\n",
    "print(\"img=\\n\",img)\n",
    "cv2.imshow(\"one\",img)\n",
    "print(\"read pixel img[0,3]=\",img[0,3])\n",
    "img[0,3] = 255\n",
    "print(\"modified img=\\n\",img)\n",
    "print(\"read modified pixel img[0,3]=\",img[0,3])\n",
    "cv2.imshow(\"two\",img)\n",
    "cv2.waitKey()\n",
    "cv2.destroyAllWindows()"
   ]
  },
  {
   "cell_type": "code",
   "execution_count": null,
   "metadata": {},
   "outputs": [],
   "source": [
    "img = cv2.imread(\"./images/lena.bmp\",0)\n",
    "cv2.imshow(\"before\",img)\n",
    "for i in range(10,100):\n",
    "    for j in range(80,100):\n",
    "        img[i,j] = 255\n",
    "cv2.imshow(\"after\",img)\n",
    "cv2.waitKey()\n",
    "cv2.destroyAllWindows()"
   ]
  },
  {
   "cell_type": "markdown",
   "metadata": {},
   "source": [
    "## 彩色图像"
   ]
  },
  {
   "cell_type": "code",
   "execution_count": null,
   "metadata": {},
   "outputs": [],
   "source": [
    "blue = np.zeros((300,300,3),dtype=np.uint8)\n",
    "blue[:,:,0] = 255\n",
    "print(\"green=\\n\",blue)\n",
    "cv2.imshow(\"blue\",blue)\n",
    "\n",
    "green = np.zeros((300,300,3),dtype=np.uint8)\n",
    "green[:,:,1] = 255\n",
    "print(\"green=\\n\",green)\n",
    "cv2.imshow(\"green\",green)\n",
    "\n",
    "red = np.zeros((300,300,3),dtype=np.uint8)\n",
    "red[:,:,2] = 255\n",
    "print(\"red=\\n\",red)\n",
    "cv2.imshow(\"red\",red)\n",
    "\n",
    "cv2.waitKey()\n",
    "cv2.destroyAllWindows()"
   ]
  },
  {
   "cell_type": "code",
   "execution_count": null,
   "metadata": {},
   "outputs": [],
   "source": [
    "img = np.zeros((300,300,3),dtype=np.uint8)\n",
    "img[:,0:100,0] = 255\n",
    "img[:,100:200,1] = 255\n",
    "img[:,200:300,2] = 255\n",
    "print(\"img=\\n\",img)\n",
    "cv2.imshow(\"img\",img)\n",
    "cv2.waitKey()\n",
    "cv2.destroyAllWindows()"
   ]
  },
  {
   "cell_type": "code",
   "execution_count": null,
   "metadata": {},
   "outputs": [],
   "source": [
    "img = np.zeros((2,4,3),dtype=np.uint8)\n",
    "print(\"img=\\n\",img)\n",
    "print(\"img[0,3]=\",img[0,3])\n",
    "print(\"img[1,2,2]=\",img[1,2,2])\n",
    "img[0,3] = 255\n",
    "img[0,0] = [66,77,88]\n",
    "img[1,1,1] = 3\n",
    "img[1,2,2] = 4\n",
    "img[0,2,0] = 5\n",
    "print(\"modified img\\n\",img)\n",
    "print(\"modified img[1,2,2]=\",img[1,2,2])"
   ]
  },
  {
   "cell_type": "code",
   "execution_count": null,
   "metadata": {},
   "outputs": [],
   "source": [
    "img = cv2.imread(\"./images/lenacolor.jpg\")\n",
    "cv2.imshow(\"before\",img)\n",
    "print(\"img[0,0]=\",img[0,0])\n",
    "print(\"img[0,0,0]=\",img[0,0,0])\n",
    "print(\"img[0,0,1]=\",img[0,0,1])\n",
    "print('img[0,0,2]=',img[0,0,2])\n",
    "print(\"img[50,0]=\",img[50,0])\n",
    "print(\"img[100,0]\",img[100,0])\n",
    "\n",
    "for i in range(0,50):\n",
    "    for j in range(0,100):\n",
    "        for k in range(0,3):\n",
    "            img[i,j,k] = 255\n",
    "\n",
    "for i in range(50,100):\n",
    "    for j in range(0,100):\n",
    "        img[i,j] = [128,128,128]\n",
    "\n",
    "for i in range(100,150):\n",
    "    for j in range(0,100):\n",
    "        img[i,j] = 0\n",
    "cv2.imshow(\"after\",img)\n",
    "\n",
    "print(\"modified img[0,0]=\",img[0,0])\n",
    "print(\"modified img[0,0,0]=\",img[0,0,0])\n",
    "print(\"modified img[0,0,1]=\",img[0,0,1])\n",
    "print('modified img[0,0,2]=',img[0,0,2])\n",
    "print(\"modified img[50,0]=\",img[50,0])\n",
    "print(\"modified img[100,0]\",img[100,0])\n",
    "\n",
    "cv2.waitKey()\n",
    "cv2.destroyAllWindows()"
   ]
  },
  {
   "cell_type": "markdown",
   "metadata": {},
   "source": [
    "# 使用numpy.array访问像素\n",
    "利用numpy.array的item()和itemset()来访问和处理像素更好，它们经过优化。利用库提供的函数一般较直接索引能提高处理效率。   \n",
    "## 二值图像和灰度图像\n",
    "`item(row,colum)`  \n",
    "`itemset(index,new_value)`  "
   ]
  },
  {
   "cell_type": "code",
   "execution_count": null,
   "metadata": {},
   "outputs": [],
   "source": [
    "img = np.random.randint(10,99,size=[5,5],dtype=np.uint8)\n",
    "print(\"img=\\n\",img)\n",
    "print(\"img.item(3,2)=\",img.item(3,2))\n",
    "img.itemset((3,2),255)\n",
    "print(\"modified img=\\n\",img)\n",
    "print(\"modified img.item(3,2)=\",img.item(3,2))"
   ]
  },
  {
   "cell_type": "code",
   "execution_count": null,
   "metadata": {},
   "outputs": [],
   "source": [
    "img = np.random.randint(0,256,size=[256,256],dtype=np.uint8)\n",
    "cv2.imshow(\"demo\",img)\n",
    "cv2.waitKey()\n",
    "cv2.destroyAllWindows()"
   ]
  },
  {
   "cell_type": "code",
   "execution_count": null,
   "metadata": {},
   "outputs": [],
   "source": [
    "img = cv2.imread('./images/lena.jpg',0)\n",
    "print(\"img.item(3,2)=\",img.item(3,2))\n",
    "img.itemset((3,2),255)\n",
    "print(\"modified img.item(3,2)=\",img.item(3,2))\n",
    "\n",
    "cv2.imshow(\"before\",img)\n",
    "for i in range(10,100):\n",
    "    for j in range(80,100):\n",
    "        img.itemset((i,j),255)\n",
    "cv2.imshow(\"after\",img)\n",
    "cv2.waitKey()\n",
    "cv2.destroyAllWindows()"
   ]
  },
  {
   "cell_type": "markdown",
   "metadata": {},
   "source": [
    "## 彩色图像\n",
    "`item(行，列，通道)`  \n",
    "`itemset(三元组索引，新值)`  "
   ]
  },
  {
   "cell_type": "code",
   "execution_count": null,
   "metadata": {},
   "outputs": [],
   "source": [
    "img=np.random.randint(10,99,size=[2,4,3],dtype=np.uint8)\n",
    "print(\"img=\\n\",img)\n",
    "print(\"读取像素点img[1,2,0]=\",img.item(1,2,0))\n",
    "print(\"读取像素点img[0,2,1]=\",img.item(0,2,1))\n",
    "print(\"读取像素点img[1,0,2]=\",img.item(1,0,2))\n",
    "img.itemset((1,2,0),255)\n",
    "img.itemset((0,2,1),255)\n",
    "img.itemset((1,0,2),255)\n",
    "print(\"修改后img=\\n\",img)\n",
    "print(\"修改后像素点img[1,2,0]=\",img.item(1,2,0))\n",
    "print(\"修改后像素点img[0,2,1]=\",img.item(0,2,1))\n",
    "print(\"修改后像素点img[1,0,2]=\",img.item(1,0, 2))"
   ]
  },
  {
   "cell_type": "code",
   "execution_count": null,
   "metadata": {},
   "outputs": [],
   "source": [
    "img = np.random.randint(0,256,size=[256,256,3],dtype=np.uint8)\n",
    "cv2.imshow(\"demo\",img)\n",
    "cv2.waitKey()\n",
    "cv2.destroyAllWindows()"
   ]
  },
  {
   "cell_type": "code",
   "execution_count": null,
   "metadata": {},
   "outputs": [],
   "source": [
    "img=cv2.imread(\"./images/lenacolor.jpg\")\n",
    "cv2.imshow (\"before\",img)\n",
    "print(\"访问img.item(0,0, 0)=\",img.item(0,0,0))\n",
    "print(\"访问img.item(O, 0, 1)=\",img.item(0,0,1))\n",
    "print(\"访问img.item(O, 0,2)=\",img.item(0,0,2))\n",
    "for i in range(0,50):\n",
    "    for j in range(0,100):\n",
    "        for k in range(0,3):\n",
    "            img. itemset((i,j,k),255)\n",
    "#白色\n",
    "cv2. imshow(\"after\",img)\n",
    "print(\"修改后img. item(0,0,0)=\",img.item(0,0,0))\n",
    "print(\"修改后img. item(0,0,1)=\",img.item(0,0,1))\n",
    "print(\"修改后img. item(0,0,2)=\",img.item(0,0,2))\n",
    "\n",
    "cv2.waitKey()\n",
    "cv2.destroyAllWindows()"
   ]
  },
  {
   "cell_type": "markdown",
   "metadata": {},
   "source": [
    "# 感兴趣区域(ROI)\n",
    "在图像处理过程中，我们可能会对图像的某一个特定区域感兴趣，该区域被称为感兴趣区域（Region of Interest, ROI）。在设定感兴趣区域ROI后，就可以对该区域进行整体操作。例如，将一个感兴趣区域A赋值给变量B后，可以将该变量B赋值给另外一个区域C，从而达到在区域C内复制区域A的目的。"
   ]
  },
  {
   "cell_type": "markdown",
   "metadata": {},
   "source": [
    "# 通道操作\n",
    "在RGB图像中，图像是由R通道、G通道、B通道三个通道构成的。需要注意的是，在OpenCV中，通道是按照B通道→G通道→R通道的顺序存储的。  \n",
    "在图像处理过程中，可以根据需要对通道进行拆分和合并。  \n",
    "## 通道拆分\n",
    "### 1. 通过索引拆分\n",
    "```python\n",
    "b = img[:,:,0]\n",
    "g = img[:,:,1]\n",
    "r = img[:,:,2]\n",
    "```\n"
   ]
  },
  {
   "cell_type": "code",
   "execution_count": 3,
   "metadata": {},
   "outputs": [],
   "source": [
    "lena = cv2.imread(\"./images/lenacolor.jpg\")\n",
    "cv2.imshow(\"lena1\",lena)\n",
    "b = lena[:,:,0]\n",
    "g = lena[:,:,1]\n",
    "r = lena[:,:,2]\n",
    "cv2.imshow(\"b\",b)\n",
    "cv2.imshow(\"g\",g)\n",
    "cv2.imshow(\"r\",r)\n",
    "lena[:,:,0] = 0\n",
    "cv2.imshow(\"lenab0\",lena)\n",
    "lena[:,:,1] = 0\n",
    "cv2.imshow(\"lenab0g0\",lena)\n",
    "cv2.waitKey()\n",
    "cv2.destroyAllWindows()"
   ]
  },
  {
   "cell_type": "markdown",
   "metadata": {},
   "source": [
    "### 2.通过函数拆分\n",
    "```python\n",
    "r,g,b = cv2.split(img)\n",
    "```"
   ]
  },
  {
   "cell_type": "code",
   "execution_count": 5,
   "metadata": {},
   "outputs": [],
   "source": [
    "lena = cv2.imread(\"./images/lenacolor.jpg\")\n",
    "b,g,r = cv2.split(lena)\n",
    "cv2.imshow(\"B\",b)\n",
    "cv2.imshow(\"G\",g)\n",
    "cv2.imshow(\"R\",r)\n",
    "cv2.waitKey()\n",
    "cv2.destroyAllWindows()"
   ]
  },
  {
   "cell_type": "markdown",
   "metadata": {},
   "source": [
    "## 通道合并\n",
    "`bgr = cv2.merge([b,g,r])`"
   ]
  },
  {
   "cell_type": "code",
   "execution_count": 6,
   "metadata": {},
   "outputs": [],
   "source": [
    "lena = cv2.imread(\"./images/lenacolor.jpg\")\n",
    "b,g,r = cv2.split(lena)\n",
    "bgr = cv2.merge([b,g,r])\n",
    "rgb = cv2.merge([r,g,b])\n",
    "cv2.imshow(\"lena\",lena)\n",
    "cv2.imshow(\"bgr\",bgr)\n",
    "cv2.imshow(\"rgb\",rgb)\n",
    "cv2.waitKey()\n",
    "cv2.destroyAllWindows()"
   ]
  },
  {
   "cell_type": "markdown",
   "metadata": {},
   "source": [
    "# 获取属性\n"
   ]
  },
  {
   "cell_type": "code",
   "execution_count": null,
   "metadata": {},
   "outputs": [],
   "source": [
    "gray = cv2.imread(\"./images/lena.jpg\",0)\n",
    "color = cv2.imread(\"./images/lenacolor.jpg\")\n",
    "print(\"gray:\")\n",
    "print(\"gray.shape=\",gray.shape)\n",
    "print(\"gray.size=\",gray.size)\n",
    "print(\"gray.dtype=\",gray.dtype)\n",
    "print(\"color:\")\n",
    "print(\"color.shape=\",color.shape)\n",
    "print(\"color.size=\",color.size)\n",
    "print(\"color.dtype=\",color.dtype)"
   ]
  }
 ],
 "metadata": {
  "interpreter": {
   "hash": "b636742cd7447c915110da4af08d48b478a44c23413a0d42f0e6f825f6094b71"
  },
  "kernelspec": {
   "display_name": "Python 3.9.7 64-bit ('taocv': conda)",
   "name": "python3"
  },
  "language_info": {
   "codemirror_mode": {
    "name": "ipython",
    "version": 3
   },
   "file_extension": ".py",
   "mimetype": "text/x-python",
   "name": "python",
   "nbconvert_exporter": "python",
   "pygments_lexer": "ipython3",
   "version": "3.9.7"
  },
  "orig_nbformat": 4
 },
 "nbformat": 4,
 "nbformat_minor": 2
}
