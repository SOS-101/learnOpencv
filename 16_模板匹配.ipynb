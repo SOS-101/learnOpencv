{
 "cells": [
  {
   "cell_type": "markdown",
   "metadata": {},
   "source": [
    "# 导入所需模块"
   ]
  },
  {
   "cell_type": "code",
   "execution_count": 1,
   "metadata": {},
   "outputs": [],
   "source": [
    "import numpy as np\n",
    "import cv2\n",
    "import matplotlib.pyplot as plt"
   ]
  },
  {
   "cell_type": "markdown",
   "metadata": {},
   "source": [
    "\n",
    "---\n",
    "\n",
    "模板匹配是指在当前图像A内寻找与图像B最相似的部分，一般将图像A称为输入图像，将图像B称为模板图像。模板匹配的操作方法是将模板图像B在图像A上滑动，遍历所有像素以完成匹配。\n",
    "\n",
    "# 模板匹配基础\n",
    "在OpenCV内，模板匹配是使用函数`cv2.matchTemplate()`实现的。\n",
    "\n",
    "查找最值（极值）与最值所在的位置，可以使用`cv2.minMaxLoc()`函数实现。\n",
    "\n",
    "借助函数cv2.rectangle()将该位置用白色标记出来\n",
    "\n"
   ]
  },
  {
   "cell_type": "code",
   "execution_count": null,
   "metadata": {},
   "outputs": [],
   "source": [
    "img = cv2.imread('./images/lena512g.bmp',0)\n",
    "img2 = img.copy()\n",
    "template = cv2.imread('./images/temp.bmp',0)\n",
    "th, tw = template.shape[::]\n",
    "img = img2.copy()\n",
    "rv = cv2.matchTemplate(img,template,cv2.TM_SQDIFF)\n",
    "minVal, maxVal, minLoc, maxLoc = cv2.minMaxLoc(rv)\n",
    "topLeft = minLoc\n",
    "bottomRight = (topLeft[0] + tw, topLeft[1] + th)\n",
    "cv2.rectangle(img,topLeft, bottomRight, 255, 2)\n",
    "plt.subplot(121),plt.imshow(rv,cmap = 'gray')\n",
    "plt.title('Matching Result'), plt.xticks([]), plt.yticks([])\n",
    "plt.subplot(122),plt.imshow(img,cmap = 'gray')\n",
    "plt.title('Detected Point'), plt.xticks([]), plt.yticks([])\n",
    "plt.show()\n"
   ]
  },
  {
   "cell_type": "code",
   "execution_count": null,
   "metadata": {},
   "outputs": [],
   "source": [
    "img = cv2.imread('./images/lena512g.bmp',0)\n",
    "img2 = img.copy()\n",
    "template = cv2.imread('./images/temp.bmp',0)\n",
    "tw, th = template.shape[::-1]\n",
    "img = img2.copy()\n",
    "rv = cv2.matchTemplate(img,template,cv2.TM_CCOEFF)\n",
    "minVal, maxVal, minLoc, maxLoc = cv2.minMaxLoc(rv)\n",
    "topLeft = maxLoc\n",
    "bottomRight = (topLeft[0] + tw, topLeft[1] + th)\n",
    "cv2.rectangle(img,topLeft, bottomRight, 255, 2)\n",
    "plt.subplot(121),plt.imshow(rv,cmap = 'gray')\n",
    "plt.title('Matching Result'), plt.xticks([]), plt.yticks([])\n",
    "plt.subplot(122),plt.imshow(img,cmap = 'gray')\n",
    "plt.title('Detected Point'), plt.xticks([]), plt.yticks([])\n",
    "plt.show()\n"
   ]
  },
  {
   "cell_type": "markdown",
   "metadata": {},
   "source": [
    "\n",
    "---\n",
    "\n",
    "# 多模板匹配\n",
    "1. 获取匹配位置的集合\n",
    "2. 循环\n",
    "3. 在循环中使用函数`zip()`\n",
    "4. 调整坐标\n",
    "5. 标记匹配图像的位置"
   ]
  },
  {
   "cell_type": "code",
   "execution_count": null,
   "metadata": {},
   "outputs": [],
   "source": [
    "img = cv2.imread('./images/lena4.bmp',0)\n",
    "template = cv2.imread('./images/lena4Temp.bmp',0)\n",
    "w, h = template.shape[::-1]\n",
    "res = cv2.matchTemplate(img,template,cv2.TM_CCOEFF_NORMED)\n",
    "threshold = 0.9\n",
    "loc = np.where( res >= threshold)\n",
    "for pt in zip(*loc[::-1]):\n",
    "    cv2.rectangle(img, pt, (pt[0] + w, pt[1] + h), 255, 1)\n",
    "plt.imshow(img,cmap = 'gray')\n",
    "plt.xticks([]), plt.yticks([])"
   ]
  }
 ],
 "metadata": {
  "interpreter": {
   "hash": "b636742cd7447c915110da4af08d48b478a44c23413a0d42f0e6f825f6094b71"
  },
  "kernelspec": {
   "display_name": "Python 3.9.7 64-bit ('taocv': conda)",
   "language": "python",
   "name": "python3"
  },
  "language_info": {
   "codemirror_mode": {
    "name": "ipython",
    "version": 3
   },
   "file_extension": ".py",
   "mimetype": "text/x-python",
   "name": "python",
   "nbconvert_exporter": "python",
   "pygments_lexer": "ipython3",
   "version": "3.9.7"
  },
  "orig_nbformat": 4
 },
 "nbformat": 4,
 "nbformat_minor": 2
}
