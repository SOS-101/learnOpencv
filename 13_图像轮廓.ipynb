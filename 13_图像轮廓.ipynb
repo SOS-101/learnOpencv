{
 "cells": [
  {
   "cell_type": "markdown",
   "metadata": {},
   "source": [
    "# 导入所需模块"
   ]
  },
  {
   "cell_type": "code",
   "execution_count": 1,
   "metadata": {},
   "outputs": [],
   "source": [
    "import cv2\n",
    "import numpy as np"
   ]
  },
  {
   "cell_type": "markdown",
   "metadata": {},
   "source": [
    "边缘检测虽然能够检测出边缘，但边缘是不连续的，检测到的边缘并不是一个整体。图像轮廓是指将边缘连接起来形成的一个整体，用于后续的计算。\n",
    "\n",
    "OpenCV提供了查找图像轮廓的函数`cv2.findContours()`，该函数能够查找图像内的轮廓信息，而函数`cv2.drawContours()`能够将轮廓绘制出来。\n",
    "\n",
    "# 查找并绘制轮廓\n",
    "在OpenCV中，函数`cv2.findContours()`用于查找图像的轮廓，并能够根据参数返回特定表示方式的轮廓（曲线）。函数`cv2.drawContours()`能够将查找到的轮廓绘制到图像上，该函数可以根据参数在图像上绘制不同样式（实心/空心点，以及线条的不同粗细、颜色等）的轮廓，可以绘制全部轮廓也可以仅绘制指定的轮廓。 \n",
    "\n",
    "## 查找图像轮廓：findContours函数\n",
    "待处理的源图像必须是灰度二值图\n",
    "\n",
    "在OpenCV中，都是从黑色背景中查找白色对象。\n",
    "\n",
    "## 绘制图像轮廓：drawContours函数\n",
    "\n",
    "## 轮廓实例\n"
   ]
  },
  {
   "cell_type": "code",
   "execution_count": 3,
   "metadata": {},
   "outputs": [],
   "source": [
    "o = cv2.imread(\"./images/contours.bmp\")\n",
    "cv2.imshow(\"original\",o)\n",
    "gray = cv2.cvtColor(o,cv2.COLOR_BGR2GRAY)\n",
    "ret, binary = cv2.threshold(gray,127,255,cv2.THRESH_BINARY)\n",
    "contours, hierarchy = cv2.findContours(binary,cv2.RETR_EXTERNAL,cv2.CHAIN_APPROX_SIMPLE)\n",
    "o = cv2.drawContours(o,contours,-1,(0,0,255),5)\n",
    "cv2.imshow(\"result\",o)\n",
    "cv2.waitKey()\n",
    "cv2.destroyAllWindows()"
   ]
  },
  {
   "cell_type": "code",
   "execution_count": 4,
   "metadata": {},
   "outputs": [],
   "source": [
    "o = cv2.imread(\"./images/contours.bmp\")\n",
    "cv2.imshow(\"original\",o)\n",
    "gray = cv2.cvtColor(o,cv2.COLOR_BGR2GRAY)\n",
    "ret, binary = cv2.threshold(gray,127,255,cv2.THRESH_BINARY)\n",
    "contours, hierarchy = cv2.findContours(binary,cv2.RETR_EXTERNAL,cv2.CHAIN_APPROX_SIMPLE)\n",
    "n = len(contours)\n",
    "contoursImg = []\n",
    "for i in range(n):\n",
    "    temp = np.zeros(o.shape,np.uint8)\n",
    "    contoursImg.append(temp)\n",
    "    contoursImg[i] = cv2.drawContours(contoursImg[i],contours,i,(255,255,255),5)\n",
    "    cv2.imshow(\"contours[\"+str(i)+\"]\",contoursImg[i])\n",
    "cv2.waitKey()\n",
    "cv2.destroyAllWindows()"
   ]
  },
  {
   "cell_type": "code",
   "execution_count": 6,
   "metadata": {},
   "outputs": [],
   "source": [
    "o = cv2.imread(\"./images/loc3.jpg\")\n",
    "cv2.imshow(\"original\",o)\n",
    "gray = cv2.cvtColor(o,cv2.COLOR_BGR2GRAY)\n",
    "ret, binary = cv2.threshold(gray,127,255,cv2.THRESH_BINARY)\n",
    "contours, hierarchy = cv2.findContours(binary,cv2.RETR_LIST,cv2.CHAIN_APPROX_SIMPLE)\n",
    "mask = np.zeros(o.shape,np.uint8)\n",
    "mask = cv2.drawContours(mask,contours,-1,(255,255,255),-1)\n",
    "cv2.imshow(\"mask\",mask)\n",
    "loc = cv2.bitwise_and(o,mask)\n",
    "cv2.imshow('location',loc)\n",
    "cv2.waitKey()\n",
    "cv2.destroyAllWindows()"
   ]
  },
  {
   "cell_type": "markdown",
   "metadata": {},
   "source": [
    "# 矩特征\n",
    "比较两个轮廓最简单的方法是比较二者的轮廓矩。轮廓矩代表了一个轮廓、一幅图像、一组点集的全局特征。矩信息包含了对应对象不同类型的几何特征，例如大小、位置、角度、形状等。矩特征被广泛地应用在模式识别、图像识别等方面。\n",
    "\n",
    "## 矩的计算：moments函数\n",
    "OpenCV提供了函数`cv2.moments()`来获取图像的moments特征。通常情况下，我们将使用函数`cv2.moments()`获取的轮廓特征称为“轮廓矩”。轮廓矩描述了一个轮廓的重要特征，使用轮廓矩可以方便地比较两个轮廓。\n",
    "\n",
    "m00矩判断其面积是否一致\n",
    "\n",
    "中心矩具有的平移不变性，使它能够忽略两个对象的位置关系，帮助我们比较不同位置上两个对象的一致性\n",
    "\n",
    "归一化中心矩通过除以物体总尺寸而获得缩放不变性。它通过上述计算提取对象的归一化中心矩属性值，该属性值不仅具有平移不变性，还具有缩放不变性。\n",
    "\n",
    "在OpenCV中，函数cv2.moments()会同时计算上述空间矩、中心矩和归一化中心距。"
   ]
  },
  {
   "cell_type": "code",
   "execution_count": null,
   "metadata": {},
   "outputs": [],
   "source": [
    "o = cv2.imread(\"./images/moments.bmp\")\n",
    "cv2.imshow(\"original\",o)\n",
    "gray = cv2.cvtColor(o,cv2.COLOR_BGR2GRAY)\n",
    "ret, binary = cv2.threshold(gray,127,255,cv2.THRESH_BINARY)\n",
    "contours, hierarchy = cv2.findContours(binary,cv2.RETR_LIST,cv2.CHAIN_APPROX_SIMPLE)\n",
    "n = len(contours)\n",
    "contoursImg = []\n",
    "for i in range(n):\n",
    "    temp = np.zeros(binary.shape,np.uint8)\n",
    "    contoursImg.append(temp)\n",
    "    contoursImg[i] = cv2.drawContours(contoursImg[i],contours,i,255,3)\n",
    "    cv2.imshow(\"contours[\"+str(i)+\"]\",contoursImg[i])\n",
    "    print(\"观察各个轮廓的矩（moments）：\")\n",
    "for i in range(n):\n",
    "    print(\"轮廓\"+str(i)+\"的矩：\\n\",cv2.moments(contours[i]))\n",
    "print(\"观察各个轮廓的面积：\")\n",
    "for i in range(n):\n",
    "    print(\"轮廓\"+str(i)+\"的面积：%d\" %cv2.moments(contours[i])['m00'])\n",
    "    \n",
    "cv2.waitKey()\n",
    "cv2.destroyAllWindows()"
   ]
  },
  {
   "cell_type": "markdown",
   "metadata": {},
   "source": [
    "## 计算轮廓的面积：contourArea函数\n"
   ]
  },
  {
   "cell_type": "code",
   "execution_count": null,
   "metadata": {},
   "outputs": [],
   "source": [
    "o = cv2.imread(\"./images/contours.bmp\")\n",
    "gray = cv2.cvtColor(o,cv2.COLOR_BGR2GRAY)\n",
    "ret, binary = cv2.threshold(gray,127,255,cv2.THRESH_BINARY)\n",
    "contours, hierarchy = cv2.findContours(binary,cv2.RETR_EXTERNAL,cv2.CHAIN_APPROX_SIMPLE)\n",
    "cv2.imshow(\"original\",o)\n",
    "n = len(contours)\n",
    "contoursImg = []\n",
    "for i in range(n):\n",
    "    print(\"contours[\"+str(i)+\"]面积=\",cv2.contourArea(contours[i]))\n",
    "    temp = np.zeros(o.shape,np.uint8)\n",
    "    contoursImg.append(temp)\n",
    "    contoursImg[i] = cv2.drawContours(contoursImg[i],contours,i,(255,255,255),3)\n",
    "    cv2.imshow(\"contours[\"+str(i)+\"]\",contoursImg[i])\n",
    "cv2.waitKey()\n",
    "cv2.destroyAllWindows()"
   ]
  },
  {
   "cell_type": "code",
   "execution_count": 4,
   "metadata": {},
   "outputs": [],
   "source": [
    "o = cv2.imread(\"./images/contours.bmp\")\n",
    "gray = cv2.cvtColor(o,cv2.COLOR_BGR2GRAY)\n",
    "ret, binary = cv2.threshold(gray,127,255,cv2.THRESH_BINARY)\n",
    "contours, hierarchy = cv2.findContours(binary,cv2.RETR_EXTERNAL,cv2.CHAIN_APPROX_SIMPLE)\n",
    "cv2.imshow(\"original\",o)\n",
    "n = len(contours)\n",
    "contoursImg = []\n",
    "for i in range(n):\n",
    "    temp = np.zeros(o.shape,np.uint8)\n",
    "    contoursImg.append(temp)\n",
    "    contoursImg[i] = cv2.drawContours(contoursImg[i],contours,i,(255,255,255),3)\n",
    "    if cv2.contourArea(contours[i]) > 15000:\n",
    "        cv2.imshow(\"contours[\"+str(i)+\"]\",contoursImg[i])\n",
    "cv2.waitKey()\n",
    "cv2.destroyAllWindows()"
   ]
  },
  {
   "cell_type": "markdown",
   "metadata": {},
   "source": [
    "## 计算轮廓的长度：arcLength函数"
   ]
  },
  {
   "cell_type": "code",
   "execution_count": null,
   "metadata": {},
   "outputs": [],
   "source": [
    "o = cv2.imread('./images/contours0.bmp')\n",
    "cv2.imshow('original',o)\n",
    "gray = cv2.cvtColor(o,cv2.COLOR_BGR2GRAY)\n",
    "ret, binary = cv2.threshold(gray,127,255,cv2.THRESH_BINARY)\n",
    "contours, hierarchy = cv2.findContours(binary,cv2.RETR_LIST,cv2.CHAIN_APPROX_SIMPLE)\n",
    "n = len(contours)\n",
    "cntLen = []\n",
    "for i in range(n):\n",
    "    cntLen.append(cv2.arcLength(contours[i],True))\n",
    "    print(\"第\"+str(i)+\"个轮廓的长度：%d\" %cntLen[i])\n",
    "cntLenSum = np.sum(cntLen)\n",
    "cntLenAvr = cntLenSum/n\n",
    "print(\"轮廓的总长度：%d\" %cntLenSum)\n",
    "print(\"轮廓的平均长度为：%d\" %cntLenAvr)\n",
    "for i in range(n):\n",
    "    temp = np.zeros(o.shape,np.uint8)\n",
    "    contoursImg.append(temp)\n",
    "    contoursImg[i] = cv2.drawContours(contoursImg[i],contours,i,(255,255,255),3)\n",
    "    if cv2.arcLength(contours[i],True) > cntLenAvr:\n",
    "        cv2.imshow(\"contours[\"+str(i)+\"]\",contoursImg[i])\n",
    "cv2.waitKey()\n",
    "cv2.destroyAllWindows()"
   ]
  },
  {
   "cell_type": "markdown",
   "metadata": {},
   "source": [
    "# Hu矩\n",
    "Hu矩是归一化中心矩的线性组合。Hu矩在图像旋转、缩放、平移等操作后，仍能保持矩的不变性，所以经常会使用Hu距来识别图像的特征。\n",
    "\n",
    "在OpenCV中，使用函数`cv2.HuMoments()`可以得到Hu距。该函数使用`cv2.moments()`函数的返回值作为参数，返回7个Hu矩值。\n",
    "\n",
    "## Hu矩函数"
   ]
  },
  {
   "cell_type": "code",
   "execution_count": null,
   "metadata": {},
   "outputs": [],
   "source": [
    "o1 = cv2.imread(\"./images/cs1.bmp\")\n",
    "gray = cv2.cvtColor(o1,cv2.COLOR_BGR2GRAY)\n",
    "HuM1 = cv2.HuMoments(cv2.moments(gray)).flatten()\n",
    "print(\"cv2.moments(gray)=\\n\",cv2.moments(gray))\n",
    "print(\"\\nHuM1=\\n\",HuM1)\n",
    "print(\"\\ncv2.moments(gray)['nu20']+cv2.moments(gray)['nu02']=%f+%f=%f\\n\" %(cv2.moments(gray)['nu20'],cv2.moments(gray)['nu02'],cv2.moments(gray)['nu20']+cv2.moments(gray)['nu02']))\n",
    "print(\"HuM1[0]\",HuM1[0])\n",
    "print(\"\\nHu[0]-(nu02+nu20)=\",HuM1[0]-(cv2.moments(gray)['nu20']+cv2.moments(gray)['nu02']))"
   ]
  },
  {
   "cell_type": "code",
   "execution_count": null,
   "metadata": {},
   "outputs": [],
   "source": [
    "#----------------计算图像1的Hu矩-------------------\n",
    "o1 = cv2.imread('./images/cs1.bmp')  \n",
    "gray1 = cv2.cvtColor(o1,cv2.COLOR_BGR2GRAY)  \n",
    "HuM1=cv2.HuMoments(cv2.moments(gray1)).flatten()\n",
    "#----------------计算图像2的Hu矩-------------------\n",
    "o2 = cv2.imread('./images/cs3.bmp')  \n",
    "gray2 = cv2.cvtColor(o2,cv2.COLOR_BGR2GRAY)  \n",
    "HuM2=cv2.HuMoments(cv2.moments(gray2)).flatten()\n",
    "#----------------计算图像3的Hu矩-------------------\n",
    "o3 = cv2.imread('./images/lena512.bmp')  \n",
    "gray3 = cv2.cvtColor(o3,cv2.COLOR_BGR2GRAY)  \n",
    "HuM3=cv2.HuMoments(cv2.moments(gray3)).flatten()\n",
    "#---------打印图像1、图像2、图像3的特征值------------\n",
    "print(\"o1.shape=\",o1.shape)\n",
    "print(\"o2.shape=\",o2.shape)\n",
    "print(\"o3.shape=\",o3.shape)\n",
    "print(\"cv2.moments(gray1)=\\n\",cv2.moments(gray1))\n",
    "print(\"cv2.moments(gray2)=\\n\",cv2.moments(gray2))\n",
    "print(\"cv2.moments(gray3)=\\n\",cv2.moments(gray3))\n",
    "print(\"\\nHuM1=\\n\",HuM1)\n",
    "print(\"\\nHuM2=\\n\",HuM2)\n",
    "print(\"\\nHuM3=\\n\",HuM3)\n",
    "#---------计算图像1与图像2、图像3的Hu矩之差----------------\n",
    "print(\"\\nHuM1-HuM2=\",HuM1-HuM2)\n",
    "print(\"\\nHuM1-HuM3=\",HuM1-HuM3)\n",
    "#---------显示图像----------------\n",
    "cv2.imshow(\"original1\",o1)\n",
    "cv2.imshow(\"original2\",o2)\n",
    "cv2.imshow(\"original3\",o3)\n",
    "cv2.waitKey()\n",
    "cv2.destroyAllWindows()"
   ]
  },
  {
   "cell_type": "markdown",
   "metadata": {},
   "source": [
    "## 形状匹配\n",
    "我们可以通过Hu矩来判断两个对象的一致性。为了更直观方便地比较Hu矩值，OpenCV提供了函数`cv2.matchShapes()`，对两个对象的Hu矩进行比较。\n",
    "\n",
    "函数`cv2.matchShapes()`允许我们提供两个对象，对二者的Hu矩进行比较。这两个对象可以是轮廓，也可以是灰度图。不管是什么，`cv2.matchShapes()`都会提前计算好对象的Hu矩值。\n",
    "\n"
   ]
  },
  {
   "cell_type": "code",
   "execution_count": null,
   "metadata": {},
   "outputs": [],
   "source": [
    "#--------------读取3幅原始图像--------------------\n",
    "o1 = cv2.imread('./images/cs1.bmp')\n",
    "o2 = cv2.imread('./images/cs2.bmp')\n",
    "o3 = cv2.imread('./images/cc.bmp') \n",
    "#----------打印3幅原始图像的shape属性值-------------\n",
    "print(\"o1.shape=\",o1.shape)\n",
    "print(\"o2.shape=\",o2.shape)\n",
    "print(\"o3.shape=\",o3.shape)\n",
    "#--------------色彩空间转换-------------------- \n",
    "gray1 = cv2.cvtColor(o1,cv2.COLOR_BGR2GRAY) \n",
    "gray2 = cv2.cvtColor(o2,cv2.COLOR_BGR2GRAY) \n",
    "gray3 = cv2.cvtColor(o3,cv2.COLOR_BGR2GRAY) \n",
    "#-------------进行Hu矩匹配--------------------\n",
    "ret0 = cv2.matchShapes(gray1,gray1,1,0.0)\n",
    "ret1 = cv2.matchShapes(gray1,gray2,1,0.0)\n",
    "ret2 = cv2.matchShapes(gray1,gray3,1,0.0)\n",
    "#--------------打印差值--------------------\n",
    "print(\"相同图像的matchShape=\",ret0)\n",
    "print(\"相似图像的matchShape=\",ret1)\n",
    "print(\"不相似图像的matchShape=\",ret2)\n",
    "#--------------显示3幅原始图像--------------------\n",
    "cv2.imshow(\"original1\",o1)\n",
    "cv2.imshow(\"original2\",o2)\n",
    "cv2.imshow(\"original3\",o3)\n",
    "cv2.waitKey()\n",
    "cv2.destroyAllWindows()"
   ]
  },
  {
   "cell_type": "markdown",
   "metadata": {},
   "source": [
    "# 轮廓拟合\n",
    "## 矩形包围框\n",
    "函数`cv2.boundingRect()`能够绘制轮廓的矩形边界。"
   ]
  },
  {
   "cell_type": "code",
   "execution_count": null,
   "metadata": {},
   "outputs": [],
   "source": [
    "#---------------读取并显示原始图像------------------ \n",
    "o = cv2.imread('./images/cc.bmp')  \n",
    "#---------------提取图像轮廓------------------ \n",
    "gray = cv2.cvtColor(o,cv2.COLOR_BGR2GRAY)  \n",
    "ret, binary = cv2.threshold(gray,127,255,cv2.THRESH_BINARY)  \n",
    "contours, hierarchy = cv2.findContours(binary,\n",
    "                                             cv2.RETR_LIST,\n",
    "                                             cv2.CHAIN_APPROX_SIMPLE) \n",
    "#---------------返回顶点及边长------------------ \n",
    "x,y,w,h = cv2.boundingRect(contours[0])\n",
    "print(\"顶点及长宽的点形式:\")\n",
    "print(\"x=\",x)\n",
    "print(\"y=\",y)\n",
    "print(\"w=\",w)\n",
    "print(\"h=\",h)\n",
    "#---------------仅有一个返回值的情况------------------\n",
    "rect = cv2.boundingRect(contours[0])\n",
    "print(\"\\n顶点及长宽的元组（tuple）形式：\")\n",
    "print(\"rect=\",rect)"
   ]
  },
  {
   "cell_type": "code",
   "execution_count": 9,
   "metadata": {},
   "outputs": [],
   "source": [
    "#---------------读取并显示原始图像------------------ \n",
    "o = cv2.imread('./images/cc.bmp')  \n",
    "cv2.imshow(\"original\",o)\n",
    "#---------------提取图像轮廓------------------ \n",
    "gray = cv2.cvtColor(o,cv2.COLOR_BGR2GRAY)  \n",
    "ret, binary = cv2.threshold(gray,127,255,cv2.THRESH_BINARY)  \n",
    "contours, hierarchy = cv2.findContours(binary,\n",
    "                                             cv2.RETR_LIST,\n",
    "                                             cv2.CHAIN_APPROX_SIMPLE) \n",
    "#---------------构造矩形边界------------------ \n",
    "x,y,w,h = cv2.boundingRect(contours[0])\n",
    "brcnt = np.array([[[x, y]], [[x+w, y]], [[x+w, y+h]], [[x, y+h]]])\n",
    "cv2.drawContours(o, [brcnt], -1, (255, 255,255), 2)\n",
    "#---------------显示矩形边界------------------\n",
    "cv2.imshow(\"result\",o)\n",
    "cv2.waitKey()\n",
    "cv2.destroyAllWindows()"
   ]
  },
  {
   "cell_type": "code",
   "execution_count": 10,
   "metadata": {},
   "outputs": [],
   "source": [
    "#---------------读取并显示原始图像------------------ \n",
    "o = cv2.imread('./images/cc.bmp')  \n",
    "cv2.imshow(\"original\",o)\n",
    "#---------------提取图像轮廓------------------ \n",
    "gray = cv2.cvtColor(o,cv2.COLOR_BGR2GRAY)  \n",
    "ret, binary = cv2.threshold(gray,127,255,cv2.THRESH_BINARY)  \n",
    "contours, hierarchy = cv2.findContours(binary,\n",
    "                                             cv2.RETR_LIST,\n",
    "                                             cv2.CHAIN_APPROX_SIMPLE) \n",
    "#---------------构造矩形边界------------------ \n",
    "x,y,w,h = cv2.boundingRect(contours[0])\n",
    "cv2.rectangle(o,(x,y),(x+w,y+h),(255,255,255),2)\n",
    "#---------------显示矩形边界------------------\n",
    "cv2.imshow(\"result\",o)\n",
    "cv2.waitKey()\n",
    "cv2.destroyAllWindows()"
   ]
  },
  {
   "cell_type": "markdown",
   "metadata": {},
   "source": [
    "## 最小包围矩形框\n",
    "函数`cv2.minAreaRect()`能够绘制轮廓的最小包围矩形框\n",
    "\n",
    "函数`cv2.boxPoints()`能够将`cv2.minAreaRect()`返回值retval转换为符合要求的结构。\n",
    "\n"
   ]
  },
  {
   "cell_type": "code",
   "execution_count": null,
   "metadata": {},
   "outputs": [],
   "source": [
    "o = cv2.imread('./images/cc.bmp')  \n",
    "cv2.imshow(\"original\",o)\n",
    "gray = cv2.cvtColor(o,cv2.COLOR_BGR2GRAY)  \n",
    "ret, binary = cv2.threshold(gray,127,255,cv2.THRESH_BINARY)  \n",
    "contours, hierarchy = cv2.findContours(binary,\n",
    "                                             cv2.RETR_LIST,\n",
    "                                             cv2.CHAIN_APPROX_SIMPLE)  \n",
    "rect = cv2.minAreaRect(contours[0])\n",
    "print(\"返回值rect:\\n\",rect)\n",
    "points = cv2.boxPoints(rect)\n",
    "print(\"\\n转换后的points：\\n\",points)\n",
    "points = np.int0(points)  #取整\n",
    "image=cv2.drawContours(o,[points],0,(255,255,255),2)\n",
    "cv2.imshow(\"result\",o)\n",
    "cv2.waitKey()\n",
    "cv2.destroyAllWindows()"
   ]
  },
  {
   "cell_type": "markdown",
   "metadata": {},
   "source": [
    "## 最小包围圆形\n",
    "函数`cv2.minEnclosingCircle()`通过迭代算法构造一个对象的面积最小包围圆形。"
   ]
  },
  {
   "cell_type": "code",
   "execution_count": 12,
   "metadata": {},
   "outputs": [],
   "source": [
    "o = cv2.imread('./images/cc.bmp')  \n",
    "cv2.imshow(\"original\",o)\n",
    "gray = cv2.cvtColor(o,cv2.COLOR_BGR2GRAY)  \n",
    "ret, binary = cv2.threshold(gray,127,255,cv2.THRESH_BINARY)  \n",
    "contours, hierarchy = cv2.findContours(binary,\n",
    "                                             cv2.RETR_LIST,\n",
    "                                             cv2.CHAIN_APPROX_SIMPLE)  \n",
    "(x,y),radius = cv2.minEnclosingCircle(contours[0])\n",
    "center = (int(x),int(y))\n",
    "radius = int(radius)\n",
    "cv2.circle(o,center,radius,(255,255,255),2)\n",
    "cv2.imshow(\"result\",o)\n",
    "cv2.waitKey()\n",
    "cv2.destroyAllWindows()"
   ]
  },
  {
   "cell_type": "markdown",
   "metadata": {},
   "source": [
    "## 最优拟合椭圆\n",
    "在OpenCV中，函数`cv2.fitEllipse()`可以用来构造最优拟合椭圆。"
   ]
  },
  {
   "cell_type": "code",
   "execution_count": null,
   "metadata": {},
   "outputs": [],
   "source": [
    "o = cv2.imread('./images/cc.bmp')  \n",
    "gray = cv2.cvtColor(o,cv2.COLOR_BGR2GRAY)  \n",
    "ret, binary = cv2.threshold(gray,127,255,cv2.THRESH_BINARY)  \n",
    "contours, hierarchy = cv2.findContours(binary,\n",
    "                                             cv2.RETR_LIST,\n",
    "                                             cv2.CHAIN_APPROX_SIMPLE)  \n",
    "cv2.imshow(\"original\",o)\n",
    "ellipse = cv2.fitEllipse(contours[0])\n",
    "print(\"ellipse=\",ellipse)\n",
    "cv2.ellipse(o,ellipse,(0,255,0),3)\n",
    "cv2.imshow(\"result\",o)\n",
    "cv2.waitKey()\n",
    "cv2.destroyAllWindows()"
   ]
  },
  {
   "cell_type": "markdown",
   "metadata": {},
   "source": [
    "## 最优拟合直线\n",
    "在OpenCV中，函数`cv2.fitLine()`用来构造最优拟合直线"
   ]
  },
  {
   "cell_type": "code",
   "execution_count": 14,
   "metadata": {},
   "outputs": [],
   "source": [
    "o = cv2.imread('./images/cc.bmp') \n",
    "cv2.imshow(\"original\",o) \n",
    "gray = cv2.cvtColor(o,cv2.COLOR_BGR2GRAY)  \n",
    "ret, binary = cv2.threshold(gray,127,255,cv2.THRESH_BINARY)  \n",
    "contours, hierarchy = cv2.findContours(binary,\n",
    "                                             cv2.RETR_LIST,\n",
    "                                             cv2.CHAIN_APPROX_SIMPLE)  \n",
    "rows,cols = image.shape[:2]\n",
    "[vx,vy,x,y] = cv2.fitLine(contours[0], cv2.DIST_L2,0,0.01,0.01)\n",
    "lefty = int((-x*vy/vx) + y)\n",
    "righty = int(((cols-x)*vy/vx)+y)\n",
    "cv2.line(o,(cols-1,righty),(0,lefty),(0,255,0),2)\n",
    "cv2.imshow(\"result\",o)\n",
    "cv2.waitKey()\n",
    "cv2.destroyAllWindows()"
   ]
  },
  {
   "cell_type": "markdown",
   "metadata": {},
   "source": [
    "## 最小外包三角形\n",
    "在OpenCV中，函数`cv2.minEnclosingTriangle()`用来构造最小外包三角形。"
   ]
  },
  {
   "cell_type": "code",
   "execution_count": null,
   "metadata": {},
   "outputs": [],
   "source": [
    "o = cv2.imread('./images/cc.bmp')  \n",
    "cv2.imshow(\"original\",o)\n",
    "gray = cv2.cvtColor(o,cv2.COLOR_BGR2GRAY)  \n",
    "ret, binary = cv2.threshold(gray,127,255,cv2.THRESH_BINARY)  \n",
    "contours, hierarchy = cv2.findContours(binary,\n",
    "                                             cv2.RETR_LIST,\n",
    "                                             cv2.CHAIN_APPROX_SIMPLE)  \n",
    "area,trgl = cv2.minEnclosingTriangle(contours[0])\n",
    "trgl = trgl.astype(np.uint16)\n",
    "print(\"area=\",area)\n",
    "print(\"trgl:\",trgl)\n",
    "for i in range(0,3):\n",
    "    print(tuple(trgl[(i+1)%3][0]))\n",
    "for i in range(0,3):\n",
    "    cv2.line(o, tuple(trgl[i][0]), \n",
    "             tuple(trgl[(i + 1) % 3][0]), (255,255,255), 2) \n",
    "cv2.imshow(\"result\",o)\n",
    "cv2.waitKey()\n",
    "cv2.destroyAllWindows()"
   ]
  },
  {
   "cell_type": "markdown",
   "metadata": {},
   "source": [
    "## 逼近多边形\n",
    "函数`cv2.approxPolyDP()`用来构造指定精度的逼近多边形曲线。"
   ]
  },
  {
   "cell_type": "code",
   "execution_count": 4,
   "metadata": {},
   "outputs": [],
   "source": [
    "#----------------读取并显示原始图像-------------------------------\n",
    "o = cv2.imread('./images/cc.bmp') \n",
    "cv2.imshow(\"original\",o) \n",
    "#----------------获取轮廓-------------------------------\n",
    "gray = cv2.cvtColor(o,cv2.COLOR_BGR2GRAY)  \n",
    "ret, binary = cv2.threshold(gray,127,255,cv2.THRESH_BINARY)  \n",
    "contours, hierarchy = cv2.findContours(binary,\n",
    "                                             cv2.RETR_LIST,\n",
    "                                             cv2.CHAIN_APPROX_SIMPLE)  \n",
    "#----------------epsilon=0.1*周长-------------------------------\n",
    "adp = o.copy()\n",
    "epsilon = 0.1*cv2.arcLength(contours[0],True)\n",
    "approx = cv2.approxPolyDP(contours[0],epsilon,True)\n",
    "adp=cv2.drawContours(adp,[approx],0,(0,0,255),2)\n",
    "cv2.imshow(\"result0.1\",adp)\n",
    "#----------------epsilon=0.09*周长-------------------------------\n",
    "adp = o.copy()\n",
    "epsilon = 0.09*cv2.arcLength(contours[0],True)\n",
    "approx = cv2.approxPolyDP(contours[0],epsilon,True)\n",
    "adp=cv2.drawContours(adp,[approx],0,(0,0,255),2)\n",
    "cv2.imshow(\"result0.09\",adp)\n",
    "#----------------epsilon=0.055*周长-------------------------------\n",
    "adp = o.copy()\n",
    "epsilon = 0.055*cv2.arcLength(contours[0],True)\n",
    "approx = cv2.approxPolyDP(contours[0],epsilon,True)\n",
    "adp=cv2.drawContours(adp,[approx],0,(0,0,255),2)\n",
    "cv2.imshow(\"result0.055\",adp)\n",
    "#----------------epsilon=0.05*周长-------------------------------\n",
    "adp = o.copy()\n",
    "epsilon = 0.05*cv2.arcLength(contours[0],True)\n",
    "approx = cv2.approxPolyDP(contours[0],epsilon,True)\n",
    "adp=cv2.drawContours(adp,[approx],0,(0,0,255),2)\n",
    "cv2.imshow(\"result0.05\",adp)\n",
    "#----------------epsilon=0.02*周长-------------------------------\n",
    "adp = o.copy()\n",
    "epsilon = 0.02*cv2.arcLength(contours[0],True)\n",
    "approx = cv2.approxPolyDP(contours[0],epsilon,True)\n",
    "adp=cv2.drawContours(adp,[approx],0,(0,0,255),2)\n",
    "cv2.imshow(\"result0.02\",adp)\n",
    "#----------------等待释放窗口-------------------------------\n",
    "cv2.waitKey()\n",
    "cv2.destroyAllWindows()"
   ]
  },
  {
   "cell_type": "markdown",
   "metadata": {},
   "source": [
    "# 凸包\n",
    "逼近多边形是轮廓的高度近似，但是有时候，我们希望使用一个多边形的凸包来简化它。凸包跟逼近多边形很像，只不过它是物体最外层的“凸”多边形。凸包指的是完全包含原有轮廓，并且仅由轮廓上的点所构成的多边形。凸包的每一处都是凸的，即在凸包内连接任意两点的直线都在凸包的内部。在凸包内，任意连续三个点的内角小于180°。\n",
    "\n",
    "凸缺陷（Convexity Defect）\n",
    "\n",
    "## 获取凸包\n",
    "OpenCV提供函数`cv2.convexHull()`用于获取轮廓的凸包。\n",
    "\n"
   ]
  },
  {
   "cell_type": "code",
   "execution_count": null,
   "metadata": {},
   "outputs": [],
   "source": [
    "o = cv2.imread('./images/contours.bmp')  \n",
    "gray = cv2.cvtColor(o,cv2.COLOR_BGR2GRAY)  \n",
    "ret, binary = cv2.threshold(gray,127,255,cv2.THRESH_BINARY)  \n",
    "contours, hierarchy = cv2.findContours(binary,\n",
    "                                             cv2.RETR_TREE,\n",
    "                                             cv2.CHAIN_APPROX_SIMPLE)  \n",
    "hull = cv2.convexHull(contours[0])   #返回坐标值\n",
    "print(\"returnPoints为默认值True时返回值hull的值：\\n\",hull)\n",
    "hull2 = cv2.convexHull(contours[0], returnPoints=False) #返回索引值\n",
    "print(\"returnPoints为False时返回值hull的值：\\n\",hull2)"
   ]
  },
  {
   "cell_type": "code",
   "execution_count": 3,
   "metadata": {},
   "outputs": [],
   "source": [
    "# --------------读取并绘制原始图像------------------\n",
    "o = cv2.imread('./images/hand.bmp')  \n",
    "cv2.imshow(\"original\",o)\n",
    "# --------------提取轮廓------------------\n",
    "gray = cv2.cvtColor(o,cv2.COLOR_BGR2GRAY)  \n",
    "ret, binary = cv2.threshold(gray,127,255,cv2.THRESH_BINARY)  \n",
    "contours, hierarchy = cv2.findContours(binary,\n",
    "                                             cv2.RETR_LIST,\n",
    "                                             cv2.CHAIN_APPROX_SIMPLE)  \n",
    "# --------------寻找凸包，得到凸包的角点------------------\n",
    "hull = cv2.convexHull(contours[0])\n",
    "# --------------绘制凸包------------------\n",
    "cv2.polylines(o, [hull], True, (0, 255, 0), 2)\n",
    "# --------------显示凸包------------------\n",
    "cv2.imshow(\"result\",o)\n",
    "cv2.waitKey()\n",
    "cv2.destroyAllWindows()"
   ]
  },
  {
   "cell_type": "markdown",
   "metadata": {},
   "source": [
    "## 图缺陷\n",
    "凸包与轮廓之间的部分，称为凸缺陷。在OpenCV中使用函数`cv2.convexityDefects()`获取凸缺陷。"
   ]
  },
  {
   "cell_type": "code",
   "execution_count": null,
   "metadata": {},
   "outputs": [],
   "source": [
    "#----------------原图--------------------------\n",
    "img = cv2.imread('./images/hand.bmp')\n",
    "cv2.imshow('original',img)\n",
    "#----------------构造轮廓--------------------------\n",
    "gray = cv2.cvtColor(img,cv2.COLOR_BGR2GRAY)\n",
    "ret, binary = cv2.threshold(gray, 127, 255,0)\n",
    "contours, hierarchy = cv2.findContours(binary,\n",
    "                                             cv2.RETR_TREE,\n",
    "                                             cv2.CHAIN_APPROX_SIMPLE)  \n",
    "#----------------凸包--------------------------\n",
    "cnt = contours[0]\n",
    "hull = cv2.convexHull(cnt,returnPoints = False)\n",
    "defects = cv2.convexityDefects(cnt,hull)\n",
    "print(\"defects=\\n\",defects)\n",
    "#----------------构造凸缺陷--------------------------\n",
    "for i in range(defects.shape[0]):\n",
    "    s,e,f,d = defects[i,0]\n",
    "    start = tuple(cnt[s][0])\n",
    "    end = tuple(cnt[e][0])\n",
    "    far = tuple(cnt[f][0])\n",
    "    cv2.line(img,start,end,[0,0,255],2)\n",
    "    cv2.circle(img,far,5,[255,0,0],-1)\n",
    "#----------------显示结果、释放图像--------------------------\n",
    "cv2.imshow('result',img)\n",
    "cv2.waitKey(0)\n",
    "cv2.destroyAllWindows()"
   ]
  },
  {
   "cell_type": "markdown",
   "metadata": {},
   "source": [
    "## 几何学测试\n",
    "### 测试轮廓是否是凸形的\n",
    "在OpenCV中，可以用函数`cv2.isContourConvex()`来判断轮廓是否是凸形的"
   ]
  },
  {
   "cell_type": "code",
   "execution_count": null,
   "metadata": {},
   "outputs": [],
   "source": [
    "o = cv2.imread('./images/hand.bmp')  \n",
    "cv2.imshow(\"original\",o)\n",
    "gray = cv2.cvtColor(o,cv2.COLOR_BGR2GRAY)  \n",
    "ret, binary = cv2.threshold(gray,127,255,cv2.THRESH_BINARY)  \n",
    "contours, hierarchy = cv2.findContours(binary,\n",
    "                                             cv2.RETR_LIST,\n",
    "                                             cv2.CHAIN_APPROX_SIMPLE)  \n",
    "#--------------凸包----------------------\n",
    "image1=o.copy()\n",
    "hull = cv2.convexHull(contours[0])\n",
    "cv2.polylines(image1, [hull], True, (0, 255, 0), 2)\n",
    "print(\"使用函数cv2.convexHull()构造的多边形是否是凸包：\",\n",
    "      cv2.isContourConvex(hull))\n",
    "cv2.imshow(\"result1\",image1)\n",
    "#------------逼近多边形--------------------\n",
    "image2=o.copy()\n",
    "epsilon = 0.01*cv2.arcLength(contours[0],True)\n",
    "approx = cv2.approxPolyDP(contours[0],epsilon,True)\n",
    "image2=cv2.drawContours(image2,[approx],0,(0,0,255),2)\n",
    "print(\"使用函数cv2.approxPolyDP()构造的多边形是否是凸包：\",\n",
    "      cv2.isContourConvex(approx))\n",
    "cv2.imshow(\"result2\",image2)\n",
    "#------------释放窗口--------------------\n",
    "cv2.waitKey()\n",
    "cv2.destroyAllWindows()"
   ]
  },
  {
   "cell_type": "markdown",
   "metadata": {},
   "source": [
    "### 点到轮廓的距离\n",
    "在OpenCV中，函数`cv2.pointPolygonTest()`被用来计算点到多边形（轮廓）的最短距离（也就是垂线距离），这个计算过程又称点和多边形的关系测试。"
   ]
  },
  {
   "cell_type": "code",
   "execution_count": null,
   "metadata": {},
   "outputs": [],
   "source": [
    "#----------------原始图像-------------------------\n",
    "o = cv2.imread('./images/cs.bmp')\n",
    "cv2.imshow(\"original\",o)\n",
    "#----------------获取凸包------------------------  \n",
    "gray = cv2.cvtColor(o,cv2.COLOR_BGR2GRAY)  \n",
    "ret, binary = cv2.threshold(gray,127,255,cv2.THRESH_BINARY)  \n",
    "contours, hierarchy = cv2.findContours(binary,\n",
    "                                             cv2.RETR_LIST,\n",
    "                                             cv2.CHAIN_APPROX_SIMPLE)  \n",
    "hull = cv2.convexHull(contours[0])\n",
    "image = cv2.cvtColor(binary, cv2.COLOR_GRAY2BGR)\n",
    "cv2.polylines(image, [hull], True, (0, 255, 0), 2)\n",
    "#----------------内部点A的距离-------------------------\n",
    "distA = cv2.pointPolygonTest(hull, (300, 150), True)  \n",
    "font=cv2.FONT_HERSHEY_SIMPLEX\n",
    "cv2.putText(image,'A',(300,150), font, 1,(0,255,0),3)\n",
    "print(\"distA=\",distA) \n",
    "#----------------外部点B的距离-------------------------\n",
    "distB = cv2.pointPolygonTest(hull, (300, 250), True)  \n",
    "font=cv2.FONT_HERSHEY_SIMPLEX\n",
    "cv2.putText(image,'B',(300,250), font, 1,(0,255,0),3)\n",
    "print(\"distB=\",distB) \n",
    "#------------正好处于边缘上的点C的距离-----------------\n",
    "distC = cv2.pointPolygonTest(hull, (423, 112), True)  \n",
    "font=cv2.FONT_HERSHEY_SIMPLEX\n",
    "cv2.putText(image,'C',(423,112), font, 1,(0,255,0),3)\n",
    "print(\"distC=\",distC) \n",
    "#print(hull)   #测试边缘到底在哪里，然后再使用确定位置的\n",
    "#----------------显示-------------------------\n",
    "cv2.imshow(\"result\",image)\n",
    "cv2.waitKey()\n",
    "cv2.destroyAllWindows()"
   ]
  },
  {
   "cell_type": "code",
   "execution_count": null,
   "metadata": {},
   "outputs": [],
   "source": [
    "#----------------原始图像-------------------------\n",
    "o = cv2.imread('./images/cs.bmp')\n",
    "cv2.imshow(\"original\",o)\n",
    "#----------------获取凸包------------------------ \n",
    "gray = cv2.cvtColor(o,cv2.COLOR_BGR2GRAY)  \n",
    "ret, binary = cv2.threshold(gray,127,255,cv2.THRESH_BINARY)  \n",
    "contours, hierarchy = cv2.findContours(binary,\n",
    "                                             cv2.RETR_LIST,\n",
    "                                             cv2.CHAIN_APPROX_SIMPLE)  \n",
    "hull = cv2.convexHull(contours[0])\n",
    "image = cv2.cvtColor(binary, cv2.COLOR_GRAY2BGR)\n",
    "cv2.polylines(image, [hull], True, (0, 255, 0), 2)\n",
    "#----------------内部点A与多边形的关系-------------------------\n",
    "distA = cv2.pointPolygonTest(hull, (300, 150),False)  \n",
    "font=cv2.FONT_HERSHEY_SIMPLEX\n",
    "cv2.putText(image,'A',(300,150), font, 1,(0,255,0),3)\n",
    "print(\"distA=\",distA) \n",
    "#----------------外部点B与多边形的关系-------------------------\n",
    "distB = cv2.pointPolygonTest(hull, (300, 250), False)  \n",
    "font=cv2.FONT_HERSHEY_SIMPLEX\n",
    "cv2.putText(image,'B',(300,250), font, 1,(0,255,0),3)\n",
    "print(\"distB=\",distB) \n",
    "#----------------边缘线上点C与多边形的关系----------------------\n",
    "distC = cv2.pointPolygonTest(hull, (423, 112),False)  \n",
    "font=cv2.FONT_HERSHEY_SIMPLEX\n",
    "cv2.putText(image,'C',(423,112), font, 1,(0,255,0),3)\n",
    "print(\"distC=\",distC) \n",
    "#print(hull)   #测试边缘到底在哪里，然后再使用确定位置的\n",
    "#----------------显示-------------------------\n",
    "cv2.imshow(\"result\",image)\n",
    "cv2.waitKey()\n",
    "cv2.destroyAllWindows()"
   ]
  },
  {
   "cell_type": "markdown",
   "metadata": {},
   "source": [
    "# 利用形状场景算法比较轮廓\n",
    "用矩比较形状是一种非常有效的方法，不过现在有了更有效的方法。从OpenCV 3开始，有了专有模块shape，该模块中的形状场景算法能够更高效地比较形状。\n",
    "\n",
    "## 计算形状场景距离\n",
    "OpenCV提供了使用“距离”作为形状比较的度量标准。这是因为形状之间的差异值和距离有相似之处，比如二者都只能是零或者正数，又比如当两个形状一模一样时距离值和差值都等于零。OpenCV提供了函数`cv2.createShapeContextDistanceExtractor()`，用于计算形状场景距离。其使用的“形状上下文算法”在计算距离时，在每个点上附加一个“形状上下文”描述符，让每个点都能够捕获剩余点相对于它的分布特征，从而提供全局鉴别特征。\n",
    "\n",
    "该结果可以通过函数cv2.ShapeDistanceExtractor.computeDistance()计算两个不同形状之间的距离"
   ]
  },
  {
   "cell_type": "code",
   "execution_count": null,
   "metadata": {},
   "outputs": [],
   "source": [
    "#-----------原始图像o1边缘--------------------\n",
    "o1 = cv2.imread('./images/cs.bmp')\n",
    "cv2.imshow(\"original1\",o1)\n",
    "gray1 = cv2.cvtColor(o1,cv2.COLOR_BGR2GRAY) \n",
    "ret, binary1 = cv2.threshold(gray1,127,255,cv2.THRESH_BINARY) \n",
    "contours1, hierarchy = cv2.findContours(binary1,\n",
    "                                              cv2.RETR_LIST,\n",
    "                                              cv2.CHAIN_APPROX_SIMPLE) \n",
    "cnt1 = contours1[0]\n",
    "#-----------原始图像o2边缘--------------------\n",
    "o2 = cv2.imread('./images/cs3.bmp') \n",
    "cv2.imshow(\"original2\",o2) \n",
    "gray2 = cv2.cvtColor(o2,cv2.COLOR_BGR2GRAY) \n",
    "ret, binary2 = cv2.threshold(gray2,127,255,cv2.THRESH_BINARY) \n",
    "contours2, hierarchy = cv2.findContours(binary2,\n",
    "                                              cv2.RETR_LIST,\n",
    "                                              cv2.CHAIN_APPROX_SIMPLE)  \n",
    "cnt2 = contours2[0]\n",
    "#-----------原始图像o3边缘--------------------\n",
    "o3 = cv2.imread('./images/hand.bmp') \n",
    "cv2.imshow(\"original3\",o3) \n",
    "gray3 = cv2.cvtColor(o3,cv2.COLOR_BGR2GRAY) \n",
    "ret, binary3 = cv2.threshold(gray3,127,255,cv2.THRESH_BINARY) \n",
    "contours3, hierarchy = cv2.findContours(binary3,\n",
    "                                              cv2.RETR_LIST,\n",
    "                                              cv2.CHAIN_APPROX_SIMPLE)  \n",
    "cnt3 = contours3[0]\n",
    "#-----------构造距离提取算子--------------------\n",
    "sd = cv2.createShapeContextDistanceExtractor()\n",
    "#-----------计算距离--------------------\n",
    "d1 = sd.computeDistance(cnt1,cnt1)\n",
    "print(\"自身距离d1=\", d1)\n",
    "d2 = sd.computeDistance(cnt1,cnt2)\n",
    "print(\"旋转缩放后距离d2=\", d2)\n",
    "d3 = sd.computeDistance(cnt1,cnt3)\n",
    "print(\"不相似对象距离d3=\", d3)\n",
    "#-----------显示距离--------------------\n",
    "cv2.waitKey()\n",
    "cv2.destroyAllWindows()"
   ]
  },
  {
   "cell_type": "markdown",
   "metadata": {},
   "source": [
    "## 计算Hausdorff距离\n",
    "OpenCV提供了函数`cv2.createHausdorffDistanceExtractor()`来计算Hausdorff距离。"
   ]
  },
  {
   "cell_type": "code",
   "execution_count": null,
   "metadata": {},
   "outputs": [],
   "source": [
    "#-----------读取原始图像--------------------\n",
    "o1 = cv2.imread('./images/cs.bmp')\n",
    "o2 = cv2.imread('./images/cs3.bmp') \n",
    "o3 = cv2.imread('./images/hand.bmp') \n",
    "cv2.imshow(\"original1\",o1)\n",
    "cv2.imshow(\"original2\",o2) \n",
    "cv2.imshow(\"original3\",o3) \n",
    "#-----------色彩转换--------------------\n",
    "gray1 = cv2.cvtColor(o1,cv2.COLOR_BGR2GRAY) \n",
    "gray2 = cv2.cvtColor(o2,cv2.COLOR_BGR2GRAY) \n",
    "gray3 = cv2.cvtColor(o3,cv2.COLOR_BGR2GRAY) \n",
    "#-----------阈值处理--------------------\n",
    "ret, binary1 = cv2.threshold(gray1,127,255,cv2.THRESH_BINARY) \n",
    "ret, binary2 = cv2.threshold(gray2,127,255,cv2.THRESH_BINARY) \n",
    "ret, binary3 = cv2.threshold(gray3,127,255,cv2.THRESH_BINARY) \n",
    "#-----------提取轮廓--------------------\n",
    "contours1, hierarchy = cv2.findContours(binary1,\n",
    "                                              cv2.RETR_LIST,\n",
    "                                              cv2.CHAIN_APPROX_SIMPLE)  \n",
    "contours2, hierarchy = cv2.findContours(binary2,\n",
    "                                              cv2.RETR_LIST,\n",
    "                                              cv2.CHAIN_APPROX_SIMPLE)  \n",
    "contours3, hierarchy = cv2.findContours(binary3,\n",
    "                                              cv2.RETR_LIST,\n",
    "                                              cv2.CHAIN_APPROX_SIMPLE)  \n",
    "cnt1 = contours1[0]\n",
    "cnt2 = contours2[0]\n",
    "cnt3 = contours3[0]\n",
    "#-----------构造距离提取算子--------------------\n",
    "hd = cv2.createHausdorffDistanceExtractor()\n",
    "#-----------计算距离--------------------\n",
    "d1 = hd.computeDistance(cnt1,cnt1)\n",
    "print(\"自身Hausdorff距离d1=\", d1)\n",
    "d2 = hd.computeDistance(cnt1,cnt2)\n",
    "print(\"旋转缩放后Hausdorff距离d2=\", d2)\n",
    "d3 = hd.computeDistance(cnt1,cnt3)\n",
    "print(\"不相似对象Hausdorff距离d3=\", d3)\n",
    "#-----------显示距离--------------------\n",
    "cv2.waitKey()\n",
    "cv2.destroyAllWindows()"
   ]
  },
  {
   "cell_type": "markdown",
   "metadata": {},
   "source": [
    "# 轮廓的特征值\n",
    "## 宽高比"
   ]
  },
  {
   "cell_type": "code",
   "execution_count": null,
   "metadata": {},
   "outputs": [],
   "source": [
    "o = cv2.imread('./images/cc.bmp')  \n",
    "cv2.imshow(\"original\",o)\n",
    "gray = cv2.cvtColor(o,cv2.COLOR_BGR2GRAY)  \n",
    "ret, binary = cv2.threshold(gray,127,255,cv2.THRESH_BINARY)  \n",
    "contours, hierarchy = cv2.findContours(binary,\n",
    "                                             cv2.RETR_LIST,\n",
    "                                             cv2.CHAIN_APPROX_SIMPLE)  \n",
    "x,y,w,h = cv2.boundingRect(contours[0])\n",
    "cv2.rectangle(o,(x,y),(x+w,y+h),(255,255,255),3)\n",
    "aspectRatio = float(w)/h\n",
    "print(aspectRatio)\n",
    "cv2.imshow(\"result\",o)\n",
    "cv2.waitKey()\n",
    "cv2.destroyAllWindows()"
   ]
  },
  {
   "cell_type": "markdown",
   "metadata": {},
   "source": [
    "## Extent\n",
    "可以使用轮廓面积与矩形边界（矩形包围框、矩形轮廓）面积之比Extend来描述图像及其轮廓特征。"
   ]
  },
  {
   "cell_type": "code",
   "execution_count": null,
   "metadata": {},
   "outputs": [],
   "source": [
    "o = cv2.imread('./images/cc.bmp')  \n",
    "cv2.imshow(\"original\",o)\n",
    "gray = cv2.cvtColor(o,cv2.COLOR_BGR2GRAY)  \n",
    "ret, binary = cv2.threshold(gray,127,255,cv2.THRESH_BINARY)  \n",
    "contours, hierarchy = cv2.findContours(binary,\n",
    "                                             cv2.RETR_LIST,\n",
    "                                             cv2.CHAIN_APPROX_SIMPLE)  \n",
    "x,y,w,h = cv2.boundingRect(contours[0])\n",
    "cv2.drawContours(o,contours[0],-1,(0,0,255),3) \n",
    "cv2.rectangle(o,(x,y),(x+w,y+h),(255,0,0),3)\n",
    "rectArea=w*h\n",
    "cntArea=cv2.contourArea(contours[0])\n",
    "extend=float(cntArea)/rectArea\n",
    "print(extend)\n",
    "cv2.imshow(\"result\",o)\n",
    "cv2.waitKey()\n",
    "cv2.destroyAllWindows()"
   ]
  },
  {
   "cell_type": "markdown",
   "metadata": {},
   "source": [
    "## Solidity\n",
    "可以使用轮廓面积与凸包面积之比Solidity来衡量图像、轮廓及凸包的特征。"
   ]
  },
  {
   "cell_type": "code",
   "execution_count": null,
   "metadata": {},
   "outputs": [],
   "source": [
    "o = cv2.imread('./images/hand.bmp')  \n",
    "cv2.imshow(\"original\",o)\n",
    "gray = cv2.cvtColor(o,cv2.COLOR_BGR2GRAY)  \n",
    "ret, binary = cv2.threshold(gray,127,255,cv2.THRESH_BINARY)  \n",
    "contours, hierarchy = cv2.findContours(binary,cv2.RETR_LIST,cv2.CHAIN_APPROX_SIMPLE)  \n",
    "cv2.drawContours(o,contours[0],-1,(0,0,255),3) \n",
    "cntArea=cv2.contourArea(contours[0])\n",
    "hull = cv2.convexHull(contours[0])\n",
    "hullArea = cv2.contourArea(hull)\n",
    "cv2.polylines(o, [hull], True, (0, 255, 0), 2)\n",
    "solidity=float(cntArea)/hullArea\n",
    "print(solidity)\n",
    "cv2.imshow(\"result\",o)\n",
    "cv2.waitKey()\n",
    "cv2.destroyAllWindows()"
   ]
  },
  {
   "cell_type": "markdown",
   "metadata": {},
   "source": [
    "## 等效直径（Equivalent Diameter）\n",
    "可以用等效直径来衡量轮廓的特征值，该值是与轮廓面积相等的圆形的直径"
   ]
  },
  {
   "cell_type": "code",
   "execution_count": null,
   "metadata": {},
   "outputs": [],
   "source": [
    "o = cv2.imread('./images/cc.bmp')  \n",
    "cv2.imshow(\"original\",o)\n",
    "gray = cv2.cvtColor(o,cv2.COLOR_BGR2GRAY)  \n",
    "ret, binary = cv2.threshold(gray,127,255,cv2.THRESH_BINARY)  \n",
    "contours, hierarchy = cv2.findContours(binary,\n",
    "                                             cv2.RETR_LIST,\n",
    "                                             cv2.CHAIN_APPROX_SIMPLE)  \n",
    "cv2.drawContours(o,contours[0],-1,(0,0,255),3) \n",
    "cntArea=cv2.contourArea(contours[0])\n",
    "equiDiameter = np.sqrt(4*cntArea/np.pi)\n",
    "print(equiDiameter)\n",
    "cv2.circle(o,(100,100),int(equiDiameter/2),(0,0,255),3) #展示等直径大小的圆\n",
    "cv2.imshow(\"result\",o)\n",
    "cv2.waitKey()\n",
    "cv2.destroyAllWindows()\n"
   ]
  },
  {
   "cell_type": "markdown",
   "metadata": {},
   "source": [
    "## 方向\n",
    "在OpenCV中，函数`cv2.fitEllipse()`可以用来构造最优拟合椭圆，还可以在返回值内分别返回椭圆的中心点、轴长、旋转角度等信息。使用这种形式，能够更直观地获取椭圆的方向等信息。"
   ]
  },
  {
   "cell_type": "code",
   "execution_count": null,
   "metadata": {},
   "outputs": [],
   "source": [
    "o = cv2.imread('./images/cc.bmp')\n",
    "cv2.imshow(\"original\",o)  \n",
    "gray = cv2.cvtColor(o,cv2.COLOR_BGR2GRAY)  \n",
    "ret, binary = cv2.threshold(gray,127,255,cv2.THRESH_BINARY)  \n",
    "contours, hierarchy = cv2.findContours(binary,\n",
    "                                             cv2.RETR_LIST,\n",
    "                                             cv2.CHAIN_APPROX_SIMPLE)  \n",
    "ellipse = cv2.fitEllipse(contours[0])\n",
    "retval=cv2.fitEllipse(contours[0])\n",
    "print(\"单个返回值形式：\")\n",
    "print(\"retval=\\n\",retval)\n",
    "(x,y),(MA,ma),angle = cv2.fitEllipse(contours[0])\n",
    "print(\"三个返回值形式：\")\n",
    "print(\"(x,y)=(\",x,y,\")\")\n",
    "print(\"(MA,ma)=(\",MA,ma,\")\")\n",
    "print(\"angle=\",angle)\n",
    "cv2.ellipse(o,ellipse,(0,0,255),2)\n",
    "cv2.imshow(\"result\",o)\n",
    "cv2.waitKey()\n",
    "cv2.destroyAllWindows()"
   ]
  },
  {
   "cell_type": "markdown",
   "metadata": {},
   "source": [
    "## 掩模和像素点\n",
    "### 使用Numpy函数获取轮廓像素点"
   ]
  },
  {
   "cell_type": "code",
   "execution_count": null,
   "metadata": {},
   "outputs": [],
   "source": [
    "#------------生成一个都是0值的a-------------------\n",
    "a=np.zeros((5,5),dtype=np.uint8)\n",
    "#-------随机将其中10个位置上的数值设置为1------------\n",
    "#---times控制次数\n",
    "#---i,j是随机生成的行、列位置\n",
    "#---a[i,j]=1,将随机挑选出来的位置上的值设置为1\n",
    "for times in range(10):\n",
    "    i=np.random.randint(0,5)\n",
    "    j=np.random.randint(0,5)\n",
    "    a[i,j]=1\n",
    "#-------打印a，观察a内值的情况-----------\n",
    "print(\"a=\\n\",a)\n",
    "#------查找a内非零值的位置信息------------\n",
    "loc=np.transpose(np.nonzero(a))\n",
    "#-----将a内非零值的位置信息输出------------\n",
    "print(\"a内非零值位置:\\n\",loc)"
   ]
  },
  {
   "cell_type": "code",
   "execution_count": null,
   "metadata": {},
   "outputs": [],
   "source": [
    "#-----------------读取原始图像----------------------\n",
    "o = cv2.imread('./images/cc.bmp')  \n",
    "cv2.imshow(\"original\",o)\n",
    "#-----------------获取轮廓------------------------\n",
    "gray = cv2.cvtColor(o,cv2.COLOR_BGR2GRAY)  \n",
    "ret, binary = cv2.threshold(gray,127,255,cv2.THRESH_BINARY)  \n",
    "contours, hierarchy = cv2.findContours(binary,\n",
    "                                             cv2.RETR_LIST,\n",
    "                                             cv2.CHAIN_APPROX_SIMPLE)  \n",
    "cnt=contours[0]\n",
    "#-----------------绘制空心轮廓------------------------\n",
    "mask1 = np.zeros(gray.shape,np.uint8)\n",
    "cv2.drawContours(mask1,[cnt],0,255,2)\n",
    "pixelpoints1 = np.transpose(np.nonzero(mask1))\n",
    "print(\"pixelpoints1.shape=\",pixelpoints1.shape)\n",
    "print(\"pixelpoints1=\\n\",pixelpoints1)\n",
    "cv2.imshow(\"mask1\",mask1)\n",
    "#-----------------绘制实心轮廓---------------------\n",
    "mask2 = np.zeros(gray.shape,np.uint8)\n",
    "cv2.drawContours(mask2,[cnt],0,255,-1)\n",
    "pixelpoints2 = np.transpose(np.nonzero(mask2))\n",
    "print(\"pixelpoints2.shape=\",pixelpoints2.shape)\n",
    "print(\"pixelpoints2=\\n\",pixelpoints2)\n",
    "cv2.imshow(\"mask2\",mask2)\n",
    "#-----------------释放窗口------------------------\n",
    "cv2.waitKey()\n",
    "cv2.destroyAllWindows()"
   ]
  },
  {
   "cell_type": "markdown",
   "metadata": {},
   "source": [
    "### 使用OpenCV函数获取轮廓点\n",
    "OpenCV提供了函数`cv2.findNonZero()`用于查找非零元素的索引。"
   ]
  },
  {
   "cell_type": "code",
   "execution_count": null,
   "metadata": {},
   "outputs": [],
   "source": [
    "#------------生成一个都是0值的a-------------------\n",
    "a=np.zeros((5,5),dtype=np.uint8)\n",
    "#-------随机将其中10个位置上的数值设置为1------------\n",
    "#---times控制次数\n",
    "#---i,j是随机生成的行、列位置\n",
    "#---a[i,j]=1,将随机挑选出来的位置上的值设置为1\n",
    "for times in range(10):\n",
    "    i=np.random.randint(0,5)\n",
    "    j=np.random.randint(0,5)\n",
    "    a[i,j]=1\n",
    "#-------打印a，观察a内值的情况-----------\n",
    "print(\"a=\\n\",a)\n",
    "#------查找a内非零值的位置信息------------\n",
    "loc = cv2.findNonZero(a)\n",
    "#-----将a内非零值的位置信息输出------------\n",
    "print(\"a内非零值位置:\\n\",loc)"
   ]
  },
  {
   "cell_type": "code",
   "execution_count": null,
   "metadata": {},
   "outputs": [],
   "source": [
    "o = cv2.imread('./images/cc.bmp')  \n",
    "cv2.imshow(\"original\",o)\n",
    "#-----------------获取轮廓------------------------\n",
    "gray = cv2.cvtColor(o,cv2.COLOR_BGR2GRAY)  \n",
    "ret, binary = cv2.threshold(gray,127,255,cv2.THRESH_BINARY)  \n",
    "contours, hierarchy = cv2.findContours(binary,\n",
    "                                             cv2.RETR_LIST,\n",
    "                                             cv2.CHAIN_APPROX_SIMPLE)  \n",
    "cnt=contours[0]\n",
    "#-----------------绘制空心轮廓------------------------\n",
    "mask1 = np.zeros(gray.shape,np.uint8)\n",
    "cv2.drawContours(mask1,[cnt],0,255,2)\n",
    "pixelpoints1 = cv2.findNonZero(mask1)\n",
    "print(\"pixelpoints1.shape=\",pixelpoints1.shape)\n",
    "print(\"pixelpoints1=\\n\",pixelpoints1)\n",
    "cv2.imshow(\"mask1\",mask1)\n",
    "#-----------------绘制实心轮廓---------------------\n",
    "mask2 = np.zeros(gray.shape,np.uint8)\n",
    "cv2.drawContours(mask2,[cnt],0,255,-1)\n",
    "pixelpoints2 = cv2.findNonZero(mask2)\n",
    "print(\"pixelpoints2.shape=\",pixelpoints2.shape)\n",
    "print(\"pixelpoints2=\\n\",pixelpoints2)\n",
    "cv2.imshow(\"mask2\",mask2)\n",
    "#-----------------释放窗口------------------------\n",
    "cv2.waitKey()\n",
    "cv2.destroyAllWindows()"
   ]
  },
  {
   "cell_type": "markdown",
   "metadata": {},
   "source": [
    "## 最大值和最小值及它们的位置\n",
    "OpenCV提供了函数`cv2.minMaxLoc()`，用于在指定的对象内查找最大值、最小值及其位置。"
   ]
  },
  {
   "cell_type": "code",
   "execution_count": null,
   "metadata": {},
   "outputs": [],
   "source": [
    "o = cv2.imread('./images/ct.png')  \n",
    "cv2.imshow(\"original\",o)\n",
    "gray = cv2.cvtColor(o,cv2.COLOR_BGR2GRAY)  \n",
    "ret, binary = cv2.threshold(gray,127,255,cv2.THRESH_BINARY)  \n",
    "contours, hierarchy = cv2.findContours(binary,\n",
    "                                             cv2.RETR_LIST,\n",
    "                                             cv2.CHAIN_APPROX_SIMPLE)  \n",
    "cnt=contours[2]   #coutours[0]、coutours[1]是左侧字母R\n",
    "#--------使用掩膜获取感兴趣区域的最值-----------------\n",
    "#需要注意minMaxLoc处理的对象为灰度图像，本例中处理对象为灰度图像gray\n",
    "#如果希望获取彩色图像的，需要提取各个通道，将每个通道独立计算最值\n",
    "mask = np.zeros(gray.shape,np.uint8)\n",
    "mask=cv2.drawContours(mask,[cnt],-1,255,-1)   \n",
    "minVal, maxVal, minLoc, maxLoc = cv2.minMaxLoc(gray,mask = mask)\n",
    "print(\"minVal=\",minVal)\n",
    "print(\"maxVal=\",maxVal)\n",
    "print(\"minLoc=\",minLoc)\n",
    "print(\"maxLoc=\",maxLoc)\n",
    "#--------使用掩膜获取感兴趣区域并显示-----------------\n",
    "masko = np.zeros(o.shape,np.uint8)\n",
    "masko=cv2.drawContours(masko,[cnt],-1,(255,255,255),-1)\n",
    "loc=cv2.bitwise_and(o,masko) \n",
    "cv2.imshow(\"mask\",loc)\n",
    "#显示灰度结果\n",
    "#loc=cv2.bitwise_and(gray,mask) \n",
    "#cv2.imshow(\"mask\",loc)\n",
    "#--------释放窗口-----------------\n",
    "cv2.waitKey()\n",
    "cv2.destroyAllWindows()"
   ]
  },
  {
   "cell_type": "markdown",
   "metadata": {},
   "source": [
    "## 平均颜色及平均灰度\n",
    "OpenCV提供了函数`cv2.mean()`，用于计算一个对象的平均颜色或平均灰度。"
   ]
  },
  {
   "cell_type": "code",
   "execution_count": null,
   "metadata": {},
   "outputs": [],
   "source": [
    "#--------读取并显示原始图像-----------------\n",
    "o = cv2.imread('./images/ct.png')  \n",
    "cv2.imshow(\"original\",o)\n",
    "#--------获取轮廓-----------------\n",
    "gray = cv2.cvtColor(o,cv2.COLOR_BGR2GRAY)  \n",
    "ret, binary = cv2.threshold(gray,127,255,cv2.THRESH_BINARY)  \n",
    "contours, hierarchy = cv2.findContours(binary,\n",
    "                                             cv2.RETR_LIST,\n",
    "                                             cv2.CHAIN_APPROX_SIMPLE)  \n",
    "cnt=contours[2] \n",
    "#--------使用掩膜获取感兴趣区域的均值----------------- \n",
    "mask = np.zeros(gray.shape,np.uint8)#构造mean所使用的掩膜，必须是单通道的\n",
    "cv2.drawContours(mask,[cnt],0,(255,255,255),-1)\n",
    "meanVal = cv2.mean(o,mask = mask)  #mask是区域，所以必须是单通道的\n",
    "print(\"meanVal=\\n\",meanVal)\n",
    "#--------使用掩膜获取感兴趣区域并显示-----------------\n",
    "masko = np.zeros(o.shape,np.uint8)\n",
    "cv2.drawContours(masko,[cnt],-1,(255,255,255),-1)\n",
    "loc=cv2.bitwise_and(o,masko)\n",
    "cv2.imshow(\"mask\",loc)\n",
    "#--------释放窗口-----------------\n",
    "cv2.waitKey()\n",
    "cv2.destroyAllWindows()"
   ]
  },
  {
   "cell_type": "markdown",
   "metadata": {},
   "source": [
    "## 极点\n",
    "有时，我们希望获取某个对象内的极值点，例如最左端、最右端、最上端、最下端的四个点。"
   ]
  },
  {
   "cell_type": "code",
   "execution_count": null,
   "metadata": {},
   "outputs": [],
   "source": [
    "o = cv2.imread('./images/cs.bmp')  \n",
    "#--------获取并绘制轮廓-----------------\n",
    "gray = cv2.cvtColor(o,cv2.COLOR_BGR2GRAY)  \n",
    "ret, binary = cv2.threshold(gray,127,255,cv2.THRESH_BINARY)  \n",
    "contours, hierarchy = cv2.findContours(binary,cv2.RETR_LIST,cv2.CHAIN_APPROX_SIMPLE)  \n",
    "mask = np.zeros(gray.shape,np.uint8)\n",
    "cnt=contours[0] \n",
    "cv2.drawContours(mask,[cnt],0,255,-1)\n",
    "#--------计算极值----------------- \n",
    "leftmost = tuple(cnt[cnt[:,:,0].argmin()][0])\n",
    "rightmost = tuple(cnt[cnt[:,:,0].argmax()][0])\n",
    "topmost = tuple(cnt[cnt[:,:,1].argmin()][0])\n",
    "bottommost = tuple(cnt[cnt[:,:,1].argmax()][0])\n",
    "#--------计算极值----------------- \n",
    "print(\"leftmost=\",leftmost)\n",
    "print(\"rightmost=\",rightmost)\n",
    "print(\"topmost=\",topmost)\n",
    "print(\"bottommost=\",bottommost)\n",
    "#--------绘制说明文字----------------- \n",
    "font=cv2.FONT_HERSHEY_SIMPLEX\n",
    "cv2.putText(o,'A',leftmost, font, 1,(0,0,255),2)\n",
    "cv2.putText(o,'B',rightmost, font, 1,(0,0,255),2)\n",
    "cv2.putText(o,'C',topmost, font, 1,(0,0,255),2)\n",
    "cv2.putText(o,'D',bottommost, font, 1,(0,0,255),2)\n",
    "#--------绘制图像----------------- \n",
    "cv2.imshow(\"result\",o)\n",
    "#--------释放窗口----------------- \n",
    "cv2.waitKey()\n",
    "cv2.destroyAllWindows()"
   ]
  }
 ],
 "metadata": {
  "interpreter": {
   "hash": "b636742cd7447c915110da4af08d48b478a44c23413a0d42f0e6f825f6094b71"
  },
  "kernelspec": {
   "display_name": "Python 3.9.7 64-bit ('taocv': conda)",
   "name": "python3"
  },
  "language_info": {
   "codemirror_mode": {
    "name": "ipython",
    "version": 3
   },
   "file_extension": ".py",
   "mimetype": "text/x-python",
   "name": "python",
   "nbconvert_exporter": "python",
   "pygments_lexer": "ipython3",
   "version": "3.9.7"
  },
  "orig_nbformat": 4
 },
 "nbformat": 4,
 "nbformat_minor": 2
}
